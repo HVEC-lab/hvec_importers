{
 "cells": [
  {
   "cell_type": "code",
   "execution_count": 2,
   "metadata": {},
   "outputs": [],
   "source": [
    "import hvec_importers.rws as rws\n",
    "import requests\n",
    "import io\n",
    "import pandas as pd"
   ]
  },
  {
   "cell_type": "code",
   "execution_count": 3,
   "metadata": {},
   "outputs": [
    {
     "data": {
      "text/plain": [
       "{'collect_catalogue': {'name': 'OphalenCatalogus',\n",
       "  'url': 'https://waterwebservices.rijkswaterstaat.nl/METADATASERVICES_DBO/OphalenCatalogus',\n",
       "  'type': 'POST',\n",
       "  'request': {'CatalogusFilter': {'Eenheden': True,\n",
       "    'Grootheden': True,\n",
       "    'Hoedanigheden': True,\n",
       "    'Parameters': True,\n",
       "    'Compartimenten': True}}},\n",
       " 'collect_observations': {'name': 'OphalenWaarnemingen',\n",
       "  'url': 'https://waterwebservices.rijkswaterstaat.nl/ONLINEWAARNEMINGENSERVICES_DBO/OphalenWaarnemingen',\n",
       "  'type': 'POST',\n",
       "  '_comment': 'Make sure you specify the request location to the exact number of decimals and the time in the exact format (same number of zeros).',\n",
       "  'request': {'Locatie': {'X': 761899.770959577,\n",
       "    'Y': 5915790.48491405,\n",
       "    'Code': 'DELFZL'},\n",
       "   'AquoPlusWaarnemingMetadata': {'AquoMetadata': {'Eenheid': {'Code': 'cm'},\n",
       "     'Grootheid': {'Code': 'WATHTE'},\n",
       "     'Hoedanigheid': {'Code': 'NAP'}}},\n",
       "   'Periode': {'Einddatumtijd': '2012-01-27T09:30:00.000+01:00',\n",
       "    'Begindatumtijd': '2012-01-27T09:00:00.000+01:00'}}},\n",
       " 'collect_latest_observations': {'name': 'OphalenLaatsteWaarnemingen',\n",
       "  'url': 'https://waterwebservices.rijkswaterstaat.nl/ONLINEWAARNEMINGENSERVICES_DBO/OphalenLaatsteWaarnemingen',\n",
       "  'type': 'POST',\n",
       "  '_comment': 'Make sre you specify the request location to the exact number of decimals.',\n",
       "  'request': {'AquoPlusWaarnemingMetadataLijst': [{'AquoMetadata': {'Compartiment': {'Code': 'OW'},\n",
       "      'Eenheid': {'Code': 'cm'},\n",
       "      'Grootheid': {'Code': 'H1/3'}}}],\n",
       "   'LocatieLijst': [{'X': 518882.333320247,\n",
       "     'Y': 5760829.11729589,\n",
       "     'Code': 'EURPFM'}]}},\n",
       " 'check_observations_available': {'name': 'CheckWaarnemingenAanwezig',\n",
       "  'url': 'https://waterwebservices.rijkswaterstaat.nl/ONLINEWAARNEMINGENSERVICES_DBO/CheckWaarnemingenAanwezig',\n",
       "  'type': 'POST',\n",
       "  '_comment': 'Make sure you specify the request location to the exact number of decimals and the time in the exact format (samen number of zeros).',\n",
       "  'request': {'AquoMetadataLijst': [{'Compartiment': {'Code': 'OW'},\n",
       "     'Eenheid': {'Code': 'cm'}}],\n",
       "   'LocatieLijst': [{'X': 518882.333320247,\n",
       "     'Y': 5760829.11729589,\n",
       "     'Code': 'EURPFM'}],\n",
       "   'Periode': {'Begindatumtijd': '2012-01-16T14:00:00.000+01:00',\n",
       "    'Einddatumtijd': '2012-01-16T16:00:00.000+01:00'}}},\n",
       " 'collect_number_of_observations': {'name': 'OphalenAantalWaarnemingen',\n",
       "  'url': 'https://waterwebservices.rijkswaterstaat.nl/ONLINEWAARNEMINGENSERVICES_DBO/OphalenAantalWaarnemingen',\n",
       "  'type': 'POST',\n",
       "  'request': {'AquoMetadataLijst': [{'Compartiment': {'Code': 'OW'},\n",
       "     'Eenheid': {'Code': 'cm'}}],\n",
       "   'Groeperingsperiode': 'Week',\n",
       "   'LocatieLijst': [{'X': 518882.333320247,\n",
       "     'Y': 5760829.11729589,\n",
       "     'Code': 'EURPFM'}],\n",
       "   'Periode': {'Begindatumtijd': '2012-01-16T14:00:00.000+01:00',\n",
       "    'Einddatumtijd': '2012-01-16T16:00:00.000+01:00'}}},\n",
       " 'request_bulk_observations': {'name': 'AanvragenBulkWaarnemingen',\n",
       "  'url': 'https://waterwebservices.rijkswaterstaat.nl/BULKWAARNEMINGSERVICES_DBO/AanvragenBulkWaarnemingen',\n",
       "  'type': 'POST',\n",
       "  '_comment': 'Make sure you specify the request location to the exact number of decimals and the time in the exact format (same number of zeros).',\n",
       "  'request': {'Zoekvraag': {'AquoMetadataLijst': [{'Grootheid': {'Code': 'H1/3'},\n",
       "      'Eenheid': {'Code': 'cm'}},\n",
       "     {'Compartiment': {'Code': 'OW'},\n",
       "      'Eenheid': {'Code': '%'},\n",
       "      'Grootheid': {'Code': 'VERDGGD'},\n",
       "      'Parameter': {'Code': 'O2'}},\n",
       "     {'Compartiment': {'Code': 'OW'},\n",
       "      'Eenheid': {'Code': 'mg/l'},\n",
       "      'Parameter': {'Code': 'O2'}}],\n",
       "    'LocatieLijst': [{'X': 742469.913149676,\n",
       "      'Y': 5940708.14824459,\n",
       "      'Code': 'HUIBGOT'},\n",
       "     {'X': 595875.376191307, 'Y': 5790952.82210343, 'Code': 'NOORDWK2'},\n",
       "     {'X': 571670.054611366, 'Y': 5822651.05560318, 'Code': 'IJMDMNTSPS'}],\n",
       "    'Periode': {'Begindatumtijd': '2009-01-01T00:00:00.000+01:00',\n",
       "     'Einddatumtijd': '2011-12-31T23:59:59.999+01:00'}}}}}"
      ]
     },
     "execution_count": 3,
     "metadata": {},
     "output_type": "execute_result"
    }
   ],
   "source": [
    "rws.ENDPOINTS"
   ]
  },
  {
   "cell_type": "code",
   "execution_count": 4,
   "metadata": {},
   "outputs": [],
   "source": [
    "endpoint = rws.ENDPOINTS['collect_catalogue']"
   ]
  },
  {
   "cell_type": "code",
   "execution_count": 5,
   "metadata": {},
   "outputs": [],
   "source": [
    "resp = requests.post(endpoint['url'], json = endpoint['request'], timeout = 60)"
   ]
  },
  {
   "cell_type": "code",
   "execution_count": 7,
   "metadata": {},
   "outputs": [],
   "source": [
    "result = resp.json()"
   ]
  },
  {
   "cell_type": "code",
   "execution_count": 16,
   "metadata": {},
   "outputs": [],
   "source": [
    "ky = list(result.keys())"
   ]
  },
  {
   "cell_type": "code",
   "execution_count": 40,
   "metadata": {},
   "outputs": [
    {
     "name": "stdout",
     "output_type": "stream",
     "text": [
      "AquoMetadataLocatieLijst\n"
     ]
    },
    {
     "data": {
      "text/html": [
       "<div>\n",
       "<style scoped>\n",
       "    .dataframe tbody tr th:only-of-type {\n",
       "        vertical-align: middle;\n",
       "    }\n",
       "\n",
       "    .dataframe tbody tr th {\n",
       "        vertical-align: top;\n",
       "    }\n",
       "\n",
       "    .dataframe thead th {\n",
       "        text-align: right;\n",
       "    }\n",
       "</style>\n",
       "<table border=\"1\" class=\"dataframe\">\n",
       "  <thead>\n",
       "    <tr style=\"text-align: right;\">\n",
       "      <th></th>\n",
       "      <th>AquoMetaData_MessageID</th>\n",
       "      <th>Locatie_MessageID</th>\n",
       "    </tr>\n",
       "  </thead>\n",
       "  <tbody>\n",
       "    <tr>\n",
       "      <th>0</th>\n",
       "      <td>656</td>\n",
       "      <td>21887</td>\n",
       "    </tr>\n",
       "    <tr>\n",
       "      <th>1</th>\n",
       "      <td>656</td>\n",
       "      <td>22116</td>\n",
       "    </tr>\n",
       "    <tr>\n",
       "      <th>2</th>\n",
       "      <td>656</td>\n",
       "      <td>22272</td>\n",
       "    </tr>\n",
       "    <tr>\n",
       "      <th>3</th>\n",
       "      <td>656</td>\n",
       "      <td>22312</td>\n",
       "    </tr>\n",
       "    <tr>\n",
       "      <th>4</th>\n",
       "      <td>646</td>\n",
       "      <td>18007</td>\n",
       "    </tr>\n",
       "    <tr>\n",
       "      <th>...</th>\n",
       "      <td>...</td>\n",
       "      <td>...</td>\n",
       "    </tr>\n",
       "    <tr>\n",
       "      <th>84099</th>\n",
       "      <td>639</td>\n",
       "      <td>20624</td>\n",
       "    </tr>\n",
       "    <tr>\n",
       "      <th>84100</th>\n",
       "      <td>746</td>\n",
       "      <td>24646</td>\n",
       "    </tr>\n",
       "    <tr>\n",
       "      <th>84101</th>\n",
       "      <td>746</td>\n",
       "      <td>24701</td>\n",
       "    </tr>\n",
       "    <tr>\n",
       "      <th>84102</th>\n",
       "      <td>1245</td>\n",
       "      <td>21155</td>\n",
       "    </tr>\n",
       "    <tr>\n",
       "      <th>84103</th>\n",
       "      <td>1424</td>\n",
       "      <td>23879</td>\n",
       "    </tr>\n",
       "  </tbody>\n",
       "</table>\n",
       "<p>84104 rows × 2 columns</p>\n",
       "</div>"
      ],
      "text/plain": [
       "       AquoMetaData_MessageID  Locatie_MessageID\n",
       "0                         656              21887\n",
       "1                         656              22116\n",
       "2                         656              22272\n",
       "3                         656              22312\n",
       "4                         646              18007\n",
       "...                       ...                ...\n",
       "84099                     639              20624\n",
       "84100                     746              24646\n",
       "84101                     746              24701\n",
       "84102                    1245              21155\n",
       "84103                    1424              23879\n",
       "\n",
       "[84104 rows x 2 columns]"
      ]
     },
     "execution_count": 40,
     "metadata": {},
     "output_type": "execute_result"
    }
   ],
   "source": [
    "i = 2\n",
    "print(ky[i])\n",
    "df = pd.json_normalize(result[ky[i]]).drop_duplicates()\n",
    "df"
   ]
  },
  {
   "cell_type": "code",
   "execution_count": null,
   "metadata": {},
   "outputs": [],
   "source": []
  }
 ],
 "metadata": {
  "kernelspec": {
   "display_name": "Python 3.10.4 64-bit",
   "language": "python",
   "name": "python3"
  },
  "language_info": {
   "codemirror_mode": {
    "name": "ipython",
    "version": 3
   },
   "file_extension": ".py",
   "mimetype": "text/x-python",
   "name": "python",
   "nbconvert_exporter": "python",
   "pygments_lexer": "ipython3",
   "version": "3.10.4"
  },
  "orig_nbformat": 4,
  "vscode": {
   "interpreter": {
    "hash": "8f524c5d4fd00a57cf286a859919f18af5e86658323418c29131ee166da378b4"
   }
  }
 },
 "nbformat": 4,
 "nbformat_minor": 2
}
