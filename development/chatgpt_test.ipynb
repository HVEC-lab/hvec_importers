{
 "cells": [
  {
   "cell_type": "code",
   "execution_count": 1,
   "metadata": {},
   "outputs": [],
   "source": [
    "import requests\n",
    "\n",
    "def download_water_level_data(location, start_date, end_date):\n",
    "    \"\"\"\n",
    "    Downloads water level data for a specified location and period from waterinfo.rws.nl.\n",
    "    \n",
    "    Parameters:\n",
    "    location (str): the name or code of the location\n",
    "    start_date (str): the start date of the period in YYYY-MM-DD format\n",
    "    end_date (str): the end date of the period in YYYY-MM-DD format\n",
    "    \n",
    "    Returns:\n",
    "    str: the downloaded data as a string\n",
    "    \"\"\"\n",
    "    url = f\"https://waterinfo.rws.nl/api/point-web-api/v2/timeseries/0000000044/data?start={start_date}T00:00:00Z&end={end_date}T23:59:59Z&timeZoneId=Europe%2FAmsterdam\"\n",
    "    headers = {\n",
    "        \"Referer\": \"https://waterinfo.rws.nl/#!/detail-0/fc06cd1b-d977-4383-99a6-291d6b362bbb/0000000044\",\n",
    "        \"User-Agent\": \"Mozilla/5.0 (Windows NT 10.0; Win64; x64) AppleWebKit/537.36 (KHTML, like Gecko) Chrome/58.0.3029.110 Safari/537.3\"\n",
    "    }\n",
    "    response = requests.get(url, headers=headers)\n",
    "    response.raise_for_status()\n",
    "    return response.text"
   ]
  },
  {
   "cell_type": "code",
   "execution_count": 2,
   "metadata": {},
   "outputs": [
    {
     "ename": "HTTPError",
     "evalue": "404 Client Error: Not Found for url: https://waterinfo.rws.nl/api/point-web-api/v2/timeseries/0000000044/data?start=2021-01-01T00:00:00Z&end=2021-12-31T23:59:59Z&timeZoneId=Europe%2FAmsterdam",
     "output_type": "error",
     "traceback": [
      "\u001b[1;31m---------------------------------------------------------------------------\u001b[0m",
      "\u001b[1;31mHTTPError\u001b[0m                                 Traceback (most recent call last)",
      "Cell \u001b[1;32mIn[2], line 1\u001b[0m\n\u001b[1;32m----> 1\u001b[0m download_water_level_data(\u001b[39m'\u001b[39;49m\u001b[39mHoek van Holland\u001b[39;49m\u001b[39m'\u001b[39;49m, \u001b[39m'\u001b[39;49m\u001b[39m2021-01-01\u001b[39;49m\u001b[39m'\u001b[39;49m, \u001b[39m'\u001b[39;49m\u001b[39m2021-12-31\u001b[39;49m\u001b[39m'\u001b[39;49m)\n",
      "Cell \u001b[1;32mIn[1], line 21\u001b[0m, in \u001b[0;36mdownload_water_level_data\u001b[1;34m(location, start_date, end_date)\u001b[0m\n\u001b[0;32m     16\u001b[0m headers \u001b[39m=\u001b[39m {\n\u001b[0;32m     17\u001b[0m     \u001b[39m\"\u001b[39m\u001b[39mReferer\u001b[39m\u001b[39m\"\u001b[39m: \u001b[39m\"\u001b[39m\u001b[39mhttps://waterinfo.rws.nl/#!/detail-0/fc06cd1b-d977-4383-99a6-291d6b362bbb/0000000044\u001b[39m\u001b[39m\"\u001b[39m,\n\u001b[0;32m     18\u001b[0m     \u001b[39m\"\u001b[39m\u001b[39mUser-Agent\u001b[39m\u001b[39m\"\u001b[39m: \u001b[39m\"\u001b[39m\u001b[39mMozilla/5.0 (Windows NT 10.0; Win64; x64) AppleWebKit/537.36 (KHTML, like Gecko) Chrome/58.0.3029.110 Safari/537.3\u001b[39m\u001b[39m\"\u001b[39m\n\u001b[0;32m     19\u001b[0m }\n\u001b[0;32m     20\u001b[0m response \u001b[39m=\u001b[39m requests\u001b[39m.\u001b[39mget(url, headers\u001b[39m=\u001b[39mheaders)\n\u001b[1;32m---> 21\u001b[0m response\u001b[39m.\u001b[39;49mraise_for_status()\n\u001b[0;32m     22\u001b[0m \u001b[39mreturn\u001b[39;00m response\u001b[39m.\u001b[39mtext\n",
      "File \u001b[1;32mc:\\Users\\Hessel Voortman\\AppData\\Local\\Programs\\Python\\Python311\\Lib\\site-packages\\requests\\models.py:1021\u001b[0m, in \u001b[0;36mResponse.raise_for_status\u001b[1;34m(self)\u001b[0m\n\u001b[0;32m   1016\u001b[0m     http_error_msg \u001b[39m=\u001b[39m (\n\u001b[0;32m   1017\u001b[0m         \u001b[39mf\u001b[39m\u001b[39m\"\u001b[39m\u001b[39m{\u001b[39;00m\u001b[39mself\u001b[39m\u001b[39m.\u001b[39mstatus_code\u001b[39m}\u001b[39;00m\u001b[39m Server Error: \u001b[39m\u001b[39m{\u001b[39;00mreason\u001b[39m}\u001b[39;00m\u001b[39m for url: \u001b[39m\u001b[39m{\u001b[39;00m\u001b[39mself\u001b[39m\u001b[39m.\u001b[39murl\u001b[39m}\u001b[39;00m\u001b[39m\"\u001b[39m\n\u001b[0;32m   1018\u001b[0m     )\n\u001b[0;32m   1020\u001b[0m \u001b[39mif\u001b[39;00m http_error_msg:\n\u001b[1;32m-> 1021\u001b[0m     \u001b[39mraise\u001b[39;00m HTTPError(http_error_msg, response\u001b[39m=\u001b[39m\u001b[39mself\u001b[39m)\n",
      "\u001b[1;31mHTTPError\u001b[0m: 404 Client Error: Not Found for url: https://waterinfo.rws.nl/api/point-web-api/v2/timeseries/0000000044/data?start=2021-01-01T00:00:00Z&end=2021-12-31T23:59:59Z&timeZoneId=Europe%2FAmsterdam"
     ]
    }
   ],
   "source": [
    "download_water_level_data('Hoek van Holland', '2021-01-01', '2021-12-31')"
   ]
  },
  {
   "cell_type": "code",
   "execution_count": null,
   "metadata": {},
   "outputs": [],
   "source": []
  }
 ],
 "metadata": {
  "kernelspec": {
   "display_name": "Python 3",
   "language": "python",
   "name": "python3"
  },
  "language_info": {
   "codemirror_mode": {
    "name": "ipython",
    "version": 3
   },
   "file_extension": ".py",
   "mimetype": "text/x-python",
   "name": "python",
   "nbconvert_exporter": "python",
   "pygments_lexer": "ipython3",
   "version": "3.11.5"
  },
  "orig_nbformat": 4
 },
 "nbformat": 4,
 "nbformat_minor": 2
}
