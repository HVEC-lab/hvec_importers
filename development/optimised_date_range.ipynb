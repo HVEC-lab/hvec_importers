{
 "cells": [
  {
   "cell_type": "code",
   "execution_count": 2,
   "metadata": {},
   "outputs": [],
   "source": [
    "from hvec_importers.rws import communicators as com\n",
    "from hvec_importers.rws import rws\n",
    "from hvec_importers.rws import helpers as hlp\n",
    "from hvec_importers.rws import parsers as parse\n",
    "import dateutil\n",
    "import pandas as pd\n",
    "import requests\n",
    "import warnings\n",
    "import swifter"
   ]
  },
  {
   "cell_type": "code",
   "execution_count": 3,
   "metadata": {},
   "outputs": [
    {
     "data": {
      "text/plain": [
       "90"
      ]
     },
     "execution_count": 3,
     "metadata": {},
     "output_type": "execute_result"
    }
   ],
   "source": [
    "com.TIMEOUT"
   ]
  },
  {
   "attachments": {},
   "cell_type": "markdown",
   "metadata": {},
   "source": [
    "Understanding the raw data structure of data imported from RWS Waterinfo. Goal is to optimise the parsing procedure. The one in ddlpy relies on nested for-loops and is therefore very slow."
   ]
  },
  {
   "attachments": {},
   "cell_type": "markdown",
   "metadata": {},
   "source": [
    "Get some data first. A deep dive in the library is necessary to obtain some raw data to experiment on. Do not try this at home!"
   ]
  },
  {
   "cell_type": "code",
   "execution_count": 4,
   "metadata": {},
   "outputs": [],
   "source": [
    "warnings.simplefilter('ignore')"
   ]
  },
  {
   "cell_type": "code",
   "execution_count": 5,
   "metadata": {},
   "outputs": [],
   "source": [
    "locations = rws.station_list()"
   ]
  },
  {
   "cell_type": "code",
   "execution_count": 24,
   "metadata": {},
   "outputs": [],
   "source": [
    "sel = hlp.create_selection_table(\n",
    "    locations = locations,\n",
    "    name = 'Keeten boei', quantity = 'Hm0')"
   ]
  },
  {
   "cell_type": "code",
   "execution_count": 25,
   "metadata": {},
   "outputs": [
    {
     "data": {
      "text/html": [
       "<div>\n",
       "<style scoped>\n",
       "    .dataframe tbody tr th:only-of-type {\n",
       "        vertical-align: middle;\n",
       "    }\n",
       "\n",
       "    .dataframe tbody tr th {\n",
       "        vertical-align: top;\n",
       "    }\n",
       "\n",
       "    .dataframe thead th {\n",
       "        text-align: right;\n",
       "    }\n",
       "</style>\n",
       "<table border=\"1\" class=\"dataframe\">\n",
       "  <thead>\n",
       "    <tr style=\"text-align: right;\">\n",
       "      <th></th>\n",
       "      <th>Code</th>\n",
       "      <th>Locatie_MessageID</th>\n",
       "      <th>Coordinatenstelsel</th>\n",
       "      <th>X</th>\n",
       "      <th>Y</th>\n",
       "      <th>Naam</th>\n",
       "      <th>Parameter_Wat_Omschrijving</th>\n",
       "      <th>Compartiment.Code</th>\n",
       "      <th>Compartiment.Omschrijving</th>\n",
       "      <th>Eenheid.Code</th>\n",
       "      <th>Eenheid.Omschrijving</th>\n",
       "      <th>Grootheid.Code</th>\n",
       "      <th>Grootheid.Omschrijving</th>\n",
       "      <th>Hoedanigheid.Code</th>\n",
       "      <th>Hoedanigheid.Omschrijving</th>\n",
       "      <th>Parameter.Code</th>\n",
       "      <th>Parameter.Omschrijving</th>\n",
       "      <th>start</th>\n",
       "      <th>end</th>\n",
       "    </tr>\n",
       "  </thead>\n",
       "  <tbody>\n",
       "    <tr>\n",
       "      <th>0</th>\n",
       "      <td>KEET</td>\n",
       "      <td>18022</td>\n",
       "      <td>25831</td>\n",
       "      <td>566845.068456</td>\n",
       "      <td>5.717765e+06</td>\n",
       "      <td>Keeten boei</td>\n",
       "      <td>Significante golfhoogte in het spectrale domei...</td>\n",
       "      <td>OW</td>\n",
       "      <td>Oppervlaktewater</td>\n",
       "      <td>cm</td>\n",
       "      <td>centimeter</td>\n",
       "      <td>Hm0</td>\n",
       "      <td>Significante golfhoogte in het spectrale domein</td>\n",
       "      <td>F003-050</td>\n",
       "      <td>golffrequentie tussen 30 en 500 mHz</td>\n",
       "      <td>NVT</td>\n",
       "      <td>Waarde is niet van toepassing</td>\n",
       "      <td>1800-01-01</td>\n",
       "      <td>2100-12-31</td>\n",
       "    </tr>\n",
       "  </tbody>\n",
       "</table>\n",
       "</div>"
      ],
      "text/plain": [
       "   Code  Locatie_MessageID  Coordinatenstelsel              X             Y  \\\n",
       "0  KEET              18022               25831  566845.068456  5.717765e+06   \n",
       "\n",
       "          Naam                         Parameter_Wat_Omschrijving  \\\n",
       "0  Keeten boei  Significante golfhoogte in het spectrale domei...   \n",
       "\n",
       "  Compartiment.Code Compartiment.Omschrijving Eenheid.Code  \\\n",
       "0                OW          Oppervlaktewater           cm   \n",
       "\n",
       "  Eenheid.Omschrijving Grootheid.Code  \\\n",
       "0           centimeter            Hm0   \n",
       "\n",
       "                            Grootheid.Omschrijving Hoedanigheid.Code  \\\n",
       "0  Significante golfhoogte in het spectrale domein          F003-050   \n",
       "\n",
       "             Hoedanigheid.Omschrijving Parameter.Code  \\\n",
       "0  golffrequentie tussen 30 en 500 mHz            NVT   \n",
       "\n",
       "          Parameter.Omschrijving       start         end  \n",
       "0  Waarde is niet van toepassing  1800-01-01  2100-12-31  "
      ]
     },
     "execution_count": 25,
     "metadata": {},
     "output_type": "execute_result"
    }
   ],
   "source": [
    "sel"
   ]
  },
  {
   "cell_type": "code",
   "execution_count": 26,
   "metadata": {},
   "outputs": [],
   "source": [
    "code = 'KEET'\n",
    "sel = sel.query('Code == @code')"
   ]
  },
  {
   "cell_type": "code",
   "execution_count": 28,
   "metadata": {},
   "outputs": [],
   "source": [
    "start = dateutil.parser.parse('1680-01-01')\n",
    "end = dateutil.parser.parse('2022-1-3')"
   ]
  },
  {
   "cell_type": "code",
   "execution_count": 29,
   "metadata": {},
   "outputs": [
    {
     "data": {
      "text/html": [
       "<div>\n",
       "<style scoped>\n",
       "    .dataframe tbody tr th:only-of-type {\n",
       "        vertical-align: middle;\n",
       "    }\n",
       "\n",
       "    .dataframe tbody tr th {\n",
       "        vertical-align: top;\n",
       "    }\n",
       "\n",
       "    .dataframe thead th {\n",
       "        text-align: right;\n",
       "    }\n",
       "</style>\n",
       "<table border=\"1\" class=\"dataframe\">\n",
       "  <thead>\n",
       "    <tr style=\"text-align: right;\">\n",
       "      <th></th>\n",
       "      <th>Code</th>\n",
       "      <th>Locatie_MessageID</th>\n",
       "      <th>Coordinatenstelsel</th>\n",
       "      <th>X</th>\n",
       "      <th>Y</th>\n",
       "      <th>Naam</th>\n",
       "      <th>Parameter_Wat_Omschrijving</th>\n",
       "      <th>Compartiment.Code</th>\n",
       "      <th>Compartiment.Omschrijving</th>\n",
       "      <th>Eenheid.Code</th>\n",
       "      <th>Eenheid.Omschrijving</th>\n",
       "      <th>Grootheid.Code</th>\n",
       "      <th>Grootheid.Omschrijving</th>\n",
       "      <th>Hoedanigheid.Code</th>\n",
       "      <th>Hoedanigheid.Omschrijving</th>\n",
       "      <th>Parameter.Code</th>\n",
       "      <th>Parameter.Omschrijving</th>\n",
       "      <th>start</th>\n",
       "      <th>end</th>\n",
       "    </tr>\n",
       "  </thead>\n",
       "  <tbody>\n",
       "    <tr>\n",
       "      <th>0</th>\n",
       "      <td>KEET</td>\n",
       "      <td>18022</td>\n",
       "      <td>25831</td>\n",
       "      <td>566845.068456</td>\n",
       "      <td>5.717765e+06</td>\n",
       "      <td>Keeten boei</td>\n",
       "      <td>Significante golfhoogte in het spectrale domei...</td>\n",
       "      <td>OW</td>\n",
       "      <td>Oppervlaktewater</td>\n",
       "      <td>cm</td>\n",
       "      <td>centimeter</td>\n",
       "      <td>Hm0</td>\n",
       "      <td>Significante golfhoogte in het spectrale domein</td>\n",
       "      <td>F003-050</td>\n",
       "      <td>golffrequentie tussen 30 en 500 mHz</td>\n",
       "      <td>NVT</td>\n",
       "      <td>Waarde is niet van toepassing</td>\n",
       "      <td>1800-01-01</td>\n",
       "      <td>2100-12-31</td>\n",
       "    </tr>\n",
       "  </tbody>\n",
       "</table>\n",
       "</div>"
      ],
      "text/plain": [
       "   Code  Locatie_MessageID  Coordinatenstelsel              X             Y  \\\n",
       "0  KEET              18022               25831  566845.068456  5.717765e+06   \n",
       "\n",
       "          Naam                         Parameter_Wat_Omschrijving  \\\n",
       "0  Keeten boei  Significante golfhoogte in het spectrale domei...   \n",
       "\n",
       "  Compartiment.Code Compartiment.Omschrijving Eenheid.Code  \\\n",
       "0                OW          Oppervlaktewater           cm   \n",
       "\n",
       "  Eenheid.Omschrijving Grootheid.Code  \\\n",
       "0           centimeter            Hm0   \n",
       "\n",
       "                            Grootheid.Omschrijving Hoedanigheid.Code  \\\n",
       "0  Significante golfhoogte in het spectrale domein          F003-050   \n",
       "\n",
       "             Hoedanigheid.Omschrijving Parameter.Code  \\\n",
       "0  golffrequentie tussen 30 en 500 mHz            NVT   \n",
       "\n",
       "          Parameter.Omschrijving       start         end  \n",
       "0  Waarde is niet van toepassing  1800-01-01  2100-12-31  "
      ]
     },
     "execution_count": 29,
     "metadata": {},
     "output_type": "execute_result"
    }
   ],
   "source": [
    "sel"
   ]
  },
  {
   "cell_type": "code",
   "execution_count": 30,
   "metadata": {},
   "outputs": [],
   "source": [
    "CHUNK = 8"
   ]
  },
  {
   "cell_type": "code",
   "execution_count": 31,
   "metadata": {},
   "outputs": [],
   "source": [
    "starts = pd.date_range(start, end, freq = f'{CHUNK}MS').to_pydatetime()"
   ]
  },
  {
   "cell_type": "code",
   "execution_count": 33,
   "metadata": {},
   "outputs": [],
   "source": [
    "ends = starts + dateutil.relativedelta.relativedelta(months = CHUNK, days = -1)"
   ]
  },
  {
   "cell_type": "code",
   "execution_count": null,
   "metadata": {},
   "outputs": [],
   "source": []
  },
  {
   "cell_type": "code",
   "execution_count": 16,
   "metadata": {},
   "outputs": [],
   "source": [
    "def range_from_boolean():\n",
    "    session = requests.session()\n",
    "    range = []\n",
    "    for (strt, nd) in list(zip(starts, ends)):\n",
    "        data_present = com.assert_data_available(sel, strt, nd, session)\n",
    "        if data_present:\n",
    "            range.append(list(zip([strt], [nd])))\n",
    "    return range"
   ]
  },
  {
   "cell_type": "code",
   "execution_count": 35,
   "metadata": {},
   "outputs": [
    {
     "data": {
      "text/plain": [
       "[[(datetime.datetime(2020, 9, 1, 0, 0), datetime.datetime(2021, 4, 30, 0, 0))],\n",
       " [(datetime.datetime(2021, 5, 1, 0, 0),\n",
       "   datetime.datetime(2021, 12, 31, 0, 0))],\n",
       " [(datetime.datetime(2022, 1, 1, 0, 0), datetime.datetime(2022, 8, 31, 0, 0))]]"
      ]
     },
     "execution_count": 35,
     "metadata": {},
     "output_type": "execute_result"
    }
   ],
   "source": [
    "range_from_boolean()"
   ]
  },
  {
   "cell_type": "code",
   "execution_count": null,
   "metadata": {},
   "outputs": [],
   "source": []
  }
 ],
 "metadata": {
  "kernelspec": {
   "display_name": "Python 3",
   "language": "python",
   "name": "python3"
  },
  "language_info": {
   "codemirror_mode": {
    "name": "ipython",
    "version": 3
   },
   "file_extension": ".py",
   "mimetype": "text/x-python",
   "name": "python",
   "nbconvert_exporter": "python",
   "pygments_lexer": "ipython3",
   "version": "3.11.1"
  },
  "orig_nbformat": 4,
  "vscode": {
   "interpreter": {
    "hash": "05ad6e141627109892faf34bd2f02470890fd16d41ae8a47c3d98a356d7605c5"
   }
  }
 },
 "nbformat": 4,
 "nbformat_minor": 2
}
