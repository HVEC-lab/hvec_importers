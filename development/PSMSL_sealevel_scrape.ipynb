{
 "cells": [
  {
   "cell_type": "markdown",
   "metadata": {},
   "source": [
    "<figure>\n",
    "    <IMG SRC=\"./pics/Logo.png\"  WIDTH=300 ALIGN=\"right\"\n",
    "</figure>\n",
    "\n",
    "## Investigating sea level scenarios<br>\n",
    "### Scraping PSMSL\n",
    "<b>Prepared by: @@@<br>\n",
    "Checked by: @@@ <br>\n",
    "Released by: @@@ <br><br>\n",
    "Date: 5 April 2022<br>\n",
    "Status: Final</b>"
   ]
  },
  {
   "cell_type": "markdown",
   "metadata": {},
   "source": [
    "<figure>\n",
    "    <IMG SRC=\"https://www.python.org/static/community_logos/python-powered-w-200x80.png\"  WIDTH=150 ALIGN=\"right\">\n",
    "</figure>\n",
    "\n",
    "#### Version history\n",
    "- NA"
   ]
  },
  {
   "cell_type": "markdown",
   "metadata": {},
   "source": [
    "### Introduction\n",
    "@ Describe what this sheet is about<br>\n",
    "@ Describe your working methods, principles and assumptions "
   ]
  },
  {
   "cell_type": "markdown",
   "metadata": {},
   "source": [
    "#### Risks and points of attention\n",
    "Usually there are a few points you feel are important to communicate. Collect them on the first page of your sheet"
   ]
  },
  {
   "cell_type": "markdown",
   "metadata": {},
   "source": [
    "#### References\n",
    "Compile your reference list here"
   ]
  },
  {
   "cell_type": "markdown",
   "metadata": {},
   "source": [
    "#### Used packages"
   ]
  },
  {
   "cell_type": "code",
   "execution_count": 1,
   "metadata": {},
   "outputs": [],
   "source": [
    "# General python packages\n",
    "import pandas as pd\n",
    "import matplotlib.pyplot as plt\n",
    "\n",
    "# Company packages\n",
    "import hvec_importers.psmsl as psmsl\n",
    "\n",
    "# Project packages"
   ]
  },
  {
   "cell_type": "code",
   "execution_count": 2,
   "metadata": {},
   "outputs": [
    {
     "name": "stderr",
     "output_type": "stream",
     "text": [
      "c:\\users\\hessel voortman\\onedrive - hessel voortman ec bv\\packages\\hvec_importers\\hvec_importers\\psmsl.py:94: UserWarning: Metric data is not research quality!\n",
      "  warnings.warn('Metric data is not research quality!')\n"
     ]
    }
   ],
   "source": [
    "df = psmsl.data_single_id(id = 20, freq = 'monthly', type = 'met')"
   ]
  },
  {
   "cell_type": "code",
   "execution_count": 3,
   "metadata": {},
   "outputs": [
    {
     "data": {
      "text/html": [
       "<div>\n",
       "<style scoped>\n",
       "    .dataframe tbody tr th:only-of-type {\n",
       "        vertical-align: middle;\n",
       "    }\n",
       "\n",
       "    .dataframe tbody tr th {\n",
       "        vertical-align: top;\n",
       "    }\n",
       "\n",
       "    .dataframe thead th {\n",
       "        text-align: right;\n",
       "    }\n",
       "</style>\n",
       "<table border=\"1\" class=\"dataframe\">\n",
       "  <thead>\n",
       "    <tr style=\"text-align: right;\">\n",
       "      <th></th>\n",
       "      <th>time</th>\n",
       "      <th>level</th>\n",
       "      <th>id</th>\n",
       "      <th>name</th>\n",
       "      <th>type</th>\n",
       "    </tr>\n",
       "  </thead>\n",
       "  <tbody>\n",
       "    <tr>\n",
       "      <th>0</th>\n",
       "      <td>1862.0417</td>\n",
       "      <td>-150</td>\n",
       "      <td>20</td>\n",
       "      <td>VLISSINGEN</td>\n",
       "      <td>met</td>\n",
       "    </tr>\n",
       "    <tr>\n",
       "      <th>1</th>\n",
       "      <td>1862.1250</td>\n",
       "      <td>-250</td>\n",
       "      <td>20</td>\n",
       "      <td>VLISSINGEN</td>\n",
       "      <td>met</td>\n",
       "    </tr>\n",
       "    <tr>\n",
       "      <th>2</th>\n",
       "      <td>1862.2083</td>\n",
       "      <td>-130</td>\n",
       "      <td>20</td>\n",
       "      <td>VLISSINGEN</td>\n",
       "      <td>met</td>\n",
       "    </tr>\n",
       "    <tr>\n",
       "      <th>3</th>\n",
       "      <td>1862.2917</td>\n",
       "      <td>-130</td>\n",
       "      <td>20</td>\n",
       "      <td>VLISSINGEN</td>\n",
       "      <td>met</td>\n",
       "    </tr>\n",
       "    <tr>\n",
       "      <th>4</th>\n",
       "      <td>1862.3750</td>\n",
       "      <td>-130</td>\n",
       "      <td>20</td>\n",
       "      <td>VLISSINGEN</td>\n",
       "      <td>met</td>\n",
       "    </tr>\n",
       "    <tr>\n",
       "      <th>...</th>\n",
       "      <td>...</td>\n",
       "      <td>...</td>\n",
       "      <td>...</td>\n",
       "      <td>...</td>\n",
       "      <td>...</td>\n",
       "    </tr>\n",
       "    <tr>\n",
       "      <th>1903</th>\n",
       "      <td>2020.6250</td>\n",
       "      <td>96</td>\n",
       "      <td>20</td>\n",
       "      <td>VLISSINGEN</td>\n",
       "      <td>met</td>\n",
       "    </tr>\n",
       "    <tr>\n",
       "      <th>1904</th>\n",
       "      <td>2020.7083</td>\n",
       "      <td>108</td>\n",
       "      <td>20</td>\n",
       "      <td>VLISSINGEN</td>\n",
       "      <td>met</td>\n",
       "    </tr>\n",
       "    <tr>\n",
       "      <th>1905</th>\n",
       "      <td>2020.7917</td>\n",
       "      <td>104</td>\n",
       "      <td>20</td>\n",
       "      <td>VLISSINGEN</td>\n",
       "      <td>met</td>\n",
       "    </tr>\n",
       "    <tr>\n",
       "      <th>1906</th>\n",
       "      <td>2020.8750</td>\n",
       "      <td>71</td>\n",
       "      <td>20</td>\n",
       "      <td>VLISSINGEN</td>\n",
       "      <td>met</td>\n",
       "    </tr>\n",
       "    <tr>\n",
       "      <th>1907</th>\n",
       "      <td>2020.9583</td>\n",
       "      <td>81</td>\n",
       "      <td>20</td>\n",
       "      <td>VLISSINGEN</td>\n",
       "      <td>met</td>\n",
       "    </tr>\n",
       "  </tbody>\n",
       "</table>\n",
       "<p>1908 rows × 5 columns</p>\n",
       "</div>"
      ],
      "text/plain": [
       "           time  level  id        name type\n",
       "0     1862.0417   -150  20  VLISSINGEN  met\n",
       "1     1862.1250   -250  20  VLISSINGEN  met\n",
       "2     1862.2083   -130  20  VLISSINGEN  met\n",
       "3     1862.2917   -130  20  VLISSINGEN  met\n",
       "4     1862.3750   -130  20  VLISSINGEN  met\n",
       "...         ...    ...  ..         ...  ...\n",
       "1903  2020.6250     96  20  VLISSINGEN  met\n",
       "1904  2020.7083    108  20  VLISSINGEN  met\n",
       "1905  2020.7917    104  20  VLISSINGEN  met\n",
       "1906  2020.8750     71  20  VLISSINGEN  met\n",
       "1907  2020.9583     81  20  VLISSINGEN  met\n",
       "\n",
       "[1908 rows x 5 columns]"
      ]
     },
     "execution_count": 3,
     "metadata": {},
     "output_type": "execute_result"
    }
   ],
   "source": [
    "df"
   ]
  },
  {
   "cell_type": "code",
   "execution_count": 4,
   "metadata": {},
   "outputs": [
    {
     "data": {
      "image/png": "[encoded data removed]",
      "text/plain": [
       "<Figure size 432x288 with 1 Axes>"
      ]
     },
     "metadata": {
      "needs_background": "light"
     },
     "output_type": "display_data"
    }
   ],
   "source": [
    "df.plot.scatter(x = 'time', y = 'level');"
   ]
  },
  {
   "cell_type": "code",
   "execution_count": 7,
   "metadata": {},
   "outputs": [
    {
     "ename": "AssertionError",
     "evalue": "id should be integer",
     "output_type": "error",
     "traceback": [
      "\u001b[1;31m---------------------------------------------------------------------------\u001b[0m",
      "\u001b[1;31mAssertionError\u001b[0m                            Traceback (most recent call last)",
      "\u001b[1;32mc:\\Users\\Hessel Voortman\\OneDrive - Hessel Voortman EC BV\\Packages\\hvec_importers\\development\\PSMSL_sealevel_scrape.ipynb Cell 11'\u001b[0m in \u001b[0;36m<cell line: 1>\u001b[1;34m()\u001b[0m\n\u001b[1;32m----> <a href='vscode-notebook-cell:/c%3A/Users/Hessel%20Voortman/OneDrive%20-%20Hessel%20Voortman%20EC%20BV/Packages/hvec_importers/development/PSMSL_sealevel_scrape.ipynb#ch0000020?line=0'>1</a>\u001b[0m df \u001b[39m=\u001b[39m psmsl\u001b[39m.\u001b[39;49mdata_single_name(\u001b[39m'\u001b[39;49m\u001b[39mVlis\u001b[39;49m\u001b[39m'\u001b[39;49m)\n",
      "File \u001b[1;32mc:\\users\\hessel voortman\\onedrive - hessel voortman ec bv\\packages\\hvec_importers\\hvec_importers\\psmsl.py:136\u001b[0m, in \u001b[0;36mdata_single_name\u001b[1;34m(name, include_metric, freq, type)\u001b[0m\n\u001b[0;32m    <a href='file:///c%3A/users/hessel%20voortman/onedrive%20-%20hessel%20voortman%20ec%20bv/packages/hvec_importers/hvec_importers/psmsl.py?line=131'>132</a>\u001b[0m \u001b[39m\"\"\"\u001b[39;00m\n\u001b[0;32m    <a href='file:///c%3A/users/hessel%20voortman/onedrive%20-%20hessel%20voortman%20ec%20bv/packages/hvec_importers/hvec_importers/psmsl.py?line=132'>133</a>\u001b[0m \u001b[39mGet data of a PSMSL station selected by name\u001b[39;00m\n\u001b[0;32m    <a href='file:///c%3A/users/hessel%20voortman/onedrive%20-%20hessel%20voortman%20ec%20bv/packages/hvec_importers/hvec_importers/psmsl.py?line=133'>134</a>\u001b[0m \u001b[39m\"\"\"\u001b[39;00m\n\u001b[0;32m    <a href='file:///c%3A/users/hessel%20voortman/onedrive%20-%20hessel%20voortman%20ec%20bv/packages/hvec_importers/hvec_importers/psmsl.py?line=134'>135</a>\u001b[0m \u001b[39mid\u001b[39m \u001b[39m=\u001b[39m id_from_name(name, include_metric)\n\u001b[1;32m--> <a href='file:///c%3A/users/hessel%20voortman/onedrive%20-%20hessel%20voortman%20ec%20bv/packages/hvec_importers/hvec_importers/psmsl.py?line=135'>136</a>\u001b[0m df \u001b[39m=\u001b[39m data_single_id(\u001b[39mid\u001b[39;49m, freq, \u001b[39mtype\u001b[39;49m)\n\u001b[0;32m    <a href='file:///c%3A/users/hessel%20voortman/onedrive%20-%20hessel%20voortman%20ec%20bv/packages/hvec_importers/hvec_importers/psmsl.py?line=136'>137</a>\u001b[0m \u001b[39mreturn\u001b[39;00m df\n",
      "File \u001b[1;32mc:\\users\\hessel voortman\\onedrive - hessel voortman ec bv\\packages\\hvec_importers\\hvec_importers\\psmsl.py:91\u001b[0m, in \u001b[0;36mdata_single_id\u001b[1;34m(id, freq, type)\u001b[0m\n\u001b[0;32m     <a href='file:///c%3A/users/hessel%20voortman/onedrive%20-%20hessel%20voortman%20ec%20bv/packages/hvec_importers/hvec_importers/psmsl.py?line=88'>89</a>\u001b[0m \u001b[39massert\u001b[39;00m (freq \u001b[39min\u001b[39;00m [\u001b[39m'\u001b[39m\u001b[39mannual\u001b[39m\u001b[39m'\u001b[39m, \u001b[39m'\u001b[39m\u001b[39mmonthly\u001b[39m\u001b[39m'\u001b[39m]), \u001b[39m'\u001b[39m\u001b[39mfreq should be annual or monthly\u001b[39m\u001b[39m'\u001b[39m\n\u001b[0;32m     <a href='file:///c%3A/users/hessel%20voortman/onedrive%20-%20hessel%20voortman%20ec%20bv/packages/hvec_importers/hvec_importers/psmsl.py?line=89'>90</a>\u001b[0m \u001b[39massert\u001b[39;00m (\u001b[39mtype\u001b[39m \u001b[39min\u001b[39;00m [\u001b[39m'\u001b[39m\u001b[39mrlr\u001b[39m\u001b[39m'\u001b[39m, \u001b[39m'\u001b[39m\u001b[39mmet\u001b[39m\u001b[39m'\u001b[39m]), \u001b[39m'\u001b[39m\u001b[39mtype should be rlr or met\u001b[39m\u001b[39m'\u001b[39m\n\u001b[1;32m---> <a href='file:///c%3A/users/hessel%20voortman/onedrive%20-%20hessel%20voortman%20ec%20bv/packages/hvec_importers/hvec_importers/psmsl.py?line=90'>91</a>\u001b[0m \u001b[39massert\u001b[39;00m \u001b[39misinstance\u001b[39m(\u001b[39mid\u001b[39m, \u001b[39mint\u001b[39m), \u001b[39m'\u001b[39m\u001b[39mid should be integer\u001b[39m\u001b[39m'\u001b[39m\n\u001b[0;32m     <a href='file:///c%3A/users/hessel%20voortman/onedrive%20-%20hessel%20voortman%20ec%20bv/packages/hvec_importers/hvec_importers/psmsl.py?line=92'>93</a>\u001b[0m \u001b[39mif\u001b[39;00m \u001b[39mtype\u001b[39m \u001b[39m==\u001b[39m \u001b[39m'\u001b[39m\u001b[39mmet\u001b[39m\u001b[39m'\u001b[39m:\n\u001b[0;32m     <a href='file:///c%3A/users/hessel%20voortman/onedrive%20-%20hessel%20voortman%20ec%20bv/packages/hvec_importers/hvec_importers/psmsl.py?line=93'>94</a>\u001b[0m     warnings\u001b[39m.\u001b[39mwarn(\u001b[39m'\u001b[39m\u001b[39mMetric data is not research quality!\u001b[39m\u001b[39m'\u001b[39m)\n",
      "\u001b[1;31mAssertionError\u001b[0m: id should be integer"
     ]
    }
   ],
   "source": [
    "df = psmsl.data_single_name('Vlis')"
   ]
  },
  {
   "cell_type": "markdown",
   "metadata": {},
   "source": [
    "#### End script\n",
    "HVEC-lab, April 2022"
   ]
  }
 ],
 "metadata": {
  "interpreter": {
   "hash": "8f524c5d4fd00a57cf286a859919f18af5e86658323418c29131ee166da378b4"
  },
  "kernelspec": {
   "display_name": "Python 3.10.4 64-bit",
   "language": "python",
   "name": "python3"
  },
  "language_info": {
   "codemirror_mode": {
    "name": "ipython",
    "version": 3
   },
   "file_extension": ".py",
   "mimetype": "text/x-python",
   "name": "python",
   "nbconvert_exporter": "python",
   "pygments_lexer": "ipython3",
   "version": "3.10.4"
  }
 },
 "nbformat": 4,
 "nbformat_minor": 4
}
