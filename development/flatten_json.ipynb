{
 "cells": [
  {
   "cell_type": "code",
   "execution_count": 1,
   "metadata": {},
   "outputs": [],
   "source": [
    "from hvec_importers.rws import communicators as com\n",
    "from hvec_importers.rws import rws\n",
    "from hvec_importers.rws import helpers as hlp\n",
    "from hvec_importers.rws import parsers as parse\n",
    "import dateutil\n",
    "import pandas as pd\n",
    "import requests\n",
    "import warnings\n",
    "import swifter"
   ]
  },
  {
   "cell_type": "code",
   "execution_count": 2,
   "metadata": {},
   "outputs": [
    {
     "data": {
      "text/plain": [
       "120"
      ]
     },
     "execution_count": 2,
     "metadata": {},
     "output_type": "execute_result"
    }
   ],
   "source": [
    "com.TIMEOUT"
   ]
  },
  {
   "attachments": {},
   "cell_type": "markdown",
   "metadata": {},
   "source": [
    "Understanding the raw data structure of data imported from RWS Waterinfo. Goal is to optimise the parsing procedure. The one in ddlpy relies on nested for-loops and is therefore very slow."
   ]
  },
  {
   "attachments": {},
   "cell_type": "markdown",
   "metadata": {},
   "source": [
    "Get some data first. A deep dive in the library is necessary to obtain some raw data to experiment on. Do not try this at home!"
   ]
  },
  {
   "cell_type": "code",
   "execution_count": 3,
   "metadata": {},
   "outputs": [],
   "source": [
    "warnings.simplefilter('ignore')"
   ]
  },
  {
   "cell_type": "code",
   "execution_count": 4,
   "metadata": {},
   "outputs": [],
   "source": [
    "locations = rws.station_list()"
   ]
  },
  {
   "cell_type": "code",
   "execution_count": 5,
   "metadata": {},
   "outputs": [],
   "source": [
    "sel = hlp.create_selection_table(\n",
    "    locations = locations,\n",
    "    name = 'Yerseke', quantity = 'WATHTE')"
   ]
  },
  {
   "cell_type": "code",
   "execution_count": 6,
   "metadata": {},
   "outputs": [
    {
     "data": {
      "text/html": [
       "<div>\n",
       "<style scoped>\n",
       "    .dataframe tbody tr th:only-of-type {\n",
       "        vertical-align: middle;\n",
       "    }\n",
       "\n",
       "    .dataframe tbody tr th {\n",
       "        vertical-align: top;\n",
       "    }\n",
       "\n",
       "    .dataframe thead th {\n",
       "        text-align: right;\n",
       "    }\n",
       "</style>\n",
       "<table border=\"1\" class=\"dataframe\">\n",
       "  <thead>\n",
       "    <tr style=\"text-align: right;\">\n",
       "      <th></th>\n",
       "      <th>Code</th>\n",
       "      <th>Locatie_MessageID</th>\n",
       "      <th>Coordinatenstelsel</th>\n",
       "      <th>X</th>\n",
       "      <th>Y</th>\n",
       "      <th>Naam</th>\n",
       "      <th>Parameter_Wat_Omschrijving</th>\n",
       "      <th>Compartiment.Code</th>\n",
       "      <th>Compartiment.Omschrijving</th>\n",
       "      <th>Eenheid.Code</th>\n",
       "      <th>Eenheid.Omschrijving</th>\n",
       "      <th>Grootheid.Code</th>\n",
       "      <th>Grootheid.Omschrijving</th>\n",
       "      <th>Hoedanigheid.Code</th>\n",
       "      <th>Hoedanigheid.Omschrijving</th>\n",
       "      <th>Parameter.Code</th>\n",
       "      <th>Parameter.Omschrijving</th>\n",
       "      <th>start</th>\n",
       "      <th>end</th>\n",
       "    </tr>\n",
       "  </thead>\n",
       "  <tbody>\n",
       "    <tr>\n",
       "      <th>0</th>\n",
       "      <td>YE</td>\n",
       "      <td>19396</td>\n",
       "      <td>25831</td>\n",
       "      <td>574394.194893</td>\n",
       "      <td>5.706876e+06</td>\n",
       "      <td>Yerseke</td>\n",
       "      <td>Waterhoogte Oppervlaktewater t.o.v. Normaal Am...</td>\n",
       "      <td>OW</td>\n",
       "      <td>Oppervlaktewater</td>\n",
       "      <td>cm</td>\n",
       "      <td>centimeter</td>\n",
       "      <td>WATHTE</td>\n",
       "      <td>Waterhoogte</td>\n",
       "      <td>NAP</td>\n",
       "      <td>t.o.v. Normaal Amsterdams Peil</td>\n",
       "      <td>NVT</td>\n",
       "      <td>Waarde is niet van toepassing</td>\n",
       "      <td>18000101</td>\n",
       "      <td>21001231</td>\n",
       "    </tr>\n",
       "    <tr>\n",
       "      <th>1</th>\n",
       "      <td>YERSKE</td>\n",
       "      <td>20583</td>\n",
       "      <td>25831</td>\n",
       "      <td>574616.706917</td>\n",
       "      <td>5.706661e+06</td>\n",
       "      <td>Yerseke</td>\n",
       "      <td>Waterhoogte Oppervlaktewater t.o.v. Normaal Am...</td>\n",
       "      <td>OW</td>\n",
       "      <td>Oppervlaktewater</td>\n",
       "      <td>cm</td>\n",
       "      <td>centimeter</td>\n",
       "      <td>WATHTE</td>\n",
       "      <td>Waterhoogte</td>\n",
       "      <td>NAP</td>\n",
       "      <td>t.o.v. Normaal Amsterdams Peil</td>\n",
       "      <td>NVT</td>\n",
       "      <td>Waarde is niet van toepassing</td>\n",
       "      <td>18000101</td>\n",
       "      <td>21001231</td>\n",
       "    </tr>\n",
       "  </tbody>\n",
       "</table>\n",
       "</div>"
      ],
      "text/plain": [
       "     Code  Locatie_MessageID  Coordinatenstelsel              X             Y  \\\n",
       "0      YE              19396               25831  574394.194893  5.706876e+06   \n",
       "1  YERSKE              20583               25831  574616.706917  5.706661e+06   \n",
       "\n",
       "      Naam                         Parameter_Wat_Omschrijving  \\\n",
       "0  Yerseke  Waterhoogte Oppervlaktewater t.o.v. Normaal Am...   \n",
       "1  Yerseke  Waterhoogte Oppervlaktewater t.o.v. Normaal Am...   \n",
       "\n",
       "  Compartiment.Code Compartiment.Omschrijving Eenheid.Code  \\\n",
       "0                OW          Oppervlaktewater           cm   \n",
       "1                OW          Oppervlaktewater           cm   \n",
       "\n",
       "  Eenheid.Omschrijving Grootheid.Code Grootheid.Omschrijving  \\\n",
       "0           centimeter         WATHTE            Waterhoogte   \n",
       "1           centimeter         WATHTE            Waterhoogte   \n",
       "\n",
       "  Hoedanigheid.Code       Hoedanigheid.Omschrijving Parameter.Code  \\\n",
       "0               NAP  t.o.v. Normaal Amsterdams Peil            NVT   \n",
       "1               NAP  t.o.v. Normaal Amsterdams Peil            NVT   \n",
       "\n",
       "          Parameter.Omschrijving     start       end  \n",
       "0  Waarde is niet van toepassing  18000101  21001231  \n",
       "1  Waarde is niet van toepassing  18000101  21001231  "
      ]
     },
     "execution_count": 6,
     "metadata": {},
     "output_type": "execute_result"
    }
   ],
   "source": [
    "sel"
   ]
  },
  {
   "cell_type": "code",
   "execution_count": 7,
   "metadata": {},
   "outputs": [],
   "source": [
    "code = 'YERSKE'\n",
    "sel = sel.query('Code == @code')"
   ]
  },
  {
   "cell_type": "code",
   "execution_count": 8,
   "metadata": {},
   "outputs": [],
   "source": [
    "start = dateutil.parser.parse('1989-01-01')\n",
    "end = dateutil.parser.parse('1989-1-3')"
   ]
  },
  {
   "cell_type": "code",
   "execution_count": 9,
   "metadata": {},
   "outputs": [],
   "source": [
    "req = hlp.create_data_request(sel, start, end)"
   ]
  },
  {
   "cell_type": "code",
   "execution_count": 10,
   "metadata": {},
   "outputs": [
    {
     "data": {
      "text/plain": [
       "dict_keys(['AquoPlusWaarnemingMetadata', 'Locatie', 'Periode'])"
      ]
     },
     "execution_count": 10,
     "metadata": {},
     "output_type": "execute_result"
    }
   ],
   "source": [
    "req.keys()"
   ]
  },
  {
   "cell_type": "code",
   "execution_count": 11,
   "metadata": {},
   "outputs": [
    {
     "data": {
      "text/plain": [
       "True"
      ]
     },
     "execution_count": 11,
     "metadata": {},
     "output_type": "execute_result"
    }
   ],
   "source": [
    "session = requests.session()\n",
    "res = com.assert_data_available(sel, start, end, session)\n",
    "res"
   ]
  },
  {
   "cell_type": "code",
   "execution_count": 12,
   "metadata": {},
   "outputs": [],
   "source": [
    "raw = com.get_raw_slice(sel, start, end, session)\n",
    "session.close()"
   ]
  },
  {
   "cell_type": "code",
   "execution_count": 13,
   "metadata": {},
   "outputs": [
    {
     "data": {
      "text/plain": [
       "{'WaarnemingenLijst': [{'Locatie': {'Locatie_MessageID': 20583,\n",
       "    'Coordinatenstelsel': '25831',\n",
       "    'X': 574616.706916963,\n",
       "    'Y': 5706661.48205982,\n",
       "    'Naam': 'Yerseke',\n",
       "    'Code': 'YERSKE'},\n",
       "   'MetingenLijst': [{'Tijdstip': '1989-01-01T01:00:00.000+01:00',\n",
       "     'Meetwaarde': {'Waarde_Numeriek': -58.0},\n",
       "     'WaarnemingMetadata': {'StatuswaardeLijst': ['Gecontroleerd'],\n",
       "      'BemonsteringshoogteLijst': ['-999999999'],\n",
       "      'ReferentievlakLijst': ['NVT'],\n",
       "      'OpdrachtgevendeInstantieLijst': ['ZLXXREG_ZEGE'],\n",
       "      'KwaliteitswaardecodeLijst': ['00']}},\n",
       "    {'Tijdstip': '1989-01-01T01:10:00.000+01:00',\n",
       "     'Meetwaarde': {'Waarde_Numeriek': -67.0},\n",
       "     'WaarnemingMetadata': {'StatuswaardeLijst': ['Gecontroleerd'],\n",
       "      'BemonsteringshoogteLijst': ['-999999999'],\n",
       "      'ReferentievlakLijst': ['NVT'],\n",
       "      'OpdrachtgevendeInstantieLijst': ['ZLXXREG_ZEGE'],\n",
       "      'KwaliteitswaardecodeLijst': ['00']}},\n",
       "    {'Tijdstip': '1989-01-01T01:20:00.000+01:00',\n",
       "     'Meetwaarde': {'Waarde_Numeriek': -76.0},\n",
       "     'WaarnemingMetadata': {'StatuswaardeLijst': ['Gecontroleerd'],\n",
       "      'BemonsteringshoogteLijst': ['-999999999'],\n",
       "      'ReferentievlakLijst': ['NVT'],\n",
       "      'OpdrachtgevendeInstantieLijst': ['ZLXXREG_ZEGE'],\n",
       "      'KwaliteitswaardecodeLijst': ['00']}},\n",
       "    {'Tijdstip': '1989-01-01T01:30:00.000+01:00',\n",
       "     'Meetwaarde': {'Waarde_Numeriek': -84.0},\n",
       "     'WaarnemingMetadata': {'StatuswaardeLijst': ['Gecontroleerd'],\n",
       "      'BemonsteringshoogteLijst': ['-999999999'],\n",
       "      'ReferentievlakLijst': ['NVT'],\n",
       "      'OpdrachtgevendeInstantieLijst': ['ZLXXREG_ZEGE'],\n",
       "      'KwaliteitswaardecodeLijst': ['00']}},\n",
       "    {'Tijdstip': '1989-01-01T01:40:00.000+01:00',\n",
       "     'Meetwaarde': {'Waarde_Numeriek': -91.0},\n",
       "     'WaarnemingMetadata': {'StatuswaardeLijst': ['Gecontroleerd'],\n",
       "      'BemonsteringshoogteLijst': ['-999999999'],\n",
       "      'ReferentievlakLijst': ['NVT'],\n",
       "      'OpdrachtgevendeInstantieLijst': ['ZLXXREG_ZEGE'],\n",
       "      'KwaliteitswaardecodeLijst': ['00']}},\n",
       "    {'Tijdstip': '1989-01-01T01:50:00.000+01:00',\n",
       "     'Meetwaarde': {'Waarde_Numeriek': -98.0},\n",
       "     'WaarnemingMetadata': {'StatuswaardeLijst': ['Gecontroleerd'],\n",
       "      'BemonsteringshoogteLijst': ['-999999999'],\n",
       "      'ReferentievlakLijst': ['NVT'],\n",
       "      'OpdrachtgevendeInstantieLijst': ['ZLXXREG_ZEGE'],\n",
       "      'KwaliteitswaardecodeLijst': ['00']}},\n",
       "    {'Tijdstip': '1989-01-01T02:00:00.000+01:00',\n",
       "     'Meetwaarde': {'Waarde_Numeriek': -105.0},\n",
       "     'WaarnemingMetadata': {'StatuswaardeLijst': ['Gecontroleerd'],\n",
       "      'BemonsteringshoogteLijst': ['-999999999'],\n",
       "      'ReferentievlakLijst': ['NVT'],\n",
       "      'OpdrachtgevendeInstantieLijst': ['ZLXXREG_ZEGE'],\n",
       "      'KwaliteitswaardecodeLijst': ['00']}},\n",
       "    {'Tijdstip': '1989-01-01T02:10:00.000+01:00',\n",
       "     'Meetwaarde': {'Waarde_Numeriek': -110.0},\n",
       "     'WaarnemingMetadata': {'StatuswaardeLijst': ['Gecontroleerd'],\n",
       "      'BemonsteringshoogteLijst': ['-999999999'],\n",
       "      'ReferentievlakLijst': ['NVT'],\n",
       "      'OpdrachtgevendeInstantieLijst': ['ZLXXREG_ZEGE'],\n",
       "      'KwaliteitswaardecodeLijst': ['00']}},\n",
       "    {'Tijdstip': '1989-01-01T02:20:00.000+01:00',\n",
       "     'Meetwaarde': {'Waarde_Numeriek': -115.0},\n",
       "     'WaarnemingMetadata': {'StatuswaardeLijst': ['Gecontroleerd'],\n",
       "      'BemonsteringshoogteLijst': ['-999999999'],\n",
       "      'ReferentievlakLijst': ['NVT'],\n",
       "      'OpdrachtgevendeInstantieLijst': ['ZLXXREG_ZEGE'],\n",
       "      'KwaliteitswaardecodeLijst': ['00']}},\n",
       "    {'Tijdstip': '1989-01-01T02:30:00.000+01:00',\n",
       "     'Meetwaarde': {'Waarde_Numeriek': -119.0},\n",
       "     'WaarnemingMetadata': {'StatuswaardeLijst': ['Gecontroleerd'],\n",
       "      'BemonsteringshoogteLijst': ['-999999999'],\n",
       "      'ReferentievlakLijst': ['NVT'],\n",
       "      'OpdrachtgevendeInstantieLijst': ['ZLXXREG_ZEGE'],\n",
       "      'KwaliteitswaardecodeLijst': ['00']}},\n",
       "    {'Tijdstip': '1989-01-01T02:40:00.000+01:00',\n",
       "     'Meetwaarde': {'Waarde_Numeriek': -122.0},\n",
       "     'WaarnemingMetadata': {'StatuswaardeLijst': ['Gecontroleerd'],\n",
       "      'BemonsteringshoogteLijst': ['-999999999'],\n",
       "      'ReferentievlakLijst': ['NVT'],\n",
       "      'OpdrachtgevendeInstantieLijst': ['ZLXXREG_ZEGE'],\n",
       "      'KwaliteitswaardecodeLijst': ['00']}},\n",
       "    {'Tijdstip': '1989-01-01T02:50:00.000+01:00',\n",
       "     'Meetwaarde': {'Waarde_Numeriek': -123.0},\n",
       "     'WaarnemingMetadata': {'StatuswaardeLijst': ['Gecontroleerd'],\n",
       "      'BemonsteringshoogteLijst': ['-999999999'],\n",
       "      'ReferentievlakLijst': ['NVT'],\n",
       "      'OpdrachtgevendeInstantieLijst': ['ZLXXREG_ZEGE'],\n",
       "      'KwaliteitswaardecodeLijst': ['00']}},\n",
       "    {'Tijdstip': '1989-01-01T03:00:00.000+01:00',\n",
       "     'Meetwaarde': {'Waarde_Numeriek': -123.0},\n",
       "     'WaarnemingMetadata': {'StatuswaardeLijst': ['Gecontroleerd'],\n",
       "      'BemonsteringshoogteLijst': ['-999999999'],\n",
       "      'ReferentievlakLijst': ['NVT'],\n",
       "      'OpdrachtgevendeInstantieLijst': ['ZLXXREG_ZEGE'],\n",
       "      'KwaliteitswaardecodeLijst': ['00']}},\n",
       "    {'Tijdstip': '1989-01-01T03:10:00.000+01:00',\n",
       "     'Meetwaarde': {'Waarde_Numeriek': -122.0},\n",
       "     'WaarnemingMetadata': {'StatuswaardeLijst': ['Gecontroleerd'],\n",
       "      'BemonsteringshoogteLijst': ['-999999999'],\n",
       "      'ReferentievlakLijst': ['NVT'],\n",
       "      'OpdrachtgevendeInstantieLijst': ['ZLXXREG_ZEGE'],\n",
       "      'KwaliteitswaardecodeLijst': ['00']}},\n",
       "    {'Tijdstip': '1989-01-01T03:20:00.000+01:00',\n",
       "     'Meetwaarde': {'Waarde_Numeriek': -120.0},\n",
       "     'WaarnemingMetadata': {'StatuswaardeLijst': ['Gecontroleerd'],\n",
       "      'BemonsteringshoogteLijst': ['-999999999'],\n",
       "      'ReferentievlakLijst': ['NVT'],\n",
       "      'OpdrachtgevendeInstantieLijst': ['ZLXXREG_ZEGE'],\n",
       "      'KwaliteitswaardecodeLijst': ['00']}},\n",
       "    {'Tijdstip': '1989-01-01T03:30:00.000+01:00',\n",
       "     'Meetwaarde': {'Waarde_Numeriek': -117.0},\n",
       "     'WaarnemingMetadata': {'StatuswaardeLijst': ['Gecontroleerd'],\n",
       "      'BemonsteringshoogteLijst': ['-999999999'],\n",
       "      'ReferentievlakLijst': ['NVT'],\n",
       "      'OpdrachtgevendeInstantieLijst': ['ZLXXREG_ZEGE'],\n",
       "      'KwaliteitswaardecodeLijst': ['00']}},\n",
       "    {'Tijdstip': '1989-01-01T03:40:00.000+01:00',\n",
       "     'Meetwaarde': {'Waarde_Numeriek': -113.0},\n",
       "     'WaarnemingMetadata': {'StatuswaardeLijst': ['Gecontroleerd'],\n",
       "      'BemonsteringshoogteLijst': ['-999999999'],\n",
       "      'ReferentievlakLijst': ['NVT'],\n",
       "      'OpdrachtgevendeInstantieLijst': ['ZLXXREG_ZEGE'],\n",
       "      'KwaliteitswaardecodeLijst': ['00']}},\n",
       "    {'Tijdstip': '1989-01-01T03:50:00.000+01:00',\n",
       "     'Meetwaarde': {'Waarde_Numeriek': -108.0},\n",
       "     'WaarnemingMetadata': {'StatuswaardeLijst': ['Gecontroleerd'],\n",
       "      'BemonsteringshoogteLijst': ['-999999999'],\n",
       "      'ReferentievlakLijst': ['NVT'],\n",
       "      'OpdrachtgevendeInstantieLijst': ['ZLXXREG_ZEGE'],\n",
       "      'KwaliteitswaardecodeLijst': ['00']}},\n",
       "    {'Tijdstip': '1989-01-01T04:00:00.000+01:00',\n",
       "     'Meetwaarde': {'Waarde_Numeriek': -102.0},\n",
       "     'WaarnemingMetadata': {'StatuswaardeLijst': ['Gecontroleerd'],\n",
       "      'BemonsteringshoogteLijst': ['-999999999'],\n",
       "      'ReferentievlakLijst': ['NVT'],\n",
       "      'OpdrachtgevendeInstantieLijst': ['ZLXXREG_ZEGE'],\n",
       "      'KwaliteitswaardecodeLijst': ['00']}},\n",
       "    {'Tijdstip': '1989-01-01T04:10:00.000+01:00',\n",
       "     'Meetwaarde': {'Waarde_Numeriek': -96.0},\n",
       "     'WaarnemingMetadata': {'StatuswaardeLijst': ['Gecontroleerd'],\n",
       "      'BemonsteringshoogteLijst': ['-999999999'],\n",
       "      'ReferentievlakLijst': ['NVT'],\n",
       "      'OpdrachtgevendeInstantieLijst': ['ZLXXREG_ZEGE'],\n",
       "      'KwaliteitswaardecodeLijst': ['00']}},\n",
       "    {'Tijdstip': '1989-01-01T04:20:00.000+01:00',\n",
       "     'Meetwaarde': {'Waarde_Numeriek': -89.0},\n",
       "     'WaarnemingMetadata': {'StatuswaardeLijst': ['Gecontroleerd'],\n",
       "      'BemonsteringshoogteLijst': ['-999999999'],\n",
       "      'ReferentievlakLijst': ['NVT'],\n",
       "      'OpdrachtgevendeInstantieLijst': ['ZLXXREG_ZEGE'],\n",
       "      'KwaliteitswaardecodeLijst': ['00']}},\n",
       "    {'Tijdstip': '1989-01-01T04:30:00.000+01:00',\n",
       "     'Meetwaarde': {'Waarde_Numeriek': -82.0},\n",
       "     'WaarnemingMetadata': {'StatuswaardeLijst': ['Gecontroleerd'],\n",
       "      'BemonsteringshoogteLijst': ['-999999999'],\n",
       "      'ReferentievlakLijst': ['NVT'],\n",
       "      'OpdrachtgevendeInstantieLijst': ['ZLXXREG_ZEGE'],\n",
       "      'KwaliteitswaardecodeLijst': ['00']}},\n",
       "    {'Tijdstip': '1989-01-01T04:40:00.000+01:00',\n",
       "     'Meetwaarde': {'Waarde_Numeriek': -75.0},\n",
       "     'WaarnemingMetadata': {'StatuswaardeLijst': ['Gecontroleerd'],\n",
       "      'BemonsteringshoogteLijst': ['-999999999'],\n",
       "      'ReferentievlakLijst': ['NVT'],\n",
       "      'OpdrachtgevendeInstantieLijst': ['ZLXXREG_ZEGE'],\n",
       "      'KwaliteitswaardecodeLijst': ['00']}},\n",
       "    {'Tijdstip': '1989-01-01T04:50:00.000+01:00',\n",
       "     'Meetwaarde': {'Waarde_Numeriek': -68.0},\n",
       "     'WaarnemingMetadata': {'StatuswaardeLijst': ['Gecontroleerd'],\n",
       "      'BemonsteringshoogteLijst': ['-999999999'],\n",
       "      'ReferentievlakLijst': ['NVT'],\n",
       "      'OpdrachtgevendeInstantieLijst': ['ZLXXREG_ZEGE'],\n",
       "      'KwaliteitswaardecodeLijst': ['00']}},\n",
       "    {'Tijdstip': '1989-01-01T05:00:00.000+01:00',\n",
       "     'Meetwaarde': {'Waarde_Numeriek': -61.0},\n",
       "     'WaarnemingMetadata': {'StatuswaardeLijst': ['Gecontroleerd'],\n",
       "      'BemonsteringshoogteLijst': ['-999999999'],\n",
       "      'ReferentievlakLijst': ['NVT'],\n",
       "      'OpdrachtgevendeInstantieLijst': ['ZLXXREG_ZEGE'],\n",
       "      'KwaliteitswaardecodeLijst': ['00']}},\n",
       "    {'Tijdstip': '1989-01-01T05:10:00.000+01:00',\n",
       "     'Meetwaarde': {'Waarde_Numeriek': -54.0},\n",
       "     'WaarnemingMetadata': {'StatuswaardeLijst': ['Gecontroleerd'],\n",
       "      'BemonsteringshoogteLijst': ['-999999999'],\n",
       "      'ReferentievlakLijst': ['NVT'],\n",
       "      'OpdrachtgevendeInstantieLijst': ['ZLXXREG_ZEGE'],\n",
       "      'KwaliteitswaardecodeLijst': ['00']}},\n",
       "    {'Tijdstip': '1989-01-01T05:20:00.000+01:00',\n",
       "     'Meetwaarde': {'Waarde_Numeriek': -47.0},\n",
       "     'WaarnemingMetadata': {'StatuswaardeLijst': ['Gecontroleerd'],\n",
       "      'BemonsteringshoogteLijst': ['-999999999'],\n",
       "      'ReferentievlakLijst': ['NVT'],\n",
       "      'OpdrachtgevendeInstantieLijst': ['ZLXXREG_ZEGE'],\n",
       "      'KwaliteitswaardecodeLijst': ['00']}},\n",
       "    {'Tijdstip': '1989-01-01T05:30:00.000+01:00',\n",
       "     'Meetwaarde': {'Waarde_Numeriek': -40.0},\n",
       "     'WaarnemingMetadata': {'StatuswaardeLijst': ['Gecontroleerd'],\n",
       "      'BemonsteringshoogteLijst': ['-999999999'],\n",
       "      'ReferentievlakLijst': ['NVT'],\n",
       "      'OpdrachtgevendeInstantieLijst': ['ZLXXREG_ZEGE'],\n",
       "      'KwaliteitswaardecodeLijst': ['00']}},\n",
       "    {'Tijdstip': '1989-01-01T05:40:00.000+01:00',\n",
       "     'Meetwaarde': {'Waarde_Numeriek': -33.0},\n",
       "     'WaarnemingMetadata': {'StatuswaardeLijst': ['Gecontroleerd'],\n",
       "      'BemonsteringshoogteLijst': ['-999999999'],\n",
       "      'ReferentievlakLijst': ['NVT'],\n",
       "      'OpdrachtgevendeInstantieLijst': ['ZLXXREG_ZEGE'],\n",
       "      'KwaliteitswaardecodeLijst': ['00']}},\n",
       "    {'Tijdstip': '1989-01-01T05:50:00.000+01:00',\n",
       "     'Meetwaarde': {'Waarde_Numeriek': -26.0},\n",
       "     'WaarnemingMetadata': {'StatuswaardeLijst': ['Gecontroleerd'],\n",
       "      'BemonsteringshoogteLijst': ['-999999999'],\n",
       "      'ReferentievlakLijst': ['NVT'],\n",
       "      'OpdrachtgevendeInstantieLijst': ['ZLXXREG_ZEGE'],\n",
       "      'KwaliteitswaardecodeLijst': ['00']}},\n",
       "    {'Tijdstip': '1989-01-01T06:00:00.000+01:00',\n",
       "     'Meetwaarde': {'Waarde_Numeriek': -18.0},\n",
       "     'WaarnemingMetadata': {'StatuswaardeLijst': ['Gecontroleerd'],\n",
       "      'BemonsteringshoogteLijst': ['-999999999'],\n",
       "      'ReferentievlakLijst': ['NVT'],\n",
       "      'OpdrachtgevendeInstantieLijst': ['ZLXXREG_ZEGE'],\n",
       "      'KwaliteitswaardecodeLijst': ['00']}},\n",
       "    {'Tijdstip': '1989-01-01T06:10:00.000+01:00',\n",
       "     'Meetwaarde': {'Waarde_Numeriek': -11.0},\n",
       "     'WaarnemingMetadata': {'StatuswaardeLijst': ['Gecontroleerd'],\n",
       "      'BemonsteringshoogteLijst': ['-999999999'],\n",
       "      'ReferentievlakLijst': ['NVT'],\n",
       "      'OpdrachtgevendeInstantieLijst': ['ZLXXREG_ZEGE'],\n",
       "      'KwaliteitswaardecodeLijst': ['00']}},\n",
       "    {'Tijdstip': '1989-01-01T06:20:00.000+01:00',\n",
       "     'Meetwaarde': {'Waarde_Numeriek': -3.0},\n",
       "     'WaarnemingMetadata': {'StatuswaardeLijst': ['Gecontroleerd'],\n",
       "      'BemonsteringshoogteLijst': ['-999999999'],\n",
       "      'ReferentievlakLijst': ['NVT'],\n",
       "      'OpdrachtgevendeInstantieLijst': ['ZLXXREG_ZEGE'],\n",
       "      'KwaliteitswaardecodeLijst': ['00']}},\n",
       "    {'Tijdstip': '1989-01-01T06:30:00.000+01:00',\n",
       "     'Meetwaarde': {'Waarde_Numeriek': 5.0},\n",
       "     'WaarnemingMetadata': {'StatuswaardeLijst': ['Gecontroleerd'],\n",
       "      'BemonsteringshoogteLijst': ['-999999999'],\n",
       "      'ReferentievlakLijst': ['NVT'],\n",
       "      'OpdrachtgevendeInstantieLijst': ['ZLXXREG_ZEGE'],\n",
       "      'KwaliteitswaardecodeLijst': ['00']}},\n",
       "    {'Tijdstip': '1989-01-01T06:40:00.000+01:00',\n",
       "     'Meetwaarde': {'Waarde_Numeriek': 13.0},\n",
       "     'WaarnemingMetadata': {'StatuswaardeLijst': ['Gecontroleerd'],\n",
       "      'BemonsteringshoogteLijst': ['-999999999'],\n",
       "      'ReferentievlakLijst': ['NVT'],\n",
       "      'OpdrachtgevendeInstantieLijst': ['ZLXXREG_ZEGE'],\n",
       "      'KwaliteitswaardecodeLijst': ['00']}},\n",
       "    {'Tijdstip': '1989-01-01T06:50:00.000+01:00',\n",
       "     'Meetwaarde': {'Waarde_Numeriek': 21.0},\n",
       "     'WaarnemingMetadata': {'StatuswaardeLijst': ['Gecontroleerd'],\n",
       "      'BemonsteringshoogteLijst': ['-999999999'],\n",
       "      'ReferentievlakLijst': ['NVT'],\n",
       "      'OpdrachtgevendeInstantieLijst': ['ZLXXREG_ZEGE'],\n",
       "      'KwaliteitswaardecodeLijst': ['00']}},\n",
       "    {'Tijdstip': '1989-01-01T07:00:00.000+01:00',\n",
       "     'Meetwaarde': {'Waarde_Numeriek': 30.0},\n",
       "     'WaarnemingMetadata': {'StatuswaardeLijst': ['Gecontroleerd'],\n",
       "      'BemonsteringshoogteLijst': ['-999999999'],\n",
       "      'ReferentievlakLijst': ['NVT'],\n",
       "      'OpdrachtgevendeInstantieLijst': ['ZLXXREG_ZEGE'],\n",
       "      'KwaliteitswaardecodeLijst': ['00']}},\n",
       "    {'Tijdstip': '1989-01-01T07:10:00.000+01:00',\n",
       "     'Meetwaarde': {'Waarde_Numeriek': 39.0},\n",
       "     'WaarnemingMetadata': {'StatuswaardeLijst': ['Gecontroleerd'],\n",
       "      'BemonsteringshoogteLijst': ['-999999999'],\n",
       "      'ReferentievlakLijst': ['NVT'],\n",
       "      'OpdrachtgevendeInstantieLijst': ['ZLXXREG_ZEGE'],\n",
       "      'KwaliteitswaardecodeLijst': ['00']}},\n",
       "    {'Tijdstip': '1989-01-01T07:20:00.000+01:00',\n",
       "     'Meetwaarde': {'Waarde_Numeriek': 48.0},\n",
       "     'WaarnemingMetadata': {'StatuswaardeLijst': ['Gecontroleerd'],\n",
       "      'BemonsteringshoogteLijst': ['-999999999'],\n",
       "      'ReferentievlakLijst': ['NVT'],\n",
       "      'OpdrachtgevendeInstantieLijst': ['ZLXXREG_ZEGE'],\n",
       "      'KwaliteitswaardecodeLijst': ['00']}},\n",
       "    {'Tijdstip': '1989-01-01T07:30:00.000+01:00',\n",
       "     'Meetwaarde': {'Waarde_Numeriek': 57.0},\n",
       "     'WaarnemingMetadata': {'StatuswaardeLijst': ['Gecontroleerd'],\n",
       "      'BemonsteringshoogteLijst': ['-999999999'],\n",
       "      'ReferentievlakLijst': ['NVT'],\n",
       "      'OpdrachtgevendeInstantieLijst': ['ZLXXREG_ZEGE'],\n",
       "      'KwaliteitswaardecodeLijst': ['00']}},\n",
       "    {'Tijdstip': '1989-01-01T07:40:00.000+01:00',\n",
       "     'Meetwaarde': {'Waarde_Numeriek': 66.0},\n",
       "     'WaarnemingMetadata': {'StatuswaardeLijst': ['Gecontroleerd'],\n",
       "      'BemonsteringshoogteLijst': ['-999999999'],\n",
       "      'ReferentievlakLijst': ['NVT'],\n",
       "      'OpdrachtgevendeInstantieLijst': ['ZLXXREG_ZEGE'],\n",
       "      'KwaliteitswaardecodeLijst': ['00']}},\n",
       "    {'Tijdstip': '1989-01-01T07:50:00.000+01:00',\n",
       "     'Meetwaarde': {'Waarde_Numeriek': 76.0},\n",
       "     'WaarnemingMetadata': {'StatuswaardeLijst': ['Gecontroleerd'],\n",
       "      'BemonsteringshoogteLijst': ['-999999999'],\n",
       "      'ReferentievlakLijst': ['NVT'],\n",
       "      'OpdrachtgevendeInstantieLijst': ['ZLXXREG_ZEGE'],\n",
       "      'KwaliteitswaardecodeLijst': ['00']}},\n",
       "    {'Tijdstip': '1989-01-01T08:00:00.000+01:00',\n",
       "     'Meetwaarde': {'Waarde_Numeriek': 85.0},\n",
       "     'WaarnemingMetadata': {'StatuswaardeLijst': ['Gecontroleerd'],\n",
       "      'BemonsteringshoogteLijst': ['-999999999'],\n",
       "      'ReferentievlakLijst': ['NVT'],\n",
       "      'OpdrachtgevendeInstantieLijst': ['ZLXXREG_ZEGE'],\n",
       "      'KwaliteitswaardecodeLijst': ['00']}},\n",
       "    {'Tijdstip': '1989-01-01T08:10:00.000+01:00',\n",
       "     'Meetwaarde': {'Waarde_Numeriek': 93.0},\n",
       "     'WaarnemingMetadata': {'StatuswaardeLijst': ['Gecontroleerd'],\n",
       "      'BemonsteringshoogteLijst': ['-999999999'],\n",
       "      'ReferentievlakLijst': ['NVT'],\n",
       "      'OpdrachtgevendeInstantieLijst': ['ZLXXREG_ZEGE'],\n",
       "      'KwaliteitswaardecodeLijst': ['00']}},\n",
       "    {'Tijdstip': '1989-01-01T08:20:00.000+01:00',\n",
       "     'Meetwaarde': {'Waarde_Numeriek': 101.0},\n",
       "     'WaarnemingMetadata': {'StatuswaardeLijst': ['Gecontroleerd'],\n",
       "      'BemonsteringshoogteLijst': ['-999999999'],\n",
       "      'ReferentievlakLijst': ['NVT'],\n",
       "      'OpdrachtgevendeInstantieLijst': ['ZLXXREG_ZEGE'],\n",
       "      'KwaliteitswaardecodeLijst': ['00']}},\n",
       "    {'Tijdstip': '1989-01-01T08:30:00.000+01:00',\n",
       "     'Meetwaarde': {'Waarde_Numeriek': 109.0},\n",
       "     'WaarnemingMetadata': {'StatuswaardeLijst': ['Gecontroleerd'],\n",
       "      'BemonsteringshoogteLijst': ['-999999999'],\n",
       "      'ReferentievlakLijst': ['NVT'],\n",
       "      'OpdrachtgevendeInstantieLijst': ['ZLXXREG_ZEGE'],\n",
       "      'KwaliteitswaardecodeLijst': ['00']}},\n",
       "    {'Tijdstip': '1989-01-01T08:40:00.000+01:00',\n",
       "     'Meetwaarde': {'Waarde_Numeriek': 116.0},\n",
       "     'WaarnemingMetadata': {'StatuswaardeLijst': ['Gecontroleerd'],\n",
       "      'BemonsteringshoogteLijst': ['-999999999'],\n",
       "      'ReferentievlakLijst': ['NVT'],\n",
       "      'OpdrachtgevendeInstantieLijst': ['ZLXXREG_ZEGE'],\n",
       "      'KwaliteitswaardecodeLijst': ['00']}},\n",
       "    {'Tijdstip': '1989-01-01T08:50:00.000+01:00',\n",
       "     'Meetwaarde': {'Waarde_Numeriek': 121.0},\n",
       "     'WaarnemingMetadata': {'StatuswaardeLijst': ['Gecontroleerd'],\n",
       "      'BemonsteringshoogteLijst': ['-999999999'],\n",
       "      'ReferentievlakLijst': ['NVT'],\n",
       "      'OpdrachtgevendeInstantieLijst': ['ZLXXREG_ZEGE'],\n",
       "      'KwaliteitswaardecodeLijst': ['00']}},\n",
       "    {'Tijdstip': '1989-01-01T09:00:00.000+01:00',\n",
       "     'Meetwaarde': {'Waarde_Numeriek': 125.0},\n",
       "     'WaarnemingMetadata': {'StatuswaardeLijst': ['Gecontroleerd'],\n",
       "      'BemonsteringshoogteLijst': ['-999999999'],\n",
       "      'ReferentievlakLijst': ['NVT'],\n",
       "      'OpdrachtgevendeInstantieLijst': ['ZLXXREG_ZEGE'],\n",
       "      'KwaliteitswaardecodeLijst': ['00']}},\n",
       "    {'Tijdstip': '1989-01-01T09:10:00.000+01:00',\n",
       "     'Meetwaarde': {'Waarde_Numeriek': 127.0},\n",
       "     'WaarnemingMetadata': {'StatuswaardeLijst': ['Gecontroleerd'],\n",
       "      'BemonsteringshoogteLijst': ['-999999999'],\n",
       "      'ReferentievlakLijst': ['NVT'],\n",
       "      'OpdrachtgevendeInstantieLijst': ['ZLXXREG_ZEGE'],\n",
       "      'KwaliteitswaardecodeLijst': ['00']}},\n",
       "    {'Tijdstip': '1989-01-01T09:20:00.000+01:00',\n",
       "     'Meetwaarde': {'Waarde_Numeriek': 129.0},\n",
       "     'WaarnemingMetadata': {'StatuswaardeLijst': ['Gecontroleerd'],\n",
       "      'BemonsteringshoogteLijst': ['-999999999'],\n",
       "      'ReferentievlakLijst': ['NVT'],\n",
       "      'OpdrachtgevendeInstantieLijst': ['ZLXXREG_ZEGE'],\n",
       "      'KwaliteitswaardecodeLijst': ['00']}},\n",
       "    {'Tijdstip': '1989-01-01T09:30:00.000+01:00',\n",
       "     'Meetwaarde': {'Waarde_Numeriek': 129.0},\n",
       "     'WaarnemingMetadata': {'StatuswaardeLijst': ['Gecontroleerd'],\n",
       "      'BemonsteringshoogteLijst': ['-999999999'],\n",
       "      'ReferentievlakLijst': ['NVT'],\n",
       "      'OpdrachtgevendeInstantieLijst': ['ZLXXREG_ZEGE'],\n",
       "      'KwaliteitswaardecodeLijst': ['00']}},\n",
       "    {'Tijdstip': '1989-01-01T09:40:00.000+01:00',\n",
       "     'Meetwaarde': {'Waarde_Numeriek': 128.0},\n",
       "     'WaarnemingMetadata': {'StatuswaardeLijst': ['Gecontroleerd'],\n",
       "      'BemonsteringshoogteLijst': ['-999999999'],\n",
       "      'ReferentievlakLijst': ['NVT'],\n",
       "      'OpdrachtgevendeInstantieLijst': ['ZLXXREG_ZEGE'],\n",
       "      'KwaliteitswaardecodeLijst': ['00']}},\n",
       "    {'Tijdstip': '1989-01-01T09:50:00.000+01:00',\n",
       "     'Meetwaarde': {'Waarde_Numeriek': 124.0},\n",
       "     'WaarnemingMetadata': {'StatuswaardeLijst': ['Gecontroleerd'],\n",
       "      'BemonsteringshoogteLijst': ['-999999999'],\n",
       "      'ReferentievlakLijst': ['NVT'],\n",
       "      'OpdrachtgevendeInstantieLijst': ['ZLXXREG_ZEGE'],\n",
       "      'KwaliteitswaardecodeLijst': ['00']}},\n",
       "    {'Tijdstip': '1989-01-01T10:00:00.000+01:00',\n",
       "     'Meetwaarde': {'Waarde_Numeriek': 118.0},\n",
       "     'WaarnemingMetadata': {'StatuswaardeLijst': ['Gecontroleerd'],\n",
       "      'BemonsteringshoogteLijst': ['-999999999'],\n",
       "      'ReferentievlakLijst': ['NVT'],\n",
       "      'OpdrachtgevendeInstantieLijst': ['ZLXXREG_ZEGE'],\n",
       "      'KwaliteitswaardecodeLijst': ['00']}},\n",
       "    {'Tijdstip': '1989-01-01T10:10:00.000+01:00',\n",
       "     'Meetwaarde': {'Waarde_Numeriek': 111.0},\n",
       "     'WaarnemingMetadata': {'StatuswaardeLijst': ['Gecontroleerd'],\n",
       "      'BemonsteringshoogteLijst': ['-999999999'],\n",
       "      'ReferentievlakLijst': ['NVT'],\n",
       "      'OpdrachtgevendeInstantieLijst': ['ZLXXREG_ZEGE'],\n",
       "      'KwaliteitswaardecodeLijst': ['00']}},\n",
       "    {'Tijdstip': '1989-01-01T10:20:00.000+01:00',\n",
       "     'Meetwaarde': {'Waarde_Numeriek': 103.0},\n",
       "     'WaarnemingMetadata': {'StatuswaardeLijst': ['Gecontroleerd'],\n",
       "      'BemonsteringshoogteLijst': ['-999999999'],\n",
       "      'ReferentievlakLijst': ['NVT'],\n",
       "      'OpdrachtgevendeInstantieLijst': ['ZLXXREG_ZEGE'],\n",
       "      'KwaliteitswaardecodeLijst': ['00']}},\n",
       "    {'Tijdstip': '1989-01-01T10:30:00.000+01:00',\n",
       "     'Meetwaarde': {'Waarde_Numeriek': 94.0},\n",
       "     'WaarnemingMetadata': {'StatuswaardeLijst': ['Gecontroleerd'],\n",
       "      'BemonsteringshoogteLijst': ['-999999999'],\n",
       "      'ReferentievlakLijst': ['NVT'],\n",
       "      'OpdrachtgevendeInstantieLijst': ['ZLXXREG_ZEGE'],\n",
       "      'KwaliteitswaardecodeLijst': ['00']}},\n",
       "    {'Tijdstip': '1989-01-01T10:40:00.000+01:00',\n",
       "     'Meetwaarde': {'Waarde_Numeriek': 85.0},\n",
       "     'WaarnemingMetadata': {'StatuswaardeLijst': ['Gecontroleerd'],\n",
       "      'BemonsteringshoogteLijst': ['-999999999'],\n",
       "      'ReferentievlakLijst': ['NVT'],\n",
       "      'OpdrachtgevendeInstantieLijst': ['ZLXXREG_ZEGE'],\n",
       "      'KwaliteitswaardecodeLijst': ['00']}},\n",
       "    {'Tijdstip': '1989-01-01T10:50:00.000+01:00',\n",
       "     'Meetwaarde': {'Waarde_Numeriek': 75.0},\n",
       "     'WaarnemingMetadata': {'StatuswaardeLijst': ['Gecontroleerd'],\n",
       "      'BemonsteringshoogteLijst': ['-999999999'],\n",
       "      'ReferentievlakLijst': ['NVT'],\n",
       "      'OpdrachtgevendeInstantieLijst': ['ZLXXREG_ZEGE'],\n",
       "      'KwaliteitswaardecodeLijst': ['00']}},\n",
       "    {'Tijdstip': '1989-01-01T11:00:00.000+01:00',\n",
       "     'Meetwaarde': {'Waarde_Numeriek': 65.0},\n",
       "     'WaarnemingMetadata': {'StatuswaardeLijst': ['Gecontroleerd'],\n",
       "      'BemonsteringshoogteLijst': ['-999999999'],\n",
       "      'ReferentievlakLijst': ['NVT'],\n",
       "      'OpdrachtgevendeInstantieLijst': ['ZLXXREG_ZEGE'],\n",
       "      'KwaliteitswaardecodeLijst': ['00']}},\n",
       "    {'Tijdstip': '1989-01-01T11:10:00.000+01:00',\n",
       "     'Meetwaarde': {'Waarde_Numeriek': 54.0},\n",
       "     'WaarnemingMetadata': {'StatuswaardeLijst': ['Gecontroleerd'],\n",
       "      'BemonsteringshoogteLijst': ['-999999999'],\n",
       "      'ReferentievlakLijst': ['NVT'],\n",
       "      'OpdrachtgevendeInstantieLijst': ['ZLXXREG_ZEGE'],\n",
       "      'KwaliteitswaardecodeLijst': ['00']}},\n",
       "    {'Tijdstip': '1989-01-01T11:20:00.000+01:00',\n",
       "     'Meetwaarde': {'Waarde_Numeriek': 44.0},\n",
       "     'WaarnemingMetadata': {'StatuswaardeLijst': ['Gecontroleerd'],\n",
       "      'BemonsteringshoogteLijst': ['-999999999'],\n",
       "      'ReferentievlakLijst': ['NVT'],\n",
       "      'OpdrachtgevendeInstantieLijst': ['ZLXXREG_ZEGE'],\n",
       "      'KwaliteitswaardecodeLijst': ['00']}},\n",
       "    {'Tijdstip': '1989-01-01T11:30:00.000+01:00',\n",
       "     'Meetwaarde': {'Waarde_Numeriek': 33.0},\n",
       "     'WaarnemingMetadata': {'StatuswaardeLijst': ['Gecontroleerd'],\n",
       "      'BemonsteringshoogteLijst': ['-999999999'],\n",
       "      'ReferentievlakLijst': ['NVT'],\n",
       "      'OpdrachtgevendeInstantieLijst': ['ZLXXREG_ZEGE'],\n",
       "      'KwaliteitswaardecodeLijst': ['00']}},\n",
       "    {'Tijdstip': '1989-01-01T11:40:00.000+01:00',\n",
       "     'Meetwaarde': {'Waarde_Numeriek': 22.0},\n",
       "     'WaarnemingMetadata': {'StatuswaardeLijst': ['Gecontroleerd'],\n",
       "      'BemonsteringshoogteLijst': ['-999999999'],\n",
       "      'ReferentievlakLijst': ['NVT'],\n",
       "      'OpdrachtgevendeInstantieLijst': ['ZLXXREG_ZEGE'],\n",
       "      'KwaliteitswaardecodeLijst': ['00']}},\n",
       "    {'Tijdstip': '1989-01-01T11:50:00.000+01:00',\n",
       "     'Meetwaarde': {'Waarde_Numeriek': 11.0},\n",
       "     'WaarnemingMetadata': {'StatuswaardeLijst': ['Gecontroleerd'],\n",
       "      'BemonsteringshoogteLijst': ['-999999999'],\n",
       "      'ReferentievlakLijst': ['NVT'],\n",
       "      'OpdrachtgevendeInstantieLijst': ['ZLXXREG_ZEGE'],\n",
       "      'KwaliteitswaardecodeLijst': ['00']}},\n",
       "    {'Tijdstip': '1989-01-01T12:00:00.000+01:00',\n",
       "     'Meetwaarde': {'Waarde_Numeriek': 0.0},\n",
       "     'WaarnemingMetadata': {'StatuswaardeLijst': ['Gecontroleerd'],\n",
       "      'BemonsteringshoogteLijst': ['-999999999'],\n",
       "      'ReferentievlakLijst': ['NVT'],\n",
       "      'OpdrachtgevendeInstantieLijst': ['ZLXXREG_ZEGE'],\n",
       "      'KwaliteitswaardecodeLijst': ['00']}},\n",
       "    {'Tijdstip': '1989-01-01T12:10:00.000+01:00',\n",
       "     'Meetwaarde': {'Waarde_Numeriek': -10.0},\n",
       "     'WaarnemingMetadata': {'StatuswaardeLijst': ['Gecontroleerd'],\n",
       "      'BemonsteringshoogteLijst': ['-999999999'],\n",
       "      'ReferentievlakLijst': ['NVT'],\n",
       "      'OpdrachtgevendeInstantieLijst': ['ZLXXREG_ZEGE'],\n",
       "      'KwaliteitswaardecodeLijst': ['00']}},\n",
       "    {'Tijdstip': '1989-01-01T12:20:00.000+01:00',\n",
       "     'Meetwaarde': {'Waarde_Numeriek': -20.0},\n",
       "     'WaarnemingMetadata': {'StatuswaardeLijst': ['Gecontroleerd'],\n",
       "      'BemonsteringshoogteLijst': ['-999999999'],\n",
       "      'ReferentievlakLijst': ['NVT'],\n",
       "      'OpdrachtgevendeInstantieLijst': ['ZLXXREG_ZEGE'],\n",
       "      'KwaliteitswaardecodeLijst': ['00']}},\n",
       "    {'Tijdstip': '1989-01-01T12:30:00.000+01:00',\n",
       "     'Meetwaarde': {'Waarde_Numeriek': -30.0},\n",
       "     'WaarnemingMetadata': {'StatuswaardeLijst': ['Gecontroleerd'],\n",
       "      'BemonsteringshoogteLijst': ['-999999999'],\n",
       "      'ReferentievlakLijst': ['NVT'],\n",
       "      'OpdrachtgevendeInstantieLijst': ['ZLXXREG_ZEGE'],\n",
       "      'KwaliteitswaardecodeLijst': ['00']}},\n",
       "    {'Tijdstip': '1989-01-01T12:40:00.000+01:00',\n",
       "     'Meetwaarde': {'Waarde_Numeriek': -40.0},\n",
       "     'WaarnemingMetadata': {'StatuswaardeLijst': ['Gecontroleerd'],\n",
       "      'BemonsteringshoogteLijst': ['-999999999'],\n",
       "      'ReferentievlakLijst': ['NVT'],\n",
       "      'OpdrachtgevendeInstantieLijst': ['ZLXXREG_ZEGE'],\n",
       "      'KwaliteitswaardecodeLijst': ['00']}},\n",
       "    {'Tijdstip': '1989-01-01T12:50:00.000+01:00',\n",
       "     'Meetwaarde': {'Waarde_Numeriek': -50.0},\n",
       "     'WaarnemingMetadata': {'StatuswaardeLijst': ['Gecontroleerd'],\n",
       "      'BemonsteringshoogteLijst': ['-999999999'],\n",
       "      'ReferentievlakLijst': ['NVT'],\n",
       "      'OpdrachtgevendeInstantieLijst': ['ZLXXREG_ZEGE'],\n",
       "      'KwaliteitswaardecodeLijst': ['00']}},\n",
       "    {'Tijdstip': '1989-01-01T13:00:00.000+01:00',\n",
       "     'Meetwaarde': {'Waarde_Numeriek': -60.0},\n",
       "     'WaarnemingMetadata': {'StatuswaardeLijst': ['Gecontroleerd'],\n",
       "      'BemonsteringshoogteLijst': ['-999999999'],\n",
       "      'ReferentievlakLijst': ['NVT'],\n",
       "      'OpdrachtgevendeInstantieLijst': ['ZLXXREG_ZEGE'],\n",
       "      'KwaliteitswaardecodeLijst': ['00']}},\n",
       "    {'Tijdstip': '1989-01-01T13:10:00.000+01:00',\n",
       "     'Meetwaarde': {'Waarde_Numeriek': -70.0},\n",
       "     'WaarnemingMetadata': {'StatuswaardeLijst': ['Gecontroleerd'],\n",
       "      'BemonsteringshoogteLijst': ['-999999999'],\n",
       "      'ReferentievlakLijst': ['NVT'],\n",
       "      'OpdrachtgevendeInstantieLijst': ['ZLXXREG_ZEGE'],\n",
       "      'KwaliteitswaardecodeLijst': ['00']}},\n",
       "    {'Tijdstip': '1989-01-01T13:20:00.000+01:00',\n",
       "     'Meetwaarde': {'Waarde_Numeriek': -80.0},\n",
       "     'WaarnemingMetadata': {'StatuswaardeLijst': ['Gecontroleerd'],\n",
       "      'BemonsteringshoogteLijst': ['-999999999'],\n",
       "      'ReferentievlakLijst': ['NVT'],\n",
       "      'OpdrachtgevendeInstantieLijst': ['ZLXXREG_ZEGE'],\n",
       "      'KwaliteitswaardecodeLijst': ['00']}},\n",
       "    {'Tijdstip': '1989-01-01T13:30:00.000+01:00',\n",
       "     'Meetwaarde': {'Waarde_Numeriek': -90.0},\n",
       "     'WaarnemingMetadata': {'StatuswaardeLijst': ['Gecontroleerd'],\n",
       "      'BemonsteringshoogteLijst': ['-999999999'],\n",
       "      'ReferentievlakLijst': ['NVT'],\n",
       "      'OpdrachtgevendeInstantieLijst': ['ZLXXREG_ZEGE'],\n",
       "      'KwaliteitswaardecodeLijst': ['00']}},\n",
       "    {'Tijdstip': '1989-01-01T13:40:00.000+01:00',\n",
       "     'Meetwaarde': {'Waarde_Numeriek': -99.0},\n",
       "     'WaarnemingMetadata': {'StatuswaardeLijst': ['Gecontroleerd'],\n",
       "      'BemonsteringshoogteLijst': ['-999999999'],\n",
       "      'ReferentievlakLijst': ['NVT'],\n",
       "      'OpdrachtgevendeInstantieLijst': ['ZLXXREG_ZEGE'],\n",
       "      'KwaliteitswaardecodeLijst': ['00']}},\n",
       "    {'Tijdstip': '1989-01-01T13:50:00.000+01:00',\n",
       "     'Meetwaarde': {'Waarde_Numeriek': -108.0},\n",
       "     'WaarnemingMetadata': {'StatuswaardeLijst': ['Gecontroleerd'],\n",
       "      'BemonsteringshoogteLijst': ['-999999999'],\n",
       "      'ReferentievlakLijst': ['NVT'],\n",
       "      'OpdrachtgevendeInstantieLijst': ['ZLXXREG_ZEGE'],\n",
       "      'KwaliteitswaardecodeLijst': ['00']}},\n",
       "    {'Tijdstip': '1989-01-01T14:00:00.000+01:00',\n",
       "     'Meetwaarde': {'Waarde_Numeriek': -117.0},\n",
       "     'WaarnemingMetadata': {'StatuswaardeLijst': ['Gecontroleerd'],\n",
       "      'BemonsteringshoogteLijst': ['-999999999'],\n",
       "      'ReferentievlakLijst': ['NVT'],\n",
       "      'OpdrachtgevendeInstantieLijst': ['ZLXXREG_ZEGE'],\n",
       "      'KwaliteitswaardecodeLijst': ['00']}},\n",
       "    {'Tijdstip': '1989-01-01T14:10:00.000+01:00',\n",
       "     'Meetwaarde': {'Waarde_Numeriek': -125.0},\n",
       "     'WaarnemingMetadata': {'StatuswaardeLijst': ['Gecontroleerd'],\n",
       "      'BemonsteringshoogteLijst': ['-999999999'],\n",
       "      'ReferentievlakLijst': ['NVT'],\n",
       "      'OpdrachtgevendeInstantieLijst': ['ZLXXREG_ZEGE'],\n",
       "      'KwaliteitswaardecodeLijst': ['00']}},\n",
       "    {'Tijdstip': '1989-01-01T14:20:00.000+01:00',\n",
       "     'Meetwaarde': {'Waarde_Numeriek': -132.0},\n",
       "     'WaarnemingMetadata': {'StatuswaardeLijst': ['Gecontroleerd'],\n",
       "      'BemonsteringshoogteLijst': ['-999999999'],\n",
       "      'ReferentievlakLijst': ['NVT'],\n",
       "      'OpdrachtgevendeInstantieLijst': ['ZLXXREG_ZEGE'],\n",
       "      'KwaliteitswaardecodeLijst': ['00']}},\n",
       "    {'Tijdstip': '1989-01-01T14:30:00.000+01:00',\n",
       "     'Meetwaarde': {'Waarde_Numeriek': -139.0},\n",
       "     'WaarnemingMetadata': {'StatuswaardeLijst': ['Gecontroleerd'],\n",
       "      'BemonsteringshoogteLijst': ['-999999999'],\n",
       "      'ReferentievlakLijst': ['NVT'],\n",
       "      'OpdrachtgevendeInstantieLijst': ['ZLXXREG_ZEGE'],\n",
       "      'KwaliteitswaardecodeLijst': ['00']}},\n",
       "    {'Tijdstip': '1989-01-01T14:40:00.000+01:00',\n",
       "     'Meetwaarde': {'Waarde_Numeriek': -146.0},\n",
       "     'WaarnemingMetadata': {'StatuswaardeLijst': ['Gecontroleerd'],\n",
       "      'BemonsteringshoogteLijst': ['-999999999'],\n",
       "      'ReferentievlakLijst': ['NVT'],\n",
       "      'OpdrachtgevendeInstantieLijst': ['ZLXXREG_ZEGE'],\n",
       "      'KwaliteitswaardecodeLijst': ['00']}},\n",
       "    {'Tijdstip': '1989-01-01T14:50:00.000+01:00',\n",
       "     'Meetwaarde': {'Waarde_Numeriek': -151.0},\n",
       "     'WaarnemingMetadata': {'StatuswaardeLijst': ['Gecontroleerd'],\n",
       "      'BemonsteringshoogteLijst': ['-999999999'],\n",
       "      'ReferentievlakLijst': ['NVT'],\n",
       "      'OpdrachtgevendeInstantieLijst': ['ZLXXREG_ZEGE'],\n",
       "      'KwaliteitswaardecodeLijst': ['00']}},\n",
       "    {'Tijdstip': '1989-01-01T15:00:00.000+01:00',\n",
       "     'Meetwaarde': {'Waarde_Numeriek': -155.0},\n",
       "     'WaarnemingMetadata': {'StatuswaardeLijst': ['Gecontroleerd'],\n",
       "      'BemonsteringshoogteLijst': ['-999999999'],\n",
       "      'ReferentievlakLijst': ['NVT'],\n",
       "      'OpdrachtgevendeInstantieLijst': ['ZLXXREG_ZEGE'],\n",
       "      'KwaliteitswaardecodeLijst': ['00']}},\n",
       "    {'Tijdstip': '1989-01-01T15:10:00.000+01:00',\n",
       "     'Meetwaarde': {'Waarde_Numeriek': -159.0},\n",
       "     'WaarnemingMetadata': {'StatuswaardeLijst': ['Gecontroleerd'],\n",
       "      'BemonsteringshoogteLijst': ['-999999999'],\n",
       "      'ReferentievlakLijst': ['NVT'],\n",
       "      'OpdrachtgevendeInstantieLijst': ['ZLXXREG_ZEGE'],\n",
       "      'KwaliteitswaardecodeLijst': ['00']}},\n",
       "    {'Tijdstip': '1989-01-01T15:20:00.000+01:00',\n",
       "     'Meetwaarde': {'Waarde_Numeriek': -160.0},\n",
       "     'WaarnemingMetadata': {'StatuswaardeLijst': ['Gecontroleerd'],\n",
       "      'BemonsteringshoogteLijst': ['-999999999'],\n",
       "      'ReferentievlakLijst': ['NVT'],\n",
       "      'OpdrachtgevendeInstantieLijst': ['ZLXXREG_ZEGE'],\n",
       "      'KwaliteitswaardecodeLijst': ['00']}},\n",
       "    {'Tijdstip': '1989-01-01T15:30:00.000+01:00',\n",
       "     'Meetwaarde': {'Waarde_Numeriek': -162.0},\n",
       "     'WaarnemingMetadata': {'StatuswaardeLijst': ['Gecontroleerd'],\n",
       "      'BemonsteringshoogteLijst': ['-999999999'],\n",
       "      'ReferentievlakLijst': ['NVT'],\n",
       "      'OpdrachtgevendeInstantieLijst': ['ZLXXREG_ZEGE'],\n",
       "      'KwaliteitswaardecodeLijst': ['00']}},\n",
       "    {'Tijdstip': '1989-01-01T15:40:00.000+01:00',\n",
       "     'Meetwaarde': {'Waarde_Numeriek': -161.0},\n",
       "     'WaarnemingMetadata': {'StatuswaardeLijst': ['Gecontroleerd'],\n",
       "      'BemonsteringshoogteLijst': ['-999999999'],\n",
       "      'ReferentievlakLijst': ['NVT'],\n",
       "      'OpdrachtgevendeInstantieLijst': ['ZLXXREG_ZEGE'],\n",
       "      'KwaliteitswaardecodeLijst': ['00']}},\n",
       "    {'Tijdstip': '1989-01-01T15:50:00.000+01:00',\n",
       "     'Meetwaarde': {'Waarde_Numeriek': -160.0},\n",
       "     'WaarnemingMetadata': {'StatuswaardeLijst': ['Gecontroleerd'],\n",
       "      'BemonsteringshoogteLijst': ['-999999999'],\n",
       "      'ReferentievlakLijst': ['NVT'],\n",
       "      'OpdrachtgevendeInstantieLijst': ['ZLXXREG_ZEGE'],\n",
       "      'KwaliteitswaardecodeLijst': ['00']}},\n",
       "    {'Tijdstip': '1989-01-01T16:00:00.000+01:00',\n",
       "     'Meetwaarde': {'Waarde_Numeriek': -156.0},\n",
       "     'WaarnemingMetadata': {'StatuswaardeLijst': ['Gecontroleerd'],\n",
       "      'BemonsteringshoogteLijst': ['-999999999'],\n",
       "      'ReferentievlakLijst': ['NVT'],\n",
       "      'OpdrachtgevendeInstantieLijst': ['ZLXXREG_ZEGE'],\n",
       "      'KwaliteitswaardecodeLijst': ['00']}},\n",
       "    {'Tijdstip': '1989-01-01T16:10:00.000+01:00',\n",
       "     'Meetwaarde': {'Waarde_Numeriek': -151.0},\n",
       "     'WaarnemingMetadata': {'StatuswaardeLijst': ['Gecontroleerd'],\n",
       "      'BemonsteringshoogteLijst': ['-999999999'],\n",
       "      'ReferentievlakLijst': ['NVT'],\n",
       "      'OpdrachtgevendeInstantieLijst': ['ZLXXREG_ZEGE'],\n",
       "      'KwaliteitswaardecodeLijst': ['00']}},\n",
       "    {'Tijdstip': '1989-01-01T16:20:00.000+01:00',\n",
       "     'Meetwaarde': {'Waarde_Numeriek': -145.0},\n",
       "     'WaarnemingMetadata': {'StatuswaardeLijst': ['Gecontroleerd'],\n",
       "      'BemonsteringshoogteLijst': ['-999999999'],\n",
       "      'ReferentievlakLijst': ['NVT'],\n",
       "      'OpdrachtgevendeInstantieLijst': ['ZLXXREG_ZEGE'],\n",
       "      'KwaliteitswaardecodeLijst': ['00']}},\n",
       "    {'Tijdstip': '1989-01-01T16:30:00.000+01:00',\n",
       "     'Meetwaarde': {'Waarde_Numeriek': -138.0},\n",
       "     'WaarnemingMetadata': {'StatuswaardeLijst': ['Gecontroleerd'],\n",
       "      'BemonsteringshoogteLijst': ['-999999999'],\n",
       "      'ReferentievlakLijst': ['NVT'],\n",
       "      'OpdrachtgevendeInstantieLijst': ['ZLXXREG_ZEGE'],\n",
       "      'KwaliteitswaardecodeLijst': ['00']}},\n",
       "    {'Tijdstip': '1989-01-01T16:40:00.000+01:00',\n",
       "     'Meetwaarde': {'Waarde_Numeriek': -131.0},\n",
       "     'WaarnemingMetadata': {'StatuswaardeLijst': ['Gecontroleerd'],\n",
       "      'BemonsteringshoogteLijst': ['-999999999'],\n",
       "      'ReferentievlakLijst': ['NVT'],\n",
       "      'OpdrachtgevendeInstantieLijst': ['ZLXXREG_ZEGE'],\n",
       "      'KwaliteitswaardecodeLijst': ['00']}},\n",
       "    {'Tijdstip': '1989-01-01T16:50:00.000+01:00',\n",
       "     'Meetwaarde': {'Waarde_Numeriek': -124.0},\n",
       "     'WaarnemingMetadata': {'StatuswaardeLijst': ['Gecontroleerd'],\n",
       "      'BemonsteringshoogteLijst': ['-999999999'],\n",
       "      'ReferentievlakLijst': ['NVT'],\n",
       "      'OpdrachtgevendeInstantieLijst': ['ZLXXREG_ZEGE'],\n",
       "      'KwaliteitswaardecodeLijst': ['00']}},\n",
       "    {'Tijdstip': '1989-01-01T17:00:00.000+01:00',\n",
       "     'Meetwaarde': {'Waarde_Numeriek': -116.0},\n",
       "     'WaarnemingMetadata': {'StatuswaardeLijst': ['Gecontroleerd'],\n",
       "      'BemonsteringshoogteLijst': ['-999999999'],\n",
       "      'ReferentievlakLijst': ['NVT'],\n",
       "      'OpdrachtgevendeInstantieLijst': ['ZLXXREG_ZEGE'],\n",
       "      'KwaliteitswaardecodeLijst': ['00']}},\n",
       "    {'Tijdstip': '1989-01-01T17:10:00.000+01:00',\n",
       "     'Meetwaarde': {'Waarde_Numeriek': -109.0},\n",
       "     'WaarnemingMetadata': {'StatuswaardeLijst': ['Gecontroleerd'],\n",
       "      'BemonsteringshoogteLijst': ['-999999999'],\n",
       "      'ReferentievlakLijst': ['NVT'],\n",
       "      'OpdrachtgevendeInstantieLijst': ['ZLXXREG_ZEGE'],\n",
       "      'KwaliteitswaardecodeLijst': ['00']}},\n",
       "    {'Tijdstip': '1989-01-01T17:20:00.000+01:00',\n",
       "     'Meetwaarde': {'Waarde_Numeriek': -101.0},\n",
       "     'WaarnemingMetadata': {'StatuswaardeLijst': ['Gecontroleerd'],\n",
       "      'BemonsteringshoogteLijst': ['-999999999'],\n",
       "      'ReferentievlakLijst': ['NVT'],\n",
       "      'OpdrachtgevendeInstantieLijst': ['ZLXXREG_ZEGE'],\n",
       "      'KwaliteitswaardecodeLijst': ['00']}},\n",
       "    {'Tijdstip': '1989-01-01T17:30:00.000+01:00',\n",
       "     'Meetwaarde': {'Waarde_Numeriek': -93.0},\n",
       "     'WaarnemingMetadata': {'StatuswaardeLijst': ['Gecontroleerd'],\n",
       "      'BemonsteringshoogteLijst': ['-999999999'],\n",
       "      'ReferentievlakLijst': ['NVT'],\n",
       "      'OpdrachtgevendeInstantieLijst': ['ZLXXREG_ZEGE'],\n",
       "      'KwaliteitswaardecodeLijst': ['00']}},\n",
       "    {'Tijdstip': '1989-01-01T17:40:00.000+01:00',\n",
       "     'Meetwaarde': {'Waarde_Numeriek': -85.0},\n",
       "     'WaarnemingMetadata': {'StatuswaardeLijst': ['Gecontroleerd'],\n",
       "      'BemonsteringshoogteLijst': ['-999999999'],\n",
       "      'ReferentievlakLijst': ['NVT'],\n",
       "      'OpdrachtgevendeInstantieLijst': ['ZLXXREG_ZEGE'],\n",
       "      'KwaliteitswaardecodeLijst': ['00']}},\n",
       "    {'Tijdstip': '1989-01-01T17:50:00.000+01:00',\n",
       "     'Meetwaarde': {'Waarde_Numeriek': -77.0},\n",
       "     'WaarnemingMetadata': {'StatuswaardeLijst': ['Gecontroleerd'],\n",
       "      'BemonsteringshoogteLijst': ['-999999999'],\n",
       "      'ReferentievlakLijst': ['NVT'],\n",
       "      'OpdrachtgevendeInstantieLijst': ['ZLXXREG_ZEGE'],\n",
       "      'KwaliteitswaardecodeLijst': ['00']}},\n",
       "    {'Tijdstip': '1989-01-01T18:00:00.000+01:00',\n",
       "     'Meetwaarde': {'Waarde_Numeriek': -69.0},\n",
       "     'WaarnemingMetadata': {'StatuswaardeLijst': ['Gecontroleerd'],\n",
       "      'BemonsteringshoogteLijst': ['-999999999'],\n",
       "      'ReferentievlakLijst': ['NVT'],\n",
       "      'OpdrachtgevendeInstantieLijst': ['ZLXXREG_ZEGE'],\n",
       "      'KwaliteitswaardecodeLijst': ['00']}},\n",
       "    {'Tijdstip': '1989-01-01T18:10:00.000+01:00',\n",
       "     'Meetwaarde': {'Waarde_Numeriek': -61.0},\n",
       "     'WaarnemingMetadata': {'StatuswaardeLijst': ['Gecontroleerd'],\n",
       "      'BemonsteringshoogteLijst': ['-999999999'],\n",
       "      'ReferentievlakLijst': ['NVT'],\n",
       "      'OpdrachtgevendeInstantieLijst': ['ZLXXREG_ZEGE'],\n",
       "      'KwaliteitswaardecodeLijst': ['00']}},\n",
       "    {'Tijdstip': '1989-01-01T18:20:00.000+01:00',\n",
       "     'Meetwaarde': {'Waarde_Numeriek': -53.0},\n",
       "     'WaarnemingMetadata': {'StatuswaardeLijst': ['Gecontroleerd'],\n",
       "      'BemonsteringshoogteLijst': ['-999999999'],\n",
       "      'ReferentievlakLijst': ['NVT'],\n",
       "      'OpdrachtgevendeInstantieLijst': ['ZLXXREG_ZEGE'],\n",
       "      'KwaliteitswaardecodeLijst': ['00']}},\n",
       "    {'Tijdstip': '1989-01-01T18:30:00.000+01:00',\n",
       "     'Meetwaarde': {'Waarde_Numeriek': -45.0},\n",
       "     'WaarnemingMetadata': {'StatuswaardeLijst': ['Gecontroleerd'],\n",
       "      'BemonsteringshoogteLijst': ['-999999999'],\n",
       "      'ReferentievlakLijst': ['NVT'],\n",
       "      'OpdrachtgevendeInstantieLijst': ['ZLXXREG_ZEGE'],\n",
       "      'KwaliteitswaardecodeLijst': ['00']}},\n",
       "    {'Tijdstip': '1989-01-01T18:40:00.000+01:00',\n",
       "     'Meetwaarde': {'Waarde_Numeriek': -37.0},\n",
       "     'WaarnemingMetadata': {'StatuswaardeLijst': ['Gecontroleerd'],\n",
       "      'BemonsteringshoogteLijst': ['-999999999'],\n",
       "      'ReferentievlakLijst': ['NVT'],\n",
       "      'OpdrachtgevendeInstantieLijst': ['ZLXXREG_ZEGE'],\n",
       "      'KwaliteitswaardecodeLijst': ['00']}},\n",
       "    {'Tijdstip': '1989-01-01T18:50:00.000+01:00',\n",
       "     'Meetwaarde': {'Waarde_Numeriek': -28.0},\n",
       "     'WaarnemingMetadata': {'StatuswaardeLijst': ['Gecontroleerd'],\n",
       "      'BemonsteringshoogteLijst': ['-999999999'],\n",
       "      'ReferentievlakLijst': ['NVT'],\n",
       "      'OpdrachtgevendeInstantieLijst': ['ZLXXREG_ZEGE'],\n",
       "      'KwaliteitswaardecodeLijst': ['00']}},\n",
       "    {'Tijdstip': '1989-01-01T19:00:00.000+01:00',\n",
       "     'Meetwaarde': {'Waarde_Numeriek': -19.0},\n",
       "     'WaarnemingMetadata': {'StatuswaardeLijst': ['Gecontroleerd'],\n",
       "      'BemonsteringshoogteLijst': ['-999999999'],\n",
       "      'ReferentievlakLijst': ['NVT'],\n",
       "      'OpdrachtgevendeInstantieLijst': ['ZLXXREG_ZEGE'],\n",
       "      'KwaliteitswaardecodeLijst': ['00']}},\n",
       "    {'Tijdstip': '1989-01-01T19:10:00.000+01:00',\n",
       "     'Meetwaarde': {'Waarde_Numeriek': -10.0},\n",
       "     'WaarnemingMetadata': {'StatuswaardeLijst': ['Gecontroleerd'],\n",
       "      'BemonsteringshoogteLijst': ['-999999999'],\n",
       "      'ReferentievlakLijst': ['NVT'],\n",
       "      'OpdrachtgevendeInstantieLijst': ['ZLXXREG_ZEGE'],\n",
       "      'KwaliteitswaardecodeLijst': ['00']}},\n",
       "    {'Tijdstip': '1989-01-01T19:20:00.000+01:00',\n",
       "     'Meetwaarde': {'Waarde_Numeriek': 0.0},\n",
       "     'WaarnemingMetadata': {'StatuswaardeLijst': ['Gecontroleerd'],\n",
       "      'BemonsteringshoogteLijst': ['-999999999'],\n",
       "      'ReferentievlakLijst': ['NVT'],\n",
       "      'OpdrachtgevendeInstantieLijst': ['ZLXXREG_ZEGE'],\n",
       "      'KwaliteitswaardecodeLijst': ['00']}},\n",
       "    {'Tijdstip': '1989-01-01T19:30:00.000+01:00',\n",
       "     'Meetwaarde': {'Waarde_Numeriek': 10.0},\n",
       "     'WaarnemingMetadata': {'StatuswaardeLijst': ['Gecontroleerd'],\n",
       "      'BemonsteringshoogteLijst': ['-999999999'],\n",
       "      'ReferentievlakLijst': ['NVT'],\n",
       "      'OpdrachtgevendeInstantieLijst': ['ZLXXREG_ZEGE'],\n",
       "      'KwaliteitswaardecodeLijst': ['00']}},\n",
       "    {'Tijdstip': '1989-01-01T19:40:00.000+01:00',\n",
       "     'Meetwaarde': {'Waarde_Numeriek': 21.0},\n",
       "     'WaarnemingMetadata': {'StatuswaardeLijst': ['Gecontroleerd'],\n",
       "      'BemonsteringshoogteLijst': ['-999999999'],\n",
       "      'ReferentievlakLijst': ['NVT'],\n",
       "      'OpdrachtgevendeInstantieLijst': ['ZLXXREG_ZEGE'],\n",
       "      'KwaliteitswaardecodeLijst': ['00']}},\n",
       "    {'Tijdstip': '1989-01-01T19:50:00.000+01:00',\n",
       "     'Meetwaarde': {'Waarde_Numeriek': 32.0},\n",
       "     'WaarnemingMetadata': {'StatuswaardeLijst': ['Gecontroleerd'],\n",
       "      'BemonsteringshoogteLijst': ['-999999999'],\n",
       "      'ReferentievlakLijst': ['NVT'],\n",
       "      'OpdrachtgevendeInstantieLijst': ['ZLXXREG_ZEGE'],\n",
       "      'KwaliteitswaardecodeLijst': ['00']}},\n",
       "    {'Tijdstip': '1989-01-01T20:00:00.000+01:00',\n",
       "     'Meetwaarde': {'Waarde_Numeriek': 43.0},\n",
       "     'WaarnemingMetadata': {'StatuswaardeLijst': ['Gecontroleerd'],\n",
       "      'BemonsteringshoogteLijst': ['-999999999'],\n",
       "      'ReferentievlakLijst': ['NVT'],\n",
       "      'OpdrachtgevendeInstantieLijst': ['ZLXXREG_ZEGE'],\n",
       "      'KwaliteitswaardecodeLijst': ['00']}},\n",
       "    {'Tijdstip': '1989-01-01T20:10:00.000+01:00',\n",
       "     'Meetwaarde': {'Waarde_Numeriek': 54.0},\n",
       "     'WaarnemingMetadata': {'StatuswaardeLijst': ['Gecontroleerd'],\n",
       "      'BemonsteringshoogteLijst': ['-999999999'],\n",
       "      'ReferentievlakLijst': ['NVT'],\n",
       "      'OpdrachtgevendeInstantieLijst': ['ZLXXREG_ZEGE'],\n",
       "      'KwaliteitswaardecodeLijst': ['00']}},\n",
       "    {'Tijdstip': '1989-01-01T20:20:00.000+01:00',\n",
       "     'Meetwaarde': {'Waarde_Numeriek': 65.0},\n",
       "     'WaarnemingMetadata': {'StatuswaardeLijst': ['Gecontroleerd'],\n",
       "      'BemonsteringshoogteLijst': ['-999999999'],\n",
       "      'ReferentievlakLijst': ['NVT'],\n",
       "      'OpdrachtgevendeInstantieLijst': ['ZLXXREG_ZEGE'],\n",
       "      'KwaliteitswaardecodeLijst': ['00']}},\n",
       "    {'Tijdstip': '1989-01-01T20:30:00.000+01:00',\n",
       "     'Meetwaarde': {'Waarde_Numeriek': 77.0},\n",
       "     'WaarnemingMetadata': {'StatuswaardeLijst': ['Gecontroleerd'],\n",
       "      'BemonsteringshoogteLijst': ['-999999999'],\n",
       "      'ReferentievlakLijst': ['NVT'],\n",
       "      'OpdrachtgevendeInstantieLijst': ['ZLXXREG_ZEGE'],\n",
       "      'KwaliteitswaardecodeLijst': ['00']}},\n",
       "    {'Tijdstip': '1989-01-01T20:40:00.000+01:00',\n",
       "     'Meetwaarde': {'Waarde_Numeriek': 87.0},\n",
       "     'WaarnemingMetadata': {'StatuswaardeLijst': ['Gecontroleerd'],\n",
       "      'BemonsteringshoogteLijst': ['-999999999'],\n",
       "      'ReferentievlakLijst': ['NVT'],\n",
       "      'OpdrachtgevendeInstantieLijst': ['ZLXXREG_ZEGE'],\n",
       "      'KwaliteitswaardecodeLijst': ['00']}},\n",
       "    {'Tijdstip': '1989-01-01T20:50:00.000+01:00',\n",
       "     'Meetwaarde': {'Waarde_Numeriek': 97.0},\n",
       "     'WaarnemingMetadata': {'StatuswaardeLijst': ['Gecontroleerd'],\n",
       "      'BemonsteringshoogteLijst': ['-999999999'],\n",
       "      'ReferentievlakLijst': ['NVT'],\n",
       "      'OpdrachtgevendeInstantieLijst': ['ZLXXREG_ZEGE'],\n",
       "      'KwaliteitswaardecodeLijst': ['00']}},\n",
       "    {'Tijdstip': '1989-01-01T21:00:00.000+01:00',\n",
       "     'Meetwaarde': {'Waarde_Numeriek': 106.0},\n",
       "     'WaarnemingMetadata': {'StatuswaardeLijst': ['Gecontroleerd'],\n",
       "      'BemonsteringshoogteLijst': ['-999999999'],\n",
       "      'ReferentievlakLijst': ['NVT'],\n",
       "      'OpdrachtgevendeInstantieLijst': ['ZLXXREG_ZEGE'],\n",
       "      'KwaliteitswaardecodeLijst': ['00']}},\n",
       "    {'Tijdstip': '1989-01-01T21:10:00.000+01:00',\n",
       "     'Meetwaarde': {'Waarde_Numeriek': 115.0},\n",
       "     'WaarnemingMetadata': {'StatuswaardeLijst': ['Gecontroleerd'],\n",
       "      'BemonsteringshoogteLijst': ['-999999999'],\n",
       "      'ReferentievlakLijst': ['NVT'],\n",
       "      'OpdrachtgevendeInstantieLijst': ['ZLXXREG_ZEGE'],\n",
       "      'KwaliteitswaardecodeLijst': ['00']}},\n",
       "    {'Tijdstip': '1989-01-01T21:20:00.000+01:00',\n",
       "     'Meetwaarde': {'Waarde_Numeriek': 122.0},\n",
       "     'WaarnemingMetadata': {'StatuswaardeLijst': ['Gecontroleerd'],\n",
       "      'BemonsteringshoogteLijst': ['-999999999'],\n",
       "      'ReferentievlakLijst': ['NVT'],\n",
       "      'OpdrachtgevendeInstantieLijst': ['ZLXXREG_ZEGE'],\n",
       "      'KwaliteitswaardecodeLijst': ['00']}},\n",
       "    {'Tijdstip': '1989-01-01T21:30:00.000+01:00',\n",
       "     'Meetwaarde': {'Waarde_Numeriek': 128.0},\n",
       "     'WaarnemingMetadata': {'StatuswaardeLijst': ['Gecontroleerd'],\n",
       "      'BemonsteringshoogteLijst': ['-999999999'],\n",
       "      'ReferentievlakLijst': ['NVT'],\n",
       "      'OpdrachtgevendeInstantieLijst': ['ZLXXREG_ZEGE'],\n",
       "      'KwaliteitswaardecodeLijst': ['00']}},\n",
       "    {'Tijdstip': '1989-01-01T21:40:00.000+01:00',\n",
       "     'Meetwaarde': {'Waarde_Numeriek': 133.0},\n",
       "     'WaarnemingMetadata': {'StatuswaardeLijst': ['Gecontroleerd'],\n",
       "      'BemonsteringshoogteLijst': ['-999999999'],\n",
       "      'ReferentievlakLijst': ['NVT'],\n",
       "      'OpdrachtgevendeInstantieLijst': ['ZLXXREG_ZEGE'],\n",
       "      'KwaliteitswaardecodeLijst': ['00']}},\n",
       "    {'Tijdstip': '1989-01-01T21:50:00.000+01:00',\n",
       "     'Meetwaarde': {'Waarde_Numeriek': 137.0},\n",
       "     'WaarnemingMetadata': {'StatuswaardeLijst': ['Gecontroleerd'],\n",
       "      'BemonsteringshoogteLijst': ['-999999999'],\n",
       "      'ReferentievlakLijst': ['NVT'],\n",
       "      'OpdrachtgevendeInstantieLijst': ['ZLXXREG_ZEGE'],\n",
       "      'KwaliteitswaardecodeLijst': ['00']}},\n",
       "    {'Tijdstip': '1989-01-01T22:00:00.000+01:00',\n",
       "     'Meetwaarde': {'Waarde_Numeriek': 140.0},\n",
       "     'WaarnemingMetadata': {'StatuswaardeLijst': ['Gecontroleerd'],\n",
       "      'BemonsteringshoogteLijst': ['-999999999'],\n",
       "      'ReferentievlakLijst': ['NVT'],\n",
       "      'OpdrachtgevendeInstantieLijst': ['ZLXXREG_ZEGE'],\n",
       "      'KwaliteitswaardecodeLijst': ['00']}},\n",
       "    {'Tijdstip': '1989-01-01T22:10:00.000+01:00',\n",
       "     'Meetwaarde': {'Waarde_Numeriek': 141.0},\n",
       "     'WaarnemingMetadata': {'StatuswaardeLijst': ['Gecontroleerd'],\n",
       "      'BemonsteringshoogteLijst': ['-999999999'],\n",
       "      'ReferentievlakLijst': ['NVT'],\n",
       "      'OpdrachtgevendeInstantieLijst': ['ZLXXREG_ZEGE'],\n",
       "      'KwaliteitswaardecodeLijst': ['00']}},\n",
       "    {'Tijdstip': '1989-01-01T22:20:00.000+01:00',\n",
       "     'Meetwaarde': {'Waarde_Numeriek': 141.0},\n",
       "     'WaarnemingMetadata': {'StatuswaardeLijst': ['Gecontroleerd'],\n",
       "      'BemonsteringshoogteLijst': ['-999999999'],\n",
       "      'ReferentievlakLijst': ['NVT'],\n",
       "      'OpdrachtgevendeInstantieLijst': ['ZLXXREG_ZEGE'],\n",
       "      'KwaliteitswaardecodeLijst': ['00']}},\n",
       "    {'Tijdstip': '1989-01-01T22:30:00.000+01:00',\n",
       "     'Meetwaarde': {'Waarde_Numeriek': 138.0},\n",
       "     'WaarnemingMetadata': {'StatuswaardeLijst': ['Gecontroleerd'],\n",
       "      'BemonsteringshoogteLijst': ['-999999999'],\n",
       "      'ReferentievlakLijst': ['NVT'],\n",
       "      'OpdrachtgevendeInstantieLijst': ['ZLXXREG_ZEGE'],\n",
       "      'KwaliteitswaardecodeLijst': ['00']}},\n",
       "    {'Tijdstip': '1989-01-01T22:40:00.000+01:00',\n",
       "     'Meetwaarde': {'Waarde_Numeriek': 135.0},\n",
       "     'WaarnemingMetadata': {'StatuswaardeLijst': ['Gecontroleerd'],\n",
       "      'BemonsteringshoogteLijst': ['-999999999'],\n",
       "      'ReferentievlakLijst': ['NVT'],\n",
       "      'OpdrachtgevendeInstantieLijst': ['ZLXXREG_ZEGE'],\n",
       "      'KwaliteitswaardecodeLijst': ['00']}},\n",
       "    {'Tijdstip': '1989-01-01T22:50:00.000+01:00',\n",
       "     'Meetwaarde': {'Waarde_Numeriek': 129.0},\n",
       "     'WaarnemingMetadata': {'StatuswaardeLijst': ['Gecontroleerd'],\n",
       "      'BemonsteringshoogteLijst': ['-999999999'],\n",
       "      'ReferentievlakLijst': ['NVT'],\n",
       "      'OpdrachtgevendeInstantieLijst': ['ZLXXREG_ZEGE'],\n",
       "      'KwaliteitswaardecodeLijst': ['00']}},\n",
       "    {'Tijdstip': '1989-01-01T23:00:00.000+01:00',\n",
       "     'Meetwaarde': {'Waarde_Numeriek': 122.0},\n",
       "     'WaarnemingMetadata': {'StatuswaardeLijst': ['Gecontroleerd'],\n",
       "      'BemonsteringshoogteLijst': ['-999999999'],\n",
       "      'ReferentievlakLijst': ['NVT'],\n",
       "      'OpdrachtgevendeInstantieLijst': ['ZLXXREG_ZEGE'],\n",
       "      'KwaliteitswaardecodeLijst': ['00']}},\n",
       "    {'Tijdstip': '1989-01-01T23:10:00.000+01:00',\n",
       "     'Meetwaarde': {'Waarde_Numeriek': 114.0},\n",
       "     'WaarnemingMetadata': {'StatuswaardeLijst': ['Gecontroleerd'],\n",
       "      'BemonsteringshoogteLijst': ['-999999999'],\n",
       "      'ReferentievlakLijst': ['NVT'],\n",
       "      'OpdrachtgevendeInstantieLijst': ['ZLXXREG_ZEGE'],\n",
       "      'KwaliteitswaardecodeLijst': ['00']}},\n",
       "    {'Tijdstip': '1989-01-01T23:20:00.000+01:00',\n",
       "     'Meetwaarde': {'Waarde_Numeriek': 105.0},\n",
       "     'WaarnemingMetadata': {'StatuswaardeLijst': ['Gecontroleerd'],\n",
       "      'BemonsteringshoogteLijst': ['-999999999'],\n",
       "      'ReferentievlakLijst': ['NVT'],\n",
       "      'OpdrachtgevendeInstantieLijst': ['ZLXXREG_ZEGE'],\n",
       "      'KwaliteitswaardecodeLijst': ['00']}},\n",
       "    {'Tijdstip': '1989-01-01T23:30:00.000+01:00',\n",
       "     'Meetwaarde': {'Waarde_Numeriek': 96.0},\n",
       "     'WaarnemingMetadata': {'StatuswaardeLijst': ['Gecontroleerd'],\n",
       "      'BemonsteringshoogteLijst': ['-999999999'],\n",
       "      'ReferentievlakLijst': ['NVT'],\n",
       "      'OpdrachtgevendeInstantieLijst': ['ZLXXREG_ZEGE'],\n",
       "      'KwaliteitswaardecodeLijst': ['00']}},\n",
       "    {'Tijdstip': '1989-01-01T23:40:00.000+01:00',\n",
       "     'Meetwaarde': {'Waarde_Numeriek': 86.0},\n",
       "     'WaarnemingMetadata': {'StatuswaardeLijst': ['Gecontroleerd'],\n",
       "      'BemonsteringshoogteLijst': ['-999999999'],\n",
       "      'ReferentievlakLijst': ['NVT'],\n",
       "      'OpdrachtgevendeInstantieLijst': ['ZLXXREG_ZEGE'],\n",
       "      'KwaliteitswaardecodeLijst': ['00']}},\n",
       "    {'Tijdstip': '1989-01-01T23:50:00.000+01:00',\n",
       "     'Meetwaarde': {'Waarde_Numeriek': 76.0},\n",
       "     'WaarnemingMetadata': {'StatuswaardeLijst': ['Gecontroleerd'],\n",
       "      'BemonsteringshoogteLijst': ['-999999999'],\n",
       "      'ReferentievlakLijst': ['NVT'],\n",
       "      'OpdrachtgevendeInstantieLijst': ['ZLXXREG_ZEGE'],\n",
       "      'KwaliteitswaardecodeLijst': ['00']}},\n",
       "    {'Tijdstip': '1989-01-02T00:00:00.000+01:00',\n",
       "     'Meetwaarde': {'Waarde_Numeriek': 65.0},\n",
       "     'WaarnemingMetadata': {'StatuswaardeLijst': ['Gecontroleerd'],\n",
       "      'BemonsteringshoogteLijst': ['-999999999'],\n",
       "      'ReferentievlakLijst': ['NVT'],\n",
       "      'OpdrachtgevendeInstantieLijst': ['ZLXXREG_ZEGE'],\n",
       "      'KwaliteitswaardecodeLijst': ['00']}},\n",
       "    {'Tijdstip': '1989-01-02T00:10:00.000+01:00',\n",
       "     'Meetwaarde': {'Waarde_Numeriek': 54.0},\n",
       "     'WaarnemingMetadata': {'StatuswaardeLijst': ['Gecontroleerd'],\n",
       "      'BemonsteringshoogteLijst': ['-999999999'],\n",
       "      'ReferentievlakLijst': ['NVT'],\n",
       "      'OpdrachtgevendeInstantieLijst': ['ZLXXREG_ZEGE'],\n",
       "      'KwaliteitswaardecodeLijst': ['00']}},\n",
       "    {'Tijdstip': '1989-01-02T00:20:00.000+01:00',\n",
       "     'Meetwaarde': {'Waarde_Numeriek': 43.0},\n",
       "     'WaarnemingMetadata': {'StatuswaardeLijst': ['Gecontroleerd'],\n",
       "      'BemonsteringshoogteLijst': ['-999999999'],\n",
       "      'ReferentievlakLijst': ['NVT'],\n",
       "      'OpdrachtgevendeInstantieLijst': ['ZLXXREG_ZEGE'],\n",
       "      'KwaliteitswaardecodeLijst': ['00']}},\n",
       "    {'Tijdstip': '1989-01-02T00:30:00.000+01:00',\n",
       "     'Meetwaarde': {'Waarde_Numeriek': 32.0},\n",
       "     'WaarnemingMetadata': {'StatuswaardeLijst': ['Gecontroleerd'],\n",
       "      'BemonsteringshoogteLijst': ['-999999999'],\n",
       "      'ReferentievlakLijst': ['NVT'],\n",
       "      'OpdrachtgevendeInstantieLijst': ['ZLXXREG_ZEGE'],\n",
       "      'KwaliteitswaardecodeLijst': ['00']}},\n",
       "    {'Tijdstip': '1989-01-02T00:40:00.000+01:00',\n",
       "     'Meetwaarde': {'Waarde_Numeriek': 21.0},\n",
       "     'WaarnemingMetadata': {'StatuswaardeLijst': ['Gecontroleerd'],\n",
       "      'BemonsteringshoogteLijst': ['-999999999'],\n",
       "      'ReferentievlakLijst': ['NVT'],\n",
       "      'OpdrachtgevendeInstantieLijst': ['ZLXXREG_ZEGE'],\n",
       "      'KwaliteitswaardecodeLijst': ['00']}},\n",
       "    {'Tijdstip': '1989-01-02T00:50:00.000+01:00',\n",
       "     'Meetwaarde': {'Waarde_Numeriek': 11.0},\n",
       "     'WaarnemingMetadata': {'StatuswaardeLijst': ['Gecontroleerd'],\n",
       "      'BemonsteringshoogteLijst': ['-999999999'],\n",
       "      'ReferentievlakLijst': ['NVT'],\n",
       "      'OpdrachtgevendeInstantieLijst': ['ZLXXREG_ZEGE'],\n",
       "      'KwaliteitswaardecodeLijst': ['00']}},\n",
       "    {'Tijdstip': '1989-01-02T01:00:00.000+01:00',\n",
       "     'Meetwaarde': {'Waarde_Numeriek': 0.0},\n",
       "     'WaarnemingMetadata': {'StatuswaardeLijst': ['Gecontroleerd'],\n",
       "      'BemonsteringshoogteLijst': ['-999999999'],\n",
       "      'ReferentievlakLijst': ['NVT'],\n",
       "      'OpdrachtgevendeInstantieLijst': ['ZLXXREG_ZEGE'],\n",
       "      'KwaliteitswaardecodeLijst': ['00']}},\n",
       "    {'Tijdstip': '1989-01-02T01:10:00.000+01:00',\n",
       "     'Meetwaarde': {'Waarde_Numeriek': -9.0},\n",
       "     'WaarnemingMetadata': {'StatuswaardeLijst': ['Gecontroleerd'],\n",
       "      'BemonsteringshoogteLijst': ['-999999999'],\n",
       "      'ReferentievlakLijst': ['NVT'],\n",
       "      'OpdrachtgevendeInstantieLijst': ['ZLXXREG_ZEGE'],\n",
       "      'KwaliteitswaardecodeLijst': ['00']}},\n",
       "    {'Tijdstip': '1989-01-02T01:20:00.000+01:00',\n",
       "     'Meetwaarde': {'Waarde_Numeriek': -19.0},\n",
       "     'WaarnemingMetadata': {'StatuswaardeLijst': ['Gecontroleerd'],\n",
       "      'BemonsteringshoogteLijst': ['-999999999'],\n",
       "      'ReferentievlakLijst': ['NVT'],\n",
       "      'OpdrachtgevendeInstantieLijst': ['ZLXXREG_ZEGE'],\n",
       "      'KwaliteitswaardecodeLijst': ['00']}},\n",
       "    {'Tijdstip': '1989-01-02T01:30:00.000+01:00',\n",
       "     'Meetwaarde': {'Waarde_Numeriek': -29.0},\n",
       "     'WaarnemingMetadata': {'StatuswaardeLijst': ['Gecontroleerd'],\n",
       "      'BemonsteringshoogteLijst': ['-999999999'],\n",
       "      'ReferentievlakLijst': ['NVT'],\n",
       "      'OpdrachtgevendeInstantieLijst': ['ZLXXREG_ZEGE'],\n",
       "      'KwaliteitswaardecodeLijst': ['00']}},\n",
       "    {'Tijdstip': '1989-01-02T01:40:00.000+01:00',\n",
       "     'Meetwaarde': {'Waarde_Numeriek': -38.0},\n",
       "     'WaarnemingMetadata': {'StatuswaardeLijst': ['Gecontroleerd'],\n",
       "      'BemonsteringshoogteLijst': ['-999999999'],\n",
       "      'ReferentievlakLijst': ['NVT'],\n",
       "      'OpdrachtgevendeInstantieLijst': ['ZLXXREG_ZEGE'],\n",
       "      'KwaliteitswaardecodeLijst': ['00']}},\n",
       "    {'Tijdstip': '1989-01-02T01:50:00.000+01:00',\n",
       "     'Meetwaarde': {'Waarde_Numeriek': -47.0},\n",
       "     'WaarnemingMetadata': {'StatuswaardeLijst': ['Gecontroleerd'],\n",
       "      'BemonsteringshoogteLijst': ['-999999999'],\n",
       "      'ReferentievlakLijst': ['NVT'],\n",
       "      'OpdrachtgevendeInstantieLijst': ['ZLXXREG_ZEGE'],\n",
       "      'KwaliteitswaardecodeLijst': ['00']}},\n",
       "    {'Tijdstip': '1989-01-02T02:00:00.000+01:00',\n",
       "     'Meetwaarde': {'Waarde_Numeriek': -56.0},\n",
       "     'WaarnemingMetadata': {'StatuswaardeLijst': ['Gecontroleerd'],\n",
       "      'BemonsteringshoogteLijst': ['-999999999'],\n",
       "      'ReferentievlakLijst': ['NVT'],\n",
       "      'OpdrachtgevendeInstantieLijst': ['ZLXXREG_ZEGE'],\n",
       "      'KwaliteitswaardecodeLijst': ['00']}},\n",
       "    {'Tijdstip': '1989-01-02T02:10:00.000+01:00',\n",
       "     'Meetwaarde': {'Waarde_Numeriek': -65.0},\n",
       "     'WaarnemingMetadata': {'StatuswaardeLijst': ['Gecontroleerd'],\n",
       "      'BemonsteringshoogteLijst': ['-999999999'],\n",
       "      'ReferentievlakLijst': ['NVT'],\n",
       "      'OpdrachtgevendeInstantieLijst': ['ZLXXREG_ZEGE'],\n",
       "      'KwaliteitswaardecodeLijst': ['00']}},\n",
       "    {'Tijdstip': '1989-01-02T02:20:00.000+01:00',\n",
       "     'Meetwaarde': {'Waarde_Numeriek': -73.0},\n",
       "     'WaarnemingMetadata': {'StatuswaardeLijst': ['Gecontroleerd'],\n",
       "      'BemonsteringshoogteLijst': ['-999999999'],\n",
       "      'ReferentievlakLijst': ['NVT'],\n",
       "      'OpdrachtgevendeInstantieLijst': ['ZLXXREG_ZEGE'],\n",
       "      'KwaliteitswaardecodeLijst': ['00']}},\n",
       "    {'Tijdstip': '1989-01-02T02:30:00.000+01:00',\n",
       "     'Meetwaarde': {'Waarde_Numeriek': -80.0},\n",
       "     'WaarnemingMetadata': {'StatuswaardeLijst': ['Gecontroleerd'],\n",
       "      'BemonsteringshoogteLijst': ['-999999999'],\n",
       "      'ReferentievlakLijst': ['NVT'],\n",
       "      'OpdrachtgevendeInstantieLijst': ['ZLXXREG_ZEGE'],\n",
       "      'KwaliteitswaardecodeLijst': ['00']}},\n",
       "    {'Tijdstip': '1989-01-02T02:40:00.000+01:00',\n",
       "     'Meetwaarde': {'Waarde_Numeriek': -88.0},\n",
       "     'WaarnemingMetadata': {'StatuswaardeLijst': ['Gecontroleerd'],\n",
       "      'BemonsteringshoogteLijst': ['-999999999'],\n",
       "      'ReferentievlakLijst': ['NVT'],\n",
       "      'OpdrachtgevendeInstantieLijst': ['ZLXXREG_ZEGE'],\n",
       "      'KwaliteitswaardecodeLijst': ['00']}},\n",
       "    {'Tijdstip': '1989-01-02T02:50:00.000+01:00',\n",
       "     'Meetwaarde': {'Waarde_Numeriek': -94.0},\n",
       "     'WaarnemingMetadata': {'StatuswaardeLijst': ['Gecontroleerd'],\n",
       "      'BemonsteringshoogteLijst': ['-999999999'],\n",
       "      'ReferentievlakLijst': ['NVT'],\n",
       "      'OpdrachtgevendeInstantieLijst': ['ZLXXREG_ZEGE'],\n",
       "      'KwaliteitswaardecodeLijst': ['00']}},\n",
       "    {'Tijdstip': '1989-01-02T03:00:00.000+01:00',\n",
       "     'Meetwaarde': {'Waarde_Numeriek': -100.0},\n",
       "     'WaarnemingMetadata': {'StatuswaardeLijst': ['Gecontroleerd'],\n",
       "      'BemonsteringshoogteLijst': ['-999999999'],\n",
       "      'ReferentievlakLijst': ['NVT'],\n",
       "      'OpdrachtgevendeInstantieLijst': ['ZLXXREG_ZEGE'],\n",
       "      'KwaliteitswaardecodeLijst': ['00']}},\n",
       "    {'Tijdstip': '1989-01-02T03:10:00.000+01:00',\n",
       "     'Meetwaarde': {'Waarde_Numeriek': -106.0},\n",
       "     'WaarnemingMetadata': {'StatuswaardeLijst': ['Gecontroleerd'],\n",
       "      'BemonsteringshoogteLijst': ['-999999999'],\n",
       "      'ReferentievlakLijst': ['NVT'],\n",
       "      'OpdrachtgevendeInstantieLijst': ['ZLXXREG_ZEGE'],\n",
       "      'KwaliteitswaardecodeLijst': ['00']}},\n",
       "    {'Tijdstip': '1989-01-02T03:20:00.000+01:00',\n",
       "     'Meetwaarde': {'Waarde_Numeriek': -111.0},\n",
       "     'WaarnemingMetadata': {'StatuswaardeLijst': ['Gecontroleerd'],\n",
       "      'BemonsteringshoogteLijst': ['-999999999'],\n",
       "      'ReferentievlakLijst': ['NVT'],\n",
       "      'OpdrachtgevendeInstantieLijst': ['ZLXXREG_ZEGE'],\n",
       "      'KwaliteitswaardecodeLijst': ['00']}},\n",
       "    {'Tijdstip': '1989-01-02T03:30:00.000+01:00',\n",
       "     'Meetwaarde': {'Waarde_Numeriek': -114.0},\n",
       "     'WaarnemingMetadata': {'StatuswaardeLijst': ['Gecontroleerd'],\n",
       "      'BemonsteringshoogteLijst': ['-999999999'],\n",
       "      'ReferentievlakLijst': ['NVT'],\n",
       "      'OpdrachtgevendeInstantieLijst': ['ZLXXREG_ZEGE'],\n",
       "      'KwaliteitswaardecodeLijst': ['00']}},\n",
       "    {'Tijdstip': '1989-01-02T03:40:00.000+01:00',\n",
       "     'Meetwaarde': {'Waarde_Numeriek': -117.0},\n",
       "     'WaarnemingMetadata': {'StatuswaardeLijst': ['Gecontroleerd'],\n",
       "      'BemonsteringshoogteLijst': ['-999999999'],\n",
       "      'ReferentievlakLijst': ['NVT'],\n",
       "      'OpdrachtgevendeInstantieLijst': ['ZLXXREG_ZEGE'],\n",
       "      'KwaliteitswaardecodeLijst': ['00']}},\n",
       "    {'Tijdstip': '1989-01-02T03:50:00.000+01:00',\n",
       "     'Meetwaarde': {'Waarde_Numeriek': -118.0},\n",
       "     'WaarnemingMetadata': {'StatuswaardeLijst': ['Gecontroleerd'],\n",
       "      'BemonsteringshoogteLijst': ['-999999999'],\n",
       "      'ReferentievlakLijst': ['NVT'],\n",
       "      'OpdrachtgevendeInstantieLijst': ['ZLXXREG_ZEGE'],\n",
       "      'KwaliteitswaardecodeLijst': ['00']}},\n",
       "    {'Tijdstip': '1989-01-02T04:00:00.000+01:00',\n",
       "     'Meetwaarde': {'Waarde_Numeriek': -118.0},\n",
       "     'WaarnemingMetadata': {'StatuswaardeLijst': ['Gecontroleerd'],\n",
       "      'BemonsteringshoogteLijst': ['-999999999'],\n",
       "      'ReferentievlakLijst': ['NVT'],\n",
       "      'OpdrachtgevendeInstantieLijst': ['ZLXXREG_ZEGE'],\n",
       "      'KwaliteitswaardecodeLijst': ['00']}},\n",
       "    {'Tijdstip': '1989-01-02T04:10:00.000+01:00',\n",
       "     'Meetwaarde': {'Waarde_Numeriek': -118.0},\n",
       "     'WaarnemingMetadata': {'StatuswaardeLijst': ['Gecontroleerd'],\n",
       "      'BemonsteringshoogteLijst': ['-999999999'],\n",
       "      'ReferentievlakLijst': ['NVT'],\n",
       "      'OpdrachtgevendeInstantieLijst': ['ZLXXREG_ZEGE'],\n",
       "      'KwaliteitswaardecodeLijst': ['00']}},\n",
       "    {'Tijdstip': '1989-01-02T04:20:00.000+01:00',\n",
       "     'Meetwaarde': {'Waarde_Numeriek': -116.0},\n",
       "     'WaarnemingMetadata': {'StatuswaardeLijst': ['Gecontroleerd'],\n",
       "      'BemonsteringshoogteLijst': ['-999999999'],\n",
       "      'ReferentievlakLijst': ['NVT'],\n",
       "      'OpdrachtgevendeInstantieLijst': ['ZLXXREG_ZEGE'],\n",
       "      'KwaliteitswaardecodeLijst': ['00']}},\n",
       "    {'Tijdstip': '1989-01-02T04:30:00.000+01:00',\n",
       "     'Meetwaarde': {'Waarde_Numeriek': -113.0},\n",
       "     'WaarnemingMetadata': {'StatuswaardeLijst': ['Gecontroleerd'],\n",
       "      'BemonsteringshoogteLijst': ['-999999999'],\n",
       "      'ReferentievlakLijst': ['NVT'],\n",
       "      'OpdrachtgevendeInstantieLijst': ['ZLXXREG_ZEGE'],\n",
       "      'KwaliteitswaardecodeLijst': ['00']}},\n",
       "    {'Tijdstip': '1989-01-02T04:40:00.000+01:00',\n",
       "     'Meetwaarde': {'Waarde_Numeriek': -109.0},\n",
       "     'WaarnemingMetadata': {'StatuswaardeLijst': ['Gecontroleerd'],\n",
       "      'BemonsteringshoogteLijst': ['-999999999'],\n",
       "      'ReferentievlakLijst': ['NVT'],\n",
       "      'OpdrachtgevendeInstantieLijst': ['ZLXXREG_ZEGE'],\n",
       "      'KwaliteitswaardecodeLijst': ['00']}},\n",
       "    {'Tijdstip': '1989-01-02T04:50:00.000+01:00',\n",
       "     'Meetwaarde': {'Waarde_Numeriek': -104.0},\n",
       "     'WaarnemingMetadata': {'StatuswaardeLijst': ['Gecontroleerd'],\n",
       "      'BemonsteringshoogteLijst': ['-999999999'],\n",
       "      'ReferentievlakLijst': ['NVT'],\n",
       "      'OpdrachtgevendeInstantieLijst': ['ZLXXREG_ZEGE'],\n",
       "      'KwaliteitswaardecodeLijst': ['00']}},\n",
       "    {'Tijdstip': '1989-01-02T05:00:00.000+01:00',\n",
       "     'Meetwaarde': {'Waarde_Numeriek': -99.0},\n",
       "     'WaarnemingMetadata': {'StatuswaardeLijst': ['Gecontroleerd'],\n",
       "      'BemonsteringshoogteLijst': ['-999999999'],\n",
       "      'ReferentievlakLijst': ['NVT'],\n",
       "      'OpdrachtgevendeInstantieLijst': ['ZLXXREG_ZEGE'],\n",
       "      'KwaliteitswaardecodeLijst': ['00']}},\n",
       "    {'Tijdstip': '1989-01-02T05:10:00.000+01:00',\n",
       "     'Meetwaarde': {'Waarde_Numeriek': -93.0},\n",
       "     'WaarnemingMetadata': {'StatuswaardeLijst': ['Gecontroleerd'],\n",
       "      'BemonsteringshoogteLijst': ['-999999999'],\n",
       "      'ReferentievlakLijst': ['NVT'],\n",
       "      'OpdrachtgevendeInstantieLijst': ['ZLXXREG_ZEGE'],\n",
       "      'KwaliteitswaardecodeLijst': ['00']}},\n",
       "    {'Tijdstip': '1989-01-02T05:20:00.000+01:00',\n",
       "     'Meetwaarde': {'Waarde_Numeriek': -86.0},\n",
       "     'WaarnemingMetadata': {'StatuswaardeLijst': ['Gecontroleerd'],\n",
       "      'BemonsteringshoogteLijst': ['-999999999'],\n",
       "      'ReferentievlakLijst': ['NVT'],\n",
       "      'OpdrachtgevendeInstantieLijst': ['ZLXXREG_ZEGE'],\n",
       "      'KwaliteitswaardecodeLijst': ['00']}},\n",
       "    {'Tijdstip': '1989-01-02T05:30:00.000+01:00',\n",
       "     'Meetwaarde': {'Waarde_Numeriek': -79.0},\n",
       "     'WaarnemingMetadata': {'StatuswaardeLijst': ['Gecontroleerd'],\n",
       "      'BemonsteringshoogteLijst': ['-999999999'],\n",
       "      'ReferentievlakLijst': ['NVT'],\n",
       "      'OpdrachtgevendeInstantieLijst': ['ZLXXREG_ZEGE'],\n",
       "      'KwaliteitswaardecodeLijst': ['00']}},\n",
       "    {'Tijdstip': '1989-01-02T05:40:00.000+01:00',\n",
       "     'Meetwaarde': {'Waarde_Numeriek': -72.0},\n",
       "     'WaarnemingMetadata': {'StatuswaardeLijst': ['Gecontroleerd'],\n",
       "      'BemonsteringshoogteLijst': ['-999999999'],\n",
       "      'ReferentievlakLijst': ['NVT'],\n",
       "      'OpdrachtgevendeInstantieLijst': ['ZLXXREG_ZEGE'],\n",
       "      'KwaliteitswaardecodeLijst': ['00']}},\n",
       "    {'Tijdstip': '1989-01-02T05:50:00.000+01:00',\n",
       "     'Meetwaarde': {'Waarde_Numeriek': -66.0},\n",
       "     'WaarnemingMetadata': {'StatuswaardeLijst': ['Gecontroleerd'],\n",
       "      'BemonsteringshoogteLijst': ['-999999999'],\n",
       "      'ReferentievlakLijst': ['NVT'],\n",
       "      'OpdrachtgevendeInstantieLijst': ['ZLXXREG_ZEGE'],\n",
       "      'KwaliteitswaardecodeLijst': ['00']}},\n",
       "    {'Tijdstip': '1989-01-02T06:00:00.000+01:00',\n",
       "     'Meetwaarde': {'Waarde_Numeriek': -59.0},\n",
       "     'WaarnemingMetadata': {'StatuswaardeLijst': ['Gecontroleerd'],\n",
       "      'BemonsteringshoogteLijst': ['-999999999'],\n",
       "      'ReferentievlakLijst': ['NVT'],\n",
       "      'OpdrachtgevendeInstantieLijst': ['ZLXXREG_ZEGE'],\n",
       "      'KwaliteitswaardecodeLijst': ['00']}},\n",
       "    {'Tijdstip': '1989-01-02T06:10:00.000+01:00',\n",
       "     'Meetwaarde': {'Waarde_Numeriek': -52.0},\n",
       "     'WaarnemingMetadata': {'StatuswaardeLijst': ['Gecontroleerd'],\n",
       "      'BemonsteringshoogteLijst': ['-999999999'],\n",
       "      'ReferentievlakLijst': ['NVT'],\n",
       "      'OpdrachtgevendeInstantieLijst': ['ZLXXREG_ZEGE'],\n",
       "      'KwaliteitswaardecodeLijst': ['00']}},\n",
       "    {'Tijdstip': '1989-01-02T06:20:00.000+01:00',\n",
       "     'Meetwaarde': {'Waarde_Numeriek': -44.0},\n",
       "     'WaarnemingMetadata': {'StatuswaardeLijst': ['Gecontroleerd'],\n",
       "      'BemonsteringshoogteLijst': ['-999999999'],\n",
       "      'ReferentievlakLijst': ['NVT'],\n",
       "      'OpdrachtgevendeInstantieLijst': ['ZLXXREG_ZEGE'],\n",
       "      'KwaliteitswaardecodeLijst': ['00']}},\n",
       "    {'Tijdstip': '1989-01-02T06:30:00.000+01:00',\n",
       "     'Meetwaarde': {'Waarde_Numeriek': -38.0},\n",
       "     'WaarnemingMetadata': {'StatuswaardeLijst': ['Gecontroleerd'],\n",
       "      'BemonsteringshoogteLijst': ['-999999999'],\n",
       "      'ReferentievlakLijst': ['NVT'],\n",
       "      'OpdrachtgevendeInstantieLijst': ['ZLXXREG_ZEGE'],\n",
       "      'KwaliteitswaardecodeLijst': ['00']}},\n",
       "    {'Tijdstip': '1989-01-02T06:40:00.000+01:00',\n",
       "     'Meetwaarde': {'Waarde_Numeriek': -31.0},\n",
       "     'WaarnemingMetadata': {'StatuswaardeLijst': ['Gecontroleerd'],\n",
       "      'BemonsteringshoogteLijst': ['-999999999'],\n",
       "      'ReferentievlakLijst': ['NVT'],\n",
       "      'OpdrachtgevendeInstantieLijst': ['ZLXXREG_ZEGE'],\n",
       "      'KwaliteitswaardecodeLijst': ['00']}},\n",
       "    {'Tijdstip': '1989-01-02T06:50:00.000+01:00',\n",
       "     'Meetwaarde': {'Waarde_Numeriek': -24.0},\n",
       "     'WaarnemingMetadata': {'StatuswaardeLijst': ['Gecontroleerd'],\n",
       "      'BemonsteringshoogteLijst': ['-999999999'],\n",
       "      'ReferentievlakLijst': ['NVT'],\n",
       "      'OpdrachtgevendeInstantieLijst': ['ZLXXREG_ZEGE'],\n",
       "      'KwaliteitswaardecodeLijst': ['00']}},\n",
       "    {'Tijdstip': '1989-01-02T07:00:00.000+01:00',\n",
       "     'Meetwaarde': {'Waarde_Numeriek': -18.0},\n",
       "     'WaarnemingMetadata': {'StatuswaardeLijst': ['Gecontroleerd'],\n",
       "      'BemonsteringshoogteLijst': ['-999999999'],\n",
       "      'ReferentievlakLijst': ['NVT'],\n",
       "      'OpdrachtgevendeInstantieLijst': ['ZLXXREG_ZEGE'],\n",
       "      'KwaliteitswaardecodeLijst': ['00']}},\n",
       "    {'Tijdstip': '1989-01-02T07:10:00.000+01:00',\n",
       "     'Meetwaarde': {'Waarde_Numeriek': -11.0},\n",
       "     'WaarnemingMetadata': {'StatuswaardeLijst': ['Gecontroleerd'],\n",
       "      'BemonsteringshoogteLijst': ['-999999999'],\n",
       "      'ReferentievlakLijst': ['NVT'],\n",
       "      'OpdrachtgevendeInstantieLijst': ['ZLXXREG_ZEGE'],\n",
       "      'KwaliteitswaardecodeLijst': ['00']}},\n",
       "    {'Tijdstip': '1989-01-02T07:20:00.000+01:00',\n",
       "     'Meetwaarde': {'Waarde_Numeriek': -4.0},\n",
       "     'WaarnemingMetadata': {'StatuswaardeLijst': ['Gecontroleerd'],\n",
       "      'BemonsteringshoogteLijst': ['-999999999'],\n",
       "      'ReferentievlakLijst': ['NVT'],\n",
       "      'OpdrachtgevendeInstantieLijst': ['ZLXXREG_ZEGE'],\n",
       "      'KwaliteitswaardecodeLijst': ['00']}},\n",
       "    {'Tijdstip': '1989-01-02T07:30:00.000+01:00',\n",
       "     'Meetwaarde': {'Waarde_Numeriek': 4.0},\n",
       "     'WaarnemingMetadata': {'StatuswaardeLijst': ['Gecontroleerd'],\n",
       "      'BemonsteringshoogteLijst': ['-999999999'],\n",
       "      'ReferentievlakLijst': ['NVT'],\n",
       "      'OpdrachtgevendeInstantieLijst': ['ZLXXREG_ZEGE'],\n",
       "      'KwaliteitswaardecodeLijst': ['00']}},\n",
       "    {'Tijdstip': '1989-01-02T07:40:00.000+01:00',\n",
       "     'Meetwaarde': {'Waarde_Numeriek': 11.0},\n",
       "     'WaarnemingMetadata': {'StatuswaardeLijst': ['Gecontroleerd'],\n",
       "      'BemonsteringshoogteLijst': ['-999999999'],\n",
       "      'ReferentievlakLijst': ['NVT'],\n",
       "      'OpdrachtgevendeInstantieLijst': ['ZLXXREG_ZEGE'],\n",
       "      'KwaliteitswaardecodeLijst': ['00']}},\n",
       "    {'Tijdstip': '1989-01-02T07:50:00.000+01:00',\n",
       "     'Meetwaarde': {'Waarde_Numeriek': 18.0},\n",
       "     'WaarnemingMetadata': {'StatuswaardeLijst': ['Gecontroleerd'],\n",
       "      'BemonsteringshoogteLijst': ['-999999999'],\n",
       "      'ReferentievlakLijst': ['NVT'],\n",
       "      'OpdrachtgevendeInstantieLijst': ['ZLXXREG_ZEGE'],\n",
       "      'KwaliteitswaardecodeLijst': ['00']}},\n",
       "    {'Tijdstip': '1989-01-02T08:00:00.000+01:00',\n",
       "     'Meetwaarde': {'Waarde_Numeriek': 26.0},\n",
       "     'WaarnemingMetadata': {'StatuswaardeLijst': ['Gecontroleerd'],\n",
       "      'BemonsteringshoogteLijst': ['-999999999'],\n",
       "      'ReferentievlakLijst': ['NVT'],\n",
       "      'OpdrachtgevendeInstantieLijst': ['ZLXXREG_ZEGE'],\n",
       "      'KwaliteitswaardecodeLijst': ['00']}},\n",
       "    {'Tijdstip': '1989-01-02T08:10:00.000+01:00',\n",
       "     'Meetwaarde': {'Waarde_Numeriek': 34.0},\n",
       "     'WaarnemingMetadata': {'StatuswaardeLijst': ['Gecontroleerd'],\n",
       "      'BemonsteringshoogteLijst': ['-999999999'],\n",
       "      'ReferentievlakLijst': ['NVT'],\n",
       "      'OpdrachtgevendeInstantieLijst': ['ZLXXREG_ZEGE'],\n",
       "      'KwaliteitswaardecodeLijst': ['00']}},\n",
       "    {'Tijdstip': '1989-01-02T08:20:00.000+01:00',\n",
       "     'Meetwaarde': {'Waarde_Numeriek': 43.0},\n",
       "     'WaarnemingMetadata': {'StatuswaardeLijst': ['Gecontroleerd'],\n",
       "      'BemonsteringshoogteLijst': ['-999999999'],\n",
       "      'ReferentievlakLijst': ['NVT'],\n",
       "      'OpdrachtgevendeInstantieLijst': ['ZLXXREG_ZEGE'],\n",
       "      'KwaliteitswaardecodeLijst': ['00']}},\n",
       "    {'Tijdstip': '1989-01-02T08:30:00.000+01:00',\n",
       "     'Meetwaarde': {'Waarde_Numeriek': 51.0},\n",
       "     'WaarnemingMetadata': {'StatuswaardeLijst': ['Gecontroleerd'],\n",
       "      'BemonsteringshoogteLijst': ['-999999999'],\n",
       "      'ReferentievlakLijst': ['NVT'],\n",
       "      'OpdrachtgevendeInstantieLijst': ['ZLXXREG_ZEGE'],\n",
       "      'KwaliteitswaardecodeLijst': ['00']}},\n",
       "    {'Tijdstip': '1989-01-02T08:40:00.000+01:00',\n",
       "     'Meetwaarde': {'Waarde_Numeriek': 60.0},\n",
       "     'WaarnemingMetadata': {'StatuswaardeLijst': ['Gecontroleerd'],\n",
       "      'BemonsteringshoogteLijst': ['-999999999'],\n",
       "      'ReferentievlakLijst': ['NVT'],\n",
       "      'OpdrachtgevendeInstantieLijst': ['ZLXXREG_ZEGE'],\n",
       "      'KwaliteitswaardecodeLijst': ['00']}},\n",
       "    {'Tijdstip': '1989-01-02T08:50:00.000+01:00',\n",
       "     'Meetwaarde': {'Waarde_Numeriek': 68.0},\n",
       "     'WaarnemingMetadata': {'StatuswaardeLijst': ['Gecontroleerd'],\n",
       "      'BemonsteringshoogteLijst': ['-999999999'],\n",
       "      'ReferentievlakLijst': ['NVT'],\n",
       "      'OpdrachtgevendeInstantieLijst': ['ZLXXREG_ZEGE'],\n",
       "      'KwaliteitswaardecodeLijst': ['00']}},\n",
       "    {'Tijdstip': '1989-01-02T09:00:00.000+01:00',\n",
       "     'Meetwaarde': {'Waarde_Numeriek': 76.0},\n",
       "     'WaarnemingMetadata': {'StatuswaardeLijst': ['Gecontroleerd'],\n",
       "      'BemonsteringshoogteLijst': ['-999999999'],\n",
       "      'ReferentievlakLijst': ['NVT'],\n",
       "      'OpdrachtgevendeInstantieLijst': ['ZLXXREG_ZEGE'],\n",
       "      'KwaliteitswaardecodeLijst': ['00']}},\n",
       "    {'Tijdstip': '1989-01-02T09:10:00.000+01:00',\n",
       "     'Meetwaarde': {'Waarde_Numeriek': 84.0},\n",
       "     'WaarnemingMetadata': {'StatuswaardeLijst': ['Gecontroleerd'],\n",
       "      'BemonsteringshoogteLijst': ['-999999999'],\n",
       "      'ReferentievlakLijst': ['NVT'],\n",
       "      'OpdrachtgevendeInstantieLijst': ['ZLXXREG_ZEGE'],\n",
       "      'KwaliteitswaardecodeLijst': ['00']}},\n",
       "    {'Tijdstip': '1989-01-02T09:20:00.000+01:00',\n",
       "     'Meetwaarde': {'Waarde_Numeriek': 92.0},\n",
       "     'WaarnemingMetadata': {'StatuswaardeLijst': ['Gecontroleerd'],\n",
       "      'BemonsteringshoogteLijst': ['-999999999'],\n",
       "      'ReferentievlakLijst': ['NVT'],\n",
       "      'OpdrachtgevendeInstantieLijst': ['ZLXXREG_ZEGE'],\n",
       "      'KwaliteitswaardecodeLijst': ['00']}},\n",
       "    {'Tijdstip': '1989-01-02T09:30:00.000+01:00',\n",
       "     'Meetwaarde': {'Waarde_Numeriek': 99.0},\n",
       "     'WaarnemingMetadata': {'StatuswaardeLijst': ['Gecontroleerd'],\n",
       "      'BemonsteringshoogteLijst': ['-999999999'],\n",
       "      'ReferentievlakLijst': ['NVT'],\n",
       "      'OpdrachtgevendeInstantieLijst': ['ZLXXREG_ZEGE'],\n",
       "      'KwaliteitswaardecodeLijst': ['00']}},\n",
       "    {'Tijdstip': '1989-01-02T09:40:00.000+01:00',\n",
       "     'Meetwaarde': {'Waarde_Numeriek': 105.0},\n",
       "     'WaarnemingMetadata': {'StatuswaardeLijst': ['Gecontroleerd'],\n",
       "      'BemonsteringshoogteLijst': ['-999999999'],\n",
       "      'ReferentievlakLijst': ['NVT'],\n",
       "      'OpdrachtgevendeInstantieLijst': ['ZLXXREG_ZEGE'],\n",
       "      'KwaliteitswaardecodeLijst': ['00']}},\n",
       "    {'Tijdstip': '1989-01-02T09:50:00.000+01:00',\n",
       "     'Meetwaarde': {'Waarde_Numeriek': 110.0},\n",
       "     'WaarnemingMetadata': {'StatuswaardeLijst': ['Gecontroleerd'],\n",
       "      'BemonsteringshoogteLijst': ['-999999999'],\n",
       "      'ReferentievlakLijst': ['NVT'],\n",
       "      'OpdrachtgevendeInstantieLijst': ['ZLXXREG_ZEGE'],\n",
       "      'KwaliteitswaardecodeLijst': ['00']}},\n",
       "    {'Tijdstip': '1989-01-02T10:00:00.000+01:00',\n",
       "     'Meetwaarde': {'Waarde_Numeriek': 114.0},\n",
       "     'WaarnemingMetadata': {'StatuswaardeLijst': ['Gecontroleerd'],\n",
       "      'BemonsteringshoogteLijst': ['-999999999'],\n",
       "      'ReferentievlakLijst': ['NVT'],\n",
       "      'OpdrachtgevendeInstantieLijst': ['ZLXXREG_ZEGE'],\n",
       "      'KwaliteitswaardecodeLijst': ['00']}},\n",
       "    {'Tijdstip': '1989-01-02T10:10:00.000+01:00',\n",
       "     'Meetwaarde': {'Waarde_Numeriek': 117.0},\n",
       "     'WaarnemingMetadata': {'StatuswaardeLijst': ['Gecontroleerd'],\n",
       "      'BemonsteringshoogteLijst': ['-999999999'],\n",
       "      'ReferentievlakLijst': ['NVT'],\n",
       "      'OpdrachtgevendeInstantieLijst': ['ZLXXREG_ZEGE'],\n",
       "      'KwaliteitswaardecodeLijst': ['00']}},\n",
       "    {'Tijdstip': '1989-01-02T10:20:00.000+01:00',\n",
       "     'Meetwaarde': {'Waarde_Numeriek': 118.0},\n",
       "     'WaarnemingMetadata': {'StatuswaardeLijst': ['Gecontroleerd'],\n",
       "      'BemonsteringshoogteLijst': ['-999999999'],\n",
       "      'ReferentievlakLijst': ['NVT'],\n",
       "      'OpdrachtgevendeInstantieLijst': ['ZLXXREG_ZEGE'],\n",
       "      'KwaliteitswaardecodeLijst': ['00']}},\n",
       "    {'Tijdstip': '1989-01-02T10:30:00.000+01:00',\n",
       "     'Meetwaarde': {'Waarde_Numeriek': 118.0},\n",
       "     'WaarnemingMetadata': {'StatuswaardeLijst': ['Gecontroleerd'],\n",
       "      'BemonsteringshoogteLijst': ['-999999999'],\n",
       "      'ReferentievlakLijst': ['NVT'],\n",
       "      'OpdrachtgevendeInstantieLijst': ['ZLXXREG_ZEGE'],\n",
       "      'KwaliteitswaardecodeLijst': ['00']}},\n",
       "    {'Tijdstip': '1989-01-02T10:40:00.000+01:00',\n",
       "     'Meetwaarde': {'Waarde_Numeriek': 117.0},\n",
       "     'WaarnemingMetadata': {'StatuswaardeLijst': ['Gecontroleerd'],\n",
       "      'BemonsteringshoogteLijst': ['-999999999'],\n",
       "      'ReferentievlakLijst': ['NVT'],\n",
       "      'OpdrachtgevendeInstantieLijst': ['ZLXXREG_ZEGE'],\n",
       "      'KwaliteitswaardecodeLijst': ['00']}},\n",
       "    {'Tijdstip': '1989-01-02T10:50:00.000+01:00',\n",
       "     'Meetwaarde': {'Waarde_Numeriek': 114.0},\n",
       "     'WaarnemingMetadata': {'StatuswaardeLijst': ['Gecontroleerd'],\n",
       "      'BemonsteringshoogteLijst': ['-999999999'],\n",
       "      'ReferentievlakLijst': ['NVT'],\n",
       "      'OpdrachtgevendeInstantieLijst': ['ZLXXREG_ZEGE'],\n",
       "      'KwaliteitswaardecodeLijst': ['00']}},\n",
       "    {'Tijdstip': '1989-01-02T11:00:00.000+01:00',\n",
       "     'Meetwaarde': {'Waarde_Numeriek': 109.0},\n",
       "     'WaarnemingMetadata': {'StatuswaardeLijst': ['Gecontroleerd'],\n",
       "      'BemonsteringshoogteLijst': ['-999999999'],\n",
       "      'ReferentievlakLijst': ['NVT'],\n",
       "      'OpdrachtgevendeInstantieLijst': ['ZLXXREG_ZEGE'],\n",
       "      'KwaliteitswaardecodeLijst': ['00']}},\n",
       "    {'Tijdstip': '1989-01-02T11:10:00.000+01:00',\n",
       "     'Meetwaarde': {'Waarde_Numeriek': 103.0},\n",
       "     'WaarnemingMetadata': {'StatuswaardeLijst': ['Gecontroleerd'],\n",
       "      'BemonsteringshoogteLijst': ['-999999999'],\n",
       "      'ReferentievlakLijst': ['NVT'],\n",
       "      'OpdrachtgevendeInstantieLijst': ['ZLXXREG_ZEGE'],\n",
       "      'KwaliteitswaardecodeLijst': ['00']}},\n",
       "    {'Tijdstip': '1989-01-02T11:20:00.000+01:00',\n",
       "     'Meetwaarde': {'Waarde_Numeriek': 96.0},\n",
       "     'WaarnemingMetadata': {'StatuswaardeLijst': ['Gecontroleerd'],\n",
       "      'BemonsteringshoogteLijst': ['-999999999'],\n",
       "      'ReferentievlakLijst': ['NVT'],\n",
       "      'OpdrachtgevendeInstantieLijst': ['ZLXXREG_ZEGE'],\n",
       "      'KwaliteitswaardecodeLijst': ['00']}},\n",
       "    {'Tijdstip': '1989-01-02T11:30:00.000+01:00',\n",
       "     'Meetwaarde': {'Waarde_Numeriek': 88.0},\n",
       "     'WaarnemingMetadata': {'StatuswaardeLijst': ['Gecontroleerd'],\n",
       "      'BemonsteringshoogteLijst': ['-999999999'],\n",
       "      'ReferentievlakLijst': ['NVT'],\n",
       "      'OpdrachtgevendeInstantieLijst': ['ZLXXREG_ZEGE'],\n",
       "      'KwaliteitswaardecodeLijst': ['00']}},\n",
       "    {'Tijdstip': '1989-01-02T11:40:00.000+01:00',\n",
       "     'Meetwaarde': {'Waarde_Numeriek': 80.0},\n",
       "     'WaarnemingMetadata': {'StatuswaardeLijst': ['Gecontroleerd'],\n",
       "      'BemonsteringshoogteLijst': ['-999999999'],\n",
       "      'ReferentievlakLijst': ['NVT'],\n",
       "      'OpdrachtgevendeInstantieLijst': ['ZLXXREG_ZEGE'],\n",
       "      'KwaliteitswaardecodeLijst': ['00']}},\n",
       "    {'Tijdstip': '1989-01-02T11:50:00.000+01:00',\n",
       "     'Meetwaarde': {'Waarde_Numeriek': 70.0},\n",
       "     'WaarnemingMetadata': {'StatuswaardeLijst': ['Gecontroleerd'],\n",
       "      'BemonsteringshoogteLijst': ['-999999999'],\n",
       "      'ReferentievlakLijst': ['NVT'],\n",
       "      'OpdrachtgevendeInstantieLijst': ['ZLXXREG_ZEGE'],\n",
       "      'KwaliteitswaardecodeLijst': ['00']}},\n",
       "    {'Tijdstip': '1989-01-02T12:00:00.000+01:00',\n",
       "     'Meetwaarde': {'Waarde_Numeriek': 61.0},\n",
       "     'WaarnemingMetadata': {'StatuswaardeLijst': ['Gecontroleerd'],\n",
       "      'BemonsteringshoogteLijst': ['-999999999'],\n",
       "      'ReferentievlakLijst': ['NVT'],\n",
       "      'OpdrachtgevendeInstantieLijst': ['ZLXXREG_ZEGE'],\n",
       "      'KwaliteitswaardecodeLijst': ['00']}},\n",
       "    {'Tijdstip': '1989-01-02T12:10:00.000+01:00',\n",
       "     'Meetwaarde': {'Waarde_Numeriek': 52.0},\n",
       "     'WaarnemingMetadata': {'StatuswaardeLijst': ['Gecontroleerd'],\n",
       "      'BemonsteringshoogteLijst': ['-999999999'],\n",
       "      'ReferentievlakLijst': ['NVT'],\n",
       "      'OpdrachtgevendeInstantieLijst': ['ZLXXREG_ZEGE'],\n",
       "      'KwaliteitswaardecodeLijst': ['00']}},\n",
       "    {'Tijdstip': '1989-01-02T12:20:00.000+01:00',\n",
       "     'Meetwaarde': {'Waarde_Numeriek': 42.0},\n",
       "     'WaarnemingMetadata': {'StatuswaardeLijst': ['Gecontroleerd'],\n",
       "      'BemonsteringshoogteLijst': ['-999999999'],\n",
       "      'ReferentievlakLijst': ['NVT'],\n",
       "      'OpdrachtgevendeInstantieLijst': ['ZLXXREG_ZEGE'],\n",
       "      'KwaliteitswaardecodeLijst': ['00']}},\n",
       "    {'Tijdstip': '1989-01-02T12:30:00.000+01:00',\n",
       "     'Meetwaarde': {'Waarde_Numeriek': 31.0},\n",
       "     'WaarnemingMetadata': {'StatuswaardeLijst': ['Gecontroleerd'],\n",
       "      'BemonsteringshoogteLijst': ['-999999999'],\n",
       "      'ReferentievlakLijst': ['NVT'],\n",
       "      'OpdrachtgevendeInstantieLijst': ['ZLXXREG_ZEGE'],\n",
       "      'KwaliteitswaardecodeLijst': ['00']}},\n",
       "    {'Tijdstip': '1989-01-02T12:40:00.000+01:00',\n",
       "     'Meetwaarde': {'Waarde_Numeriek': 21.0},\n",
       "     'WaarnemingMetadata': {'StatuswaardeLijst': ['Gecontroleerd'],\n",
       "      'BemonsteringshoogteLijst': ['-999999999'],\n",
       "      'ReferentievlakLijst': ['NVT'],\n",
       "      'OpdrachtgevendeInstantieLijst': ['ZLXXREG_ZEGE'],\n",
       "      'KwaliteitswaardecodeLijst': ['00']}},\n",
       "    {'Tijdstip': '1989-01-02T12:50:00.000+01:00',\n",
       "     'Meetwaarde': {'Waarde_Numeriek': 11.0},\n",
       "     'WaarnemingMetadata': {'StatuswaardeLijst': ['Gecontroleerd'],\n",
       "      'BemonsteringshoogteLijst': ['-999999999'],\n",
       "      'ReferentievlakLijst': ['NVT'],\n",
       "      'OpdrachtgevendeInstantieLijst': ['ZLXXREG_ZEGE'],\n",
       "      'KwaliteitswaardecodeLijst': ['00']}},\n",
       "    {'Tijdstip': '1989-01-02T13:00:00.000+01:00',\n",
       "     'Meetwaarde': {'Waarde_Numeriek': 0.0},\n",
       "     'WaarnemingMetadata': {'StatuswaardeLijst': ['Gecontroleerd'],\n",
       "      'BemonsteringshoogteLijst': ['-999999999'],\n",
       "      'ReferentievlakLijst': ['NVT'],\n",
       "      'OpdrachtgevendeInstantieLijst': ['ZLXXREG_ZEGE'],\n",
       "      'KwaliteitswaardecodeLijst': ['00']}},\n",
       "    {'Tijdstip': '1989-01-02T13:10:00.000+01:00',\n",
       "     'Meetwaarde': {'Waarde_Numeriek': -9.0},\n",
       "     'WaarnemingMetadata': {'StatuswaardeLijst': ['Gecontroleerd'],\n",
       "      'BemonsteringshoogteLijst': ['-999999999'],\n",
       "      'ReferentievlakLijst': ['NVT'],\n",
       "      'OpdrachtgevendeInstantieLijst': ['ZLXXREG_ZEGE'],\n",
       "      'KwaliteitswaardecodeLijst': ['00']}},\n",
       "    {'Tijdstip': '1989-01-02T13:20:00.000+01:00',\n",
       "     'Meetwaarde': {'Waarde_Numeriek': -19.0},\n",
       "     'WaarnemingMetadata': {'StatuswaardeLijst': ['Gecontroleerd'],\n",
       "      'BemonsteringshoogteLijst': ['-999999999'],\n",
       "      'ReferentievlakLijst': ['NVT'],\n",
       "      'OpdrachtgevendeInstantieLijst': ['ZLXXREG_ZEGE'],\n",
       "      'KwaliteitswaardecodeLijst': ['00']}},\n",
       "    {'Tijdstip': '1989-01-02T13:30:00.000+01:00',\n",
       "     'Meetwaarde': {'Waarde_Numeriek': -29.0},\n",
       "     'WaarnemingMetadata': {'StatuswaardeLijst': ['Gecontroleerd'],\n",
       "      'BemonsteringshoogteLijst': ['-999999999'],\n",
       "      'ReferentievlakLijst': ['NVT'],\n",
       "      'OpdrachtgevendeInstantieLijst': ['ZLXXREG_ZEGE'],\n",
       "      'KwaliteitswaardecodeLijst': ['00']}},\n",
       "    {'Tijdstip': '1989-01-02T13:40:00.000+01:00',\n",
       "     'Meetwaarde': {'Waarde_Numeriek': -39.0},\n",
       "     'WaarnemingMetadata': {'StatuswaardeLijst': ['Gecontroleerd'],\n",
       "      'BemonsteringshoogteLijst': ['-999999999'],\n",
       "      'ReferentievlakLijst': ['NVT'],\n",
       "      'OpdrachtgevendeInstantieLijst': ['ZLXXREG_ZEGE'],\n",
       "      'KwaliteitswaardecodeLijst': ['00']}},\n",
       "    {'Tijdstip': '1989-01-02T13:50:00.000+01:00',\n",
       "     'Meetwaarde': {'Waarde_Numeriek': -49.0},\n",
       "     'WaarnemingMetadata': {'StatuswaardeLijst': ['Gecontroleerd'],\n",
       "      'BemonsteringshoogteLijst': ['-999999999'],\n",
       "      'ReferentievlakLijst': ['NVT'],\n",
       "      'OpdrachtgevendeInstantieLijst': ['ZLXXREG_ZEGE'],\n",
       "      'KwaliteitswaardecodeLijst': ['00']}},\n",
       "    {'Tijdstip': '1989-01-02T14:00:00.000+01:00',\n",
       "     'Meetwaarde': {'Waarde_Numeriek': -59.0},\n",
       "     'WaarnemingMetadata': {'StatuswaardeLijst': ['Gecontroleerd'],\n",
       "      'BemonsteringshoogteLijst': ['-999999999'],\n",
       "      'ReferentievlakLijst': ['NVT'],\n",
       "      'OpdrachtgevendeInstantieLijst': ['ZLXXREG_ZEGE'],\n",
       "      'KwaliteitswaardecodeLijst': ['00']}},\n",
       "    {'Tijdstip': '1989-01-02T14:10:00.000+01:00',\n",
       "     'Meetwaarde': {'Waarde_Numeriek': -68.0},\n",
       "     'WaarnemingMetadata': {'StatuswaardeLijst': ['Gecontroleerd'],\n",
       "      'BemonsteringshoogteLijst': ['-999999999'],\n",
       "      'ReferentievlakLijst': ['NVT'],\n",
       "      'OpdrachtgevendeInstantieLijst': ['ZLXXREG_ZEGE'],\n",
       "      'KwaliteitswaardecodeLijst': ['00']}},\n",
       "    {'Tijdstip': '1989-01-02T14:20:00.000+01:00',\n",
       "     'Meetwaarde': {'Waarde_Numeriek': -77.0},\n",
       "     'WaarnemingMetadata': {'StatuswaardeLijst': ['Gecontroleerd'],\n",
       "      'BemonsteringshoogteLijst': ['-999999999'],\n",
       "      'ReferentievlakLijst': ['NVT'],\n",
       "      'OpdrachtgevendeInstantieLijst': ['ZLXXREG_ZEGE'],\n",
       "      'KwaliteitswaardecodeLijst': ['00']}},\n",
       "    {'Tijdstip': '1989-01-02T14:30:00.000+01:00',\n",
       "     'Meetwaarde': {'Waarde_Numeriek': -86.0},\n",
       "     'WaarnemingMetadata': {'StatuswaardeLijst': ['Gecontroleerd'],\n",
       "      'BemonsteringshoogteLijst': ['-999999999'],\n",
       "      'ReferentievlakLijst': ['NVT'],\n",
       "      'OpdrachtgevendeInstantieLijst': ['ZLXXREG_ZEGE'],\n",
       "      'KwaliteitswaardecodeLijst': ['00']}},\n",
       "    {'Tijdstip': '1989-01-02T14:40:00.000+01:00',\n",
       "     'Meetwaarde': {'Waarde_Numeriek': -95.0},\n",
       "     'WaarnemingMetadata': {'StatuswaardeLijst': ['Gecontroleerd'],\n",
       "      'BemonsteringshoogteLijst': ['-999999999'],\n",
       "      'ReferentievlakLijst': ['NVT'],\n",
       "      'OpdrachtgevendeInstantieLijst': ['ZLXXREG_ZEGE'],\n",
       "      'KwaliteitswaardecodeLijst': ['00']}},\n",
       "    {'Tijdstip': '1989-01-02T14:50:00.000+01:00',\n",
       "     'Meetwaarde': {'Waarde_Numeriek': -103.0},\n",
       "     'WaarnemingMetadata': {'StatuswaardeLijst': ['Gecontroleerd'],\n",
       "      'BemonsteringshoogteLijst': ['-999999999'],\n",
       "      'ReferentievlakLijst': ['NVT'],\n",
       "      'OpdrachtgevendeInstantieLijst': ['ZLXXREG_ZEGE'],\n",
       "      'KwaliteitswaardecodeLijst': ['00']}},\n",
       "    {'Tijdstip': '1989-01-02T15:00:00.000+01:00',\n",
       "     'Meetwaarde': {'Waarde_Numeriek': -111.0},\n",
       "     'WaarnemingMetadata': {'StatuswaardeLijst': ['Gecontroleerd'],\n",
       "      'BemonsteringshoogteLijst': ['-999999999'],\n",
       "      'ReferentievlakLijst': ['NVT'],\n",
       "      'OpdrachtgevendeInstantieLijst': ['ZLXXREG_ZEGE'],\n",
       "      'KwaliteitswaardecodeLijst': ['00']}},\n",
       "    {'Tijdstip': '1989-01-02T15:10:00.000+01:00',\n",
       "     'Meetwaarde': {'Waarde_Numeriek': -119.0},\n",
       "     'WaarnemingMetadata': {'StatuswaardeLijst': ['Gecontroleerd'],\n",
       "      'BemonsteringshoogteLijst': ['-999999999'],\n",
       "      'ReferentievlakLijst': ['NVT'],\n",
       "      'OpdrachtgevendeInstantieLijst': ['ZLXXREG_ZEGE'],\n",
       "      'KwaliteitswaardecodeLijst': ['00']}},\n",
       "    {'Tijdstip': '1989-01-02T15:20:00.000+01:00',\n",
       "     'Meetwaarde': {'Waarde_Numeriek': -126.0},\n",
       "     'WaarnemingMetadata': {'StatuswaardeLijst': ['Gecontroleerd'],\n",
       "      'BemonsteringshoogteLijst': ['-999999999'],\n",
       "      'ReferentievlakLijst': ['NVT'],\n",
       "      'OpdrachtgevendeInstantieLijst': ['ZLXXREG_ZEGE'],\n",
       "      'KwaliteitswaardecodeLijst': ['00']}},\n",
       "    {'Tijdstip': '1989-01-02T15:30:00.000+01:00',\n",
       "     'Meetwaarde': {'Waarde_Numeriek': -132.0},\n",
       "     'WaarnemingMetadata': {'StatuswaardeLijst': ['Gecontroleerd'],\n",
       "      'BemonsteringshoogteLijst': ['-999999999'],\n",
       "      'ReferentievlakLijst': ['NVT'],\n",
       "      'OpdrachtgevendeInstantieLijst': ['ZLXXREG_ZEGE'],\n",
       "      'KwaliteitswaardecodeLijst': ['00']}},\n",
       "    {'Tijdstip': '1989-01-02T15:40:00.000+01:00',\n",
       "     'Meetwaarde': {'Waarde_Numeriek': -138.0},\n",
       "     'WaarnemingMetadata': {'StatuswaardeLijst': ['Gecontroleerd'],\n",
       "      'BemonsteringshoogteLijst': ['-999999999'],\n",
       "      'ReferentievlakLijst': ['NVT'],\n",
       "      'OpdrachtgevendeInstantieLijst': ['ZLXXREG_ZEGE'],\n",
       "      'KwaliteitswaardecodeLijst': ['00']}},\n",
       "    {'Tijdstip': '1989-01-02T15:50:00.000+01:00',\n",
       "     'Meetwaarde': {'Waarde_Numeriek': -142.0},\n",
       "     'WaarnemingMetadata': {'StatuswaardeLijst': ['Gecontroleerd'],\n",
       "      'BemonsteringshoogteLijst': ['-999999999'],\n",
       "      'ReferentievlakLijst': ['NVT'],\n",
       "      'OpdrachtgevendeInstantieLijst': ['ZLXXREG_ZEGE'],\n",
       "      'KwaliteitswaardecodeLijst': ['00']}},\n",
       "    {'Tijdstip': '1989-01-02T16:00:00.000+01:00',\n",
       "     'Meetwaarde': {'Waarde_Numeriek': -146.0},\n",
       "     'WaarnemingMetadata': {'StatuswaardeLijst': ['Gecontroleerd'],\n",
       "      'BemonsteringshoogteLijst': ['-999999999'],\n",
       "      'ReferentievlakLijst': ['NVT'],\n",
       "      'OpdrachtgevendeInstantieLijst': ['ZLXXREG_ZEGE'],\n",
       "      'KwaliteitswaardecodeLijst': ['00']}},\n",
       "    {'Tijdstip': '1989-01-02T16:10:00.000+01:00',\n",
       "     'Meetwaarde': {'Waarde_Numeriek': -149.0},\n",
       "     'WaarnemingMetadata': {'StatuswaardeLijst': ['Gecontroleerd'],\n",
       "      'BemonsteringshoogteLijst': ['-999999999'],\n",
       "      'ReferentievlakLijst': ['NVT'],\n",
       "      'OpdrachtgevendeInstantieLijst': ['ZLXXREG_ZEGE'],\n",
       "      'KwaliteitswaardecodeLijst': ['00']}},\n",
       "    {'Tijdstip': '1989-01-02T16:20:00.000+01:00',\n",
       "     'Meetwaarde': {'Waarde_Numeriek': -151.0},\n",
       "     'WaarnemingMetadata': {'StatuswaardeLijst': ['Gecontroleerd'],\n",
       "      'BemonsteringshoogteLijst': ['-999999999'],\n",
       "      'ReferentievlakLijst': ['NVT'],\n",
       "      'OpdrachtgevendeInstantieLijst': ['ZLXXREG_ZEGE'],\n",
       "      'KwaliteitswaardecodeLijst': ['00']}},\n",
       "    {'Tijdstip': '1989-01-02T16:30:00.000+01:00',\n",
       "     'Meetwaarde': {'Waarde_Numeriek': -152.0},\n",
       "     'WaarnemingMetadata': {'StatuswaardeLijst': ['Gecontroleerd'],\n",
       "      'BemonsteringshoogteLijst': ['-999999999'],\n",
       "      'ReferentievlakLijst': ['NVT'],\n",
       "      'OpdrachtgevendeInstantieLijst': ['ZLXXREG_ZEGE'],\n",
       "      'KwaliteitswaardecodeLijst': ['00']}},\n",
       "    {'Tijdstip': '1989-01-02T16:40:00.000+01:00',\n",
       "     'Meetwaarde': {'Waarde_Numeriek': -150.0},\n",
       "     'WaarnemingMetadata': {'StatuswaardeLijst': ['Gecontroleerd'],\n",
       "      'BemonsteringshoogteLijst': ['-999999999'],\n",
       "      'ReferentievlakLijst': ['NVT'],\n",
       "      'OpdrachtgevendeInstantieLijst': ['ZLXXREG_ZEGE'],\n",
       "      'KwaliteitswaardecodeLijst': ['00']}},\n",
       "    {'Tijdstip': '1989-01-02T16:50:00.000+01:00',\n",
       "     'Meetwaarde': {'Waarde_Numeriek': -149.0},\n",
       "     'WaarnemingMetadata': {'StatuswaardeLijst': ['Gecontroleerd'],\n",
       "      'BemonsteringshoogteLijst': ['-999999999'],\n",
       "      'ReferentievlakLijst': ['NVT'],\n",
       "      'OpdrachtgevendeInstantieLijst': ['ZLXXREG_ZEGE'],\n",
       "      'KwaliteitswaardecodeLijst': ['00']}},\n",
       "    {'Tijdstip': '1989-01-02T17:00:00.000+01:00',\n",
       "     'Meetwaarde': {'Waarde_Numeriek': -146.0},\n",
       "     'WaarnemingMetadata': {'StatuswaardeLijst': ['Gecontroleerd'],\n",
       "      'BemonsteringshoogteLijst': ['-999999999'],\n",
       "      'ReferentievlakLijst': ['NVT'],\n",
       "      'OpdrachtgevendeInstantieLijst': ['ZLXXREG_ZEGE'],\n",
       "      'KwaliteitswaardecodeLijst': ['00']}},\n",
       "    {'Tijdstip': '1989-01-02T17:10:00.000+01:00',\n",
       "     'Meetwaarde': {'Waarde_Numeriek': -142.0},\n",
       "     'WaarnemingMetadata': {'StatuswaardeLijst': ['Gecontroleerd'],\n",
       "      'BemonsteringshoogteLijst': ['-999999999'],\n",
       "      'ReferentievlakLijst': ['NVT'],\n",
       "      'OpdrachtgevendeInstantieLijst': ['ZLXXREG_ZEGE'],\n",
       "      'KwaliteitswaardecodeLijst': ['00']}},\n",
       "    {'Tijdstip': '1989-01-02T17:20:00.000+01:00',\n",
       "     'Meetwaarde': {'Waarde_Numeriek': -136.0},\n",
       "     'WaarnemingMetadata': {'StatuswaardeLijst': ['Gecontroleerd'],\n",
       "      'BemonsteringshoogteLijst': ['-999999999'],\n",
       "      'ReferentievlakLijst': ['NVT'],\n",
       "      'OpdrachtgevendeInstantieLijst': ['ZLXXREG_ZEGE'],\n",
       "      'KwaliteitswaardecodeLijst': ['00']}},\n",
       "    {'Tijdstip': '1989-01-02T17:30:00.000+01:00',\n",
       "     'Meetwaarde': {'Waarde_Numeriek': -130.0},\n",
       "     'WaarnemingMetadata': {'StatuswaardeLijst': ['Gecontroleerd'],\n",
       "      'BemonsteringshoogteLijst': ['-999999999'],\n",
       "      'ReferentievlakLijst': ['NVT'],\n",
       "      'OpdrachtgevendeInstantieLijst': ['ZLXXREG_ZEGE'],\n",
       "      'KwaliteitswaardecodeLijst': ['00']}},\n",
       "    {'Tijdstip': '1989-01-02T17:40:00.000+01:00',\n",
       "     'Meetwaarde': {'Waarde_Numeriek': -123.0},\n",
       "     'WaarnemingMetadata': {'StatuswaardeLijst': ['Gecontroleerd'],\n",
       "      'BemonsteringshoogteLijst': ['-999999999'],\n",
       "      'ReferentievlakLijst': ['NVT'],\n",
       "      'OpdrachtgevendeInstantieLijst': ['ZLXXREG_ZEGE'],\n",
       "      'KwaliteitswaardecodeLijst': ['00']}},\n",
       "    {'Tijdstip': '1989-01-02T17:50:00.000+01:00',\n",
       "     'Meetwaarde': {'Waarde_Numeriek': -115.0},\n",
       "     'WaarnemingMetadata': {'StatuswaardeLijst': ['Gecontroleerd'],\n",
       "      'BemonsteringshoogteLijst': ['-999999999'],\n",
       "      'ReferentievlakLijst': ['NVT'],\n",
       "      'OpdrachtgevendeInstantieLijst': ['ZLXXREG_ZEGE'],\n",
       "      'KwaliteitswaardecodeLijst': ['00']}},\n",
       "    {'Tijdstip': '1989-01-02T18:00:00.000+01:00',\n",
       "     'Meetwaarde': {'Waarde_Numeriek': -108.0},\n",
       "     'WaarnemingMetadata': {'StatuswaardeLijst': ['Gecontroleerd'],\n",
       "      'BemonsteringshoogteLijst': ['-999999999'],\n",
       "      'ReferentievlakLijst': ['NVT'],\n",
       "      'OpdrachtgevendeInstantieLijst': ['ZLXXREG_ZEGE'],\n",
       "      'KwaliteitswaardecodeLijst': ['00']}},\n",
       "    {'Tijdstip': '1989-01-02T18:10:00.000+01:00',\n",
       "     'Meetwaarde': {'Waarde_Numeriek': -102.0},\n",
       "     'WaarnemingMetadata': {'StatuswaardeLijst': ['Gecontroleerd'],\n",
       "      'BemonsteringshoogteLijst': ['-999999999'],\n",
       "      'ReferentievlakLijst': ['NVT'],\n",
       "      'OpdrachtgevendeInstantieLijst': ['ZLXXREG_ZEGE'],\n",
       "      'KwaliteitswaardecodeLijst': ['00']}},\n",
       "    {'Tijdstip': '1989-01-02T18:20:00.000+01:00',\n",
       "     'Meetwaarde': {'Waarde_Numeriek': -94.0},\n",
       "     'WaarnemingMetadata': {'StatuswaardeLijst': ['Gecontroleerd'],\n",
       "      'BemonsteringshoogteLijst': ['-999999999'],\n",
       "      'ReferentievlakLijst': ['NVT'],\n",
       "      'OpdrachtgevendeInstantieLijst': ['ZLXXREG_ZEGE'],\n",
       "      'KwaliteitswaardecodeLijst': ['00']}},\n",
       "    {'Tijdstip': '1989-01-02T18:30:00.000+01:00',\n",
       "     'Meetwaarde': {'Waarde_Numeriek': -87.0},\n",
       "     'WaarnemingMetadata': {'StatuswaardeLijst': ['Gecontroleerd'],\n",
       "      'BemonsteringshoogteLijst': ['-999999999'],\n",
       "      'ReferentievlakLijst': ['NVT'],\n",
       "      'OpdrachtgevendeInstantieLijst': ['ZLXXREG_ZEGE'],\n",
       "      'KwaliteitswaardecodeLijst': ['00']}},\n",
       "    {'Tijdstip': '1989-01-02T18:40:00.000+01:00',\n",
       "     'Meetwaarde': {'Waarde_Numeriek': -80.0},\n",
       "     'WaarnemingMetadata': {'StatuswaardeLijst': ['Gecontroleerd'],\n",
       "      'BemonsteringshoogteLijst': ['-999999999'],\n",
       "      'ReferentievlakLijst': ['NVT'],\n",
       "      'OpdrachtgevendeInstantieLijst': ['ZLXXREG_ZEGE'],\n",
       "      'KwaliteitswaardecodeLijst': ['00']}},\n",
       "    {'Tijdstip': '1989-01-02T18:50:00.000+01:00',\n",
       "     'Meetwaarde': {'Waarde_Numeriek': -73.0},\n",
       "     'WaarnemingMetadata': {'StatuswaardeLijst': ['Gecontroleerd'],\n",
       "      'BemonsteringshoogteLijst': ['-999999999'],\n",
       "      'ReferentievlakLijst': ['NVT'],\n",
       "      'OpdrachtgevendeInstantieLijst': ['ZLXXREG_ZEGE'],\n",
       "      'KwaliteitswaardecodeLijst': ['00']}},\n",
       "    {'Tijdstip': '1989-01-02T19:00:00.000+01:00',\n",
       "     'Meetwaarde': {'Waarde_Numeriek': -65.0},\n",
       "     'WaarnemingMetadata': {'StatuswaardeLijst': ['Gecontroleerd'],\n",
       "      'BemonsteringshoogteLijst': ['-999999999'],\n",
       "      'ReferentievlakLijst': ['NVT'],\n",
       "      'OpdrachtgevendeInstantieLijst': ['ZLXXREG_ZEGE'],\n",
       "      'KwaliteitswaardecodeLijst': ['00']}},\n",
       "    {'Tijdstip': '1989-01-02T19:10:00.000+01:00',\n",
       "     'Meetwaarde': {'Waarde_Numeriek': -58.0},\n",
       "     'WaarnemingMetadata': {'StatuswaardeLijst': ['Gecontroleerd'],\n",
       "      'BemonsteringshoogteLijst': ['-999999999'],\n",
       "      'ReferentievlakLijst': ['NVT'],\n",
       "      'OpdrachtgevendeInstantieLijst': ['ZLXXREG_ZEGE'],\n",
       "      'KwaliteitswaardecodeLijst': ['00']}},\n",
       "    {'Tijdstip': '1989-01-02T19:20:00.000+01:00',\n",
       "     'Meetwaarde': {'Waarde_Numeriek': -51.0},\n",
       "     'WaarnemingMetadata': {'StatuswaardeLijst': ['Gecontroleerd'],\n",
       "      'BemonsteringshoogteLijst': ['-999999999'],\n",
       "      'ReferentievlakLijst': ['NVT'],\n",
       "      'OpdrachtgevendeInstantieLijst': ['ZLXXREG_ZEGE'],\n",
       "      'KwaliteitswaardecodeLijst': ['00']}},\n",
       "    {'Tijdstip': '1989-01-02T19:30:00.000+01:00',\n",
       "     'Meetwaarde': {'Waarde_Numeriek': -43.0},\n",
       "     'WaarnemingMetadata': {'StatuswaardeLijst': ['Gecontroleerd'],\n",
       "      'BemonsteringshoogteLijst': ['-999999999'],\n",
       "      'ReferentievlakLijst': ['NVT'],\n",
       "      'OpdrachtgevendeInstantieLijst': ['ZLXXREG_ZEGE'],\n",
       "      'KwaliteitswaardecodeLijst': ['00']}},\n",
       "    {'Tijdstip': '1989-01-02T19:40:00.000+01:00',\n",
       "     'Meetwaarde': {'Waarde_Numeriek': -36.0},\n",
       "     'WaarnemingMetadata': {'StatuswaardeLijst': ['Gecontroleerd'],\n",
       "      'BemonsteringshoogteLijst': ['-999999999'],\n",
       "      'ReferentievlakLijst': ['NVT'],\n",
       "      'OpdrachtgevendeInstantieLijst': ['ZLXXREG_ZEGE'],\n",
       "      'KwaliteitswaardecodeLijst': ['00']}},\n",
       "    {'Tijdstip': '1989-01-02T19:50:00.000+01:00',\n",
       "     'Meetwaarde': {'Waarde_Numeriek': -28.0},\n",
       "     'WaarnemingMetadata': {'StatuswaardeLijst': ['Gecontroleerd'],\n",
       "      'BemonsteringshoogteLijst': ['-999999999'],\n",
       "      'ReferentievlakLijst': ['NVT'],\n",
       "      'OpdrachtgevendeInstantieLijst': ['ZLXXREG_ZEGE'],\n",
       "      'KwaliteitswaardecodeLijst': ['00']}},\n",
       "    {'Tijdstip': '1989-01-02T20:00:00.000+01:00',\n",
       "     'Meetwaarde': {'Waarde_Numeriek': -20.0},\n",
       "     'WaarnemingMetadata': {'StatuswaardeLijst': ['Gecontroleerd'],\n",
       "      'BemonsteringshoogteLijst': ['-999999999'],\n",
       "      'ReferentievlakLijst': ['NVT'],\n",
       "      'OpdrachtgevendeInstantieLijst': ['ZLXXREG_ZEGE'],\n",
       "      'KwaliteitswaardecodeLijst': ['00']}},\n",
       "    {'Tijdstip': '1989-01-02T20:10:00.000+01:00',\n",
       "     'Meetwaarde': {'Waarde_Numeriek': -12.0},\n",
       "     'WaarnemingMetadata': {'StatuswaardeLijst': ['Gecontroleerd'],\n",
       "      'BemonsteringshoogteLijst': ['-999999999'],\n",
       "      'ReferentievlakLijst': ['NVT'],\n",
       "      'OpdrachtgevendeInstantieLijst': ['ZLXXREG_ZEGE'],\n",
       "      'KwaliteitswaardecodeLijst': ['00']}},\n",
       "    {'Tijdstip': '1989-01-02T20:20:00.000+01:00',\n",
       "     'Meetwaarde': {'Waarde_Numeriek': -3.0},\n",
       "     'WaarnemingMetadata': {'StatuswaardeLijst': ['Gecontroleerd'],\n",
       "      'BemonsteringshoogteLijst': ['-999999999'],\n",
       "      'ReferentievlakLijst': ['NVT'],\n",
       "      'OpdrachtgevendeInstantieLijst': ['ZLXXREG_ZEGE'],\n",
       "      'KwaliteitswaardecodeLijst': ['00']}},\n",
       "    {'Tijdstip': '1989-01-02T20:30:00.000+01:00',\n",
       "     'Meetwaarde': {'Waarde_Numeriek': 7.0},\n",
       "     'WaarnemingMetadata': {'StatuswaardeLijst': ['Gecontroleerd'],\n",
       "      'BemonsteringshoogteLijst': ['-999999999'],\n",
       "      'ReferentievlakLijst': ['NVT'],\n",
       "      'OpdrachtgevendeInstantieLijst': ['ZLXXREG_ZEGE'],\n",
       "      'KwaliteitswaardecodeLijst': ['00']}},\n",
       "    {'Tijdstip': '1989-01-02T20:40:00.000+01:00',\n",
       "     'Meetwaarde': {'Waarde_Numeriek': 17.0},\n",
       "     'WaarnemingMetadata': {'StatuswaardeLijst': ['Gecontroleerd'],\n",
       "      'BemonsteringshoogteLijst': ['-999999999'],\n",
       "      'ReferentievlakLijst': ['NVT'],\n",
       "      'OpdrachtgevendeInstantieLijst': ['ZLXXREG_ZEGE'],\n",
       "      'KwaliteitswaardecodeLijst': ['00']}},\n",
       "    {'Tijdstip': '1989-01-02T20:50:00.000+01:00',\n",
       "     'Meetwaarde': {'Waarde_Numeriek': 27.0},\n",
       "     'WaarnemingMetadata': {'StatuswaardeLijst': ['Gecontroleerd'],\n",
       "      'BemonsteringshoogteLijst': ['-999999999'],\n",
       "      'ReferentievlakLijst': ['NVT'],\n",
       "      'OpdrachtgevendeInstantieLijst': ['ZLXXREG_ZEGE'],\n",
       "      'KwaliteitswaardecodeLijst': ['00']}},\n",
       "    {'Tijdstip': '1989-01-02T21:00:00.000+01:00',\n",
       "     'Meetwaarde': {'Waarde_Numeriek': 37.0},\n",
       "     'WaarnemingMetadata': {'StatuswaardeLijst': ['Gecontroleerd'],\n",
       "      'BemonsteringshoogteLijst': ['-999999999'],\n",
       "      'ReferentievlakLijst': ['NVT'],\n",
       "      'OpdrachtgevendeInstantieLijst': ['ZLXXREG_ZEGE'],\n",
       "      'KwaliteitswaardecodeLijst': ['00']}},\n",
       "    {'Tijdstip': '1989-01-02T21:10:00.000+01:00',\n",
       "     'Meetwaarde': {'Waarde_Numeriek': 47.0},\n",
       "     'WaarnemingMetadata': {'StatuswaardeLijst': ['Gecontroleerd'],\n",
       "      'BemonsteringshoogteLijst': ['-999999999'],\n",
       "      'ReferentievlakLijst': ['NVT'],\n",
       "      'OpdrachtgevendeInstantieLijst': ['ZLXXREG_ZEGE'],\n",
       "      'KwaliteitswaardecodeLijst': ['00']}},\n",
       "    {'Tijdstip': '1989-01-02T21:20:00.000+01:00',\n",
       "     'Meetwaarde': {'Waarde_Numeriek': 58.0},\n",
       "     'WaarnemingMetadata': {'StatuswaardeLijst': ['Gecontroleerd'],\n",
       "      'BemonsteringshoogteLijst': ['-999999999'],\n",
       "      'ReferentievlakLijst': ['NVT'],\n",
       "      'OpdrachtgevendeInstantieLijst': ['ZLXXREG_ZEGE'],\n",
       "      'KwaliteitswaardecodeLijst': ['00']}},\n",
       "    {'Tijdstip': '1989-01-02T21:30:00.000+01:00',\n",
       "     'Meetwaarde': {'Waarde_Numeriek': 68.0},\n",
       "     'WaarnemingMetadata': {'StatuswaardeLijst': ['Gecontroleerd'],\n",
       "      'BemonsteringshoogteLijst': ['-999999999'],\n",
       "      'ReferentievlakLijst': ['NVT'],\n",
       "      'OpdrachtgevendeInstantieLijst': ['ZLXXREG_ZEGE'],\n",
       "      'KwaliteitswaardecodeLijst': ['00']}},\n",
       "    {'Tijdstip': '1989-01-02T21:40:00.000+01:00',\n",
       "     'Meetwaarde': {'Waarde_Numeriek': 78.0},\n",
       "     'WaarnemingMetadata': {'StatuswaardeLijst': ['Gecontroleerd'],\n",
       "      'BemonsteringshoogteLijst': ['-999999999'],\n",
       "      'ReferentievlakLijst': ['NVT'],\n",
       "      'OpdrachtgevendeInstantieLijst': ['ZLXXREG_ZEGE'],\n",
       "      'KwaliteitswaardecodeLijst': ['00']}},\n",
       "    {'Tijdstip': '1989-01-02T21:50:00.000+01:00',\n",
       "     'Meetwaarde': {'Waarde_Numeriek': 88.0},\n",
       "     'WaarnemingMetadata': {'StatuswaardeLijst': ['Gecontroleerd'],\n",
       "      'BemonsteringshoogteLijst': ['-999999999'],\n",
       "      'ReferentievlakLijst': ['NVT'],\n",
       "      'OpdrachtgevendeInstantieLijst': ['ZLXXREG_ZEGE'],\n",
       "      'KwaliteitswaardecodeLijst': ['00']}},\n",
       "    {'Tijdstip': '1989-01-02T22:00:00.000+01:00',\n",
       "     'Meetwaarde': {'Waarde_Numeriek': 96.0},\n",
       "     'WaarnemingMetadata': {'StatuswaardeLijst': ['Gecontroleerd'],\n",
       "      'BemonsteringshoogteLijst': ['-999999999'],\n",
       "      'ReferentievlakLijst': ['NVT'],\n",
       "      'OpdrachtgevendeInstantieLijst': ['ZLXXREG_ZEGE'],\n",
       "      'KwaliteitswaardecodeLijst': ['00']}},\n",
       "    {'Tijdstip': '1989-01-02T22:10:00.000+01:00',\n",
       "     'Meetwaarde': {'Waarde_Numeriek': 104.0},\n",
       "     'WaarnemingMetadata': {'StatuswaardeLijst': ['Gecontroleerd'],\n",
       "      'BemonsteringshoogteLijst': ['-999999999'],\n",
       "      'ReferentievlakLijst': ['NVT'],\n",
       "      'OpdrachtgevendeInstantieLijst': ['ZLXXREG_ZEGE'],\n",
       "      'KwaliteitswaardecodeLijst': ['00']}},\n",
       "    {'Tijdstip': '1989-01-02T22:20:00.000+01:00',\n",
       "     'Meetwaarde': {'Waarde_Numeriek': 112.0},\n",
       "     'WaarnemingMetadata': {'StatuswaardeLijst': ['Gecontroleerd'],\n",
       "      'BemonsteringshoogteLijst': ['-999999999'],\n",
       "      'ReferentievlakLijst': ['NVT'],\n",
       "      'OpdrachtgevendeInstantieLijst': ['ZLXXREG_ZEGE'],\n",
       "      'KwaliteitswaardecodeLijst': ['00']}},\n",
       "    {'Tijdstip': '1989-01-02T22:30:00.000+01:00',\n",
       "     'Meetwaarde': {'Waarde_Numeriek': 118.0},\n",
       "     'WaarnemingMetadata': {'StatuswaardeLijst': ['Gecontroleerd'],\n",
       "      'BemonsteringshoogteLijst': ['-999999999'],\n",
       "      'ReferentievlakLijst': ['NVT'],\n",
       "      'OpdrachtgevendeInstantieLijst': ['ZLXXREG_ZEGE'],\n",
       "      'KwaliteitswaardecodeLijst': ['00']}},\n",
       "    {'Tijdstip': '1989-01-02T22:40:00.000+01:00',\n",
       "     'Meetwaarde': {'Waarde_Numeriek': 123.0},\n",
       "     'WaarnemingMetadata': {'StatuswaardeLijst': ['Gecontroleerd'],\n",
       "      'BemonsteringshoogteLijst': ['-999999999'],\n",
       "      'ReferentievlakLijst': ['NVT'],\n",
       "      'OpdrachtgevendeInstantieLijst': ['ZLXXREG_ZEGE'],\n",
       "      'KwaliteitswaardecodeLijst': ['00']}},\n",
       "    {'Tijdstip': '1989-01-02T22:50:00.000+01:00',\n",
       "     'Meetwaarde': {'Waarde_Numeriek': 127.0},\n",
       "     'WaarnemingMetadata': {'StatuswaardeLijst': ['Gecontroleerd'],\n",
       "      'BemonsteringshoogteLijst': ['-999999999'],\n",
       "      'ReferentievlakLijst': ['NVT'],\n",
       "      'OpdrachtgevendeInstantieLijst': ['ZLXXREG_ZEGE'],\n",
       "      'KwaliteitswaardecodeLijst': ['00']}},\n",
       "    {'Tijdstip': '1989-01-02T23:00:00.000+01:00',\n",
       "     'Meetwaarde': {'Waarde_Numeriek': 130.0},\n",
       "     'WaarnemingMetadata': {'StatuswaardeLijst': ['Gecontroleerd'],\n",
       "      'BemonsteringshoogteLijst': ['-999999999'],\n",
       "      'ReferentievlakLijst': ['NVT'],\n",
       "      'OpdrachtgevendeInstantieLijst': ['ZLXXREG_ZEGE'],\n",
       "      'KwaliteitswaardecodeLijst': ['00']}},\n",
       "    {'Tijdstip': '1989-01-02T23:10:00.000+01:00',\n",
       "     'Meetwaarde': {'Waarde_Numeriek': 131.0},\n",
       "     'WaarnemingMetadata': {'StatuswaardeLijst': ['Gecontroleerd'],\n",
       "      'BemonsteringshoogteLijst': ['-999999999'],\n",
       "      'ReferentievlakLijst': ['NVT'],\n",
       "      'OpdrachtgevendeInstantieLijst': ['ZLXXREG_ZEGE'],\n",
       "      'KwaliteitswaardecodeLijst': ['00']}},\n",
       "    {'Tijdstip': '1989-01-02T23:20:00.000+01:00',\n",
       "     'Meetwaarde': {'Waarde_Numeriek': 131.0},\n",
       "     'WaarnemingMetadata': {'StatuswaardeLijst': ['Gecontroleerd'],\n",
       "      'BemonsteringshoogteLijst': ['-999999999'],\n",
       "      'ReferentievlakLijst': ['NVT'],\n",
       "      'OpdrachtgevendeInstantieLijst': ['ZLXXREG_ZEGE'],\n",
       "      'KwaliteitswaardecodeLijst': ['00']}},\n",
       "    {'Tijdstip': '1989-01-02T23:30:00.000+01:00',\n",
       "     'Meetwaarde': {'Waarde_Numeriek': 129.0},\n",
       "     'WaarnemingMetadata': {'StatuswaardeLijst': ['Gecontroleerd'],\n",
       "      'BemonsteringshoogteLijst': ['-999999999'],\n",
       "      'ReferentievlakLijst': ['NVT'],\n",
       "      'OpdrachtgevendeInstantieLijst': ['ZLXXREG_ZEGE'],\n",
       "      'KwaliteitswaardecodeLijst': ['00']}},\n",
       "    {'Tijdstip': '1989-01-02T23:40:00.000+01:00',\n",
       "     'Meetwaarde': {'Waarde_Numeriek': 125.0},\n",
       "     'WaarnemingMetadata': {'StatuswaardeLijst': ['Gecontroleerd'],\n",
       "      'BemonsteringshoogteLijst': ['-999999999'],\n",
       "      'ReferentievlakLijst': ['NVT'],\n",
       "      'OpdrachtgevendeInstantieLijst': ['ZLXXREG_ZEGE'],\n",
       "      'KwaliteitswaardecodeLijst': ['00']}},\n",
       "    {'Tijdstip': '1989-01-02T23:50:00.000+01:00',\n",
       "     'Meetwaarde': {'Waarde_Numeriek': 120.0},\n",
       "     'WaarnemingMetadata': {'StatuswaardeLijst': ['Gecontroleerd'],\n",
       "      'BemonsteringshoogteLijst': ['-999999999'],\n",
       "      'ReferentievlakLijst': ['NVT'],\n",
       "      'OpdrachtgevendeInstantieLijst': ['ZLXXREG_ZEGE'],\n",
       "      'KwaliteitswaardecodeLijst': ['00']}},\n",
       "    {'Tijdstip': '1989-01-03T00:00:00.000+01:00',\n",
       "     'Meetwaarde': {'Waarde_Numeriek': 114.0},\n",
       "     'WaarnemingMetadata': {'StatuswaardeLijst': ['Gecontroleerd'],\n",
       "      'BemonsteringshoogteLijst': ['-999999999'],\n",
       "      'ReferentievlakLijst': ['NVT'],\n",
       "      'OpdrachtgevendeInstantieLijst': ['ZLXXREG_ZEGE'],\n",
       "      'KwaliteitswaardecodeLijst': ['00']}},\n",
       "    {'Tijdstip': '1989-01-03T00:10:00.000+01:00',\n",
       "     'Meetwaarde': {'Waarde_Numeriek': 106.0},\n",
       "     'WaarnemingMetadata': {'StatuswaardeLijst': ['Gecontroleerd'],\n",
       "      'BemonsteringshoogteLijst': ['-999999999'],\n",
       "      'ReferentievlakLijst': ['NVT'],\n",
       "      'OpdrachtgevendeInstantieLijst': ['ZLXXREG_ZEGE'],\n",
       "      'KwaliteitswaardecodeLijst': ['00']}},\n",
       "    {'Tijdstip': '1989-01-03T00:20:00.000+01:00',\n",
       "     'Meetwaarde': {'Waarde_Numeriek': 97.0},\n",
       "     'WaarnemingMetadata': {'StatuswaardeLijst': ['Gecontroleerd'],\n",
       "      'BemonsteringshoogteLijst': ['-999999999'],\n",
       "      'ReferentievlakLijst': ['NVT'],\n",
       "      'OpdrachtgevendeInstantieLijst': ['ZLXXREG_ZEGE'],\n",
       "      'KwaliteitswaardecodeLijst': ['00']}},\n",
       "    {'Tijdstip': '1989-01-03T00:30:00.000+01:00',\n",
       "     'Meetwaarde': {'Waarde_Numeriek': 88.0},\n",
       "     'WaarnemingMetadata': {'StatuswaardeLijst': ['Gecontroleerd'],\n",
       "      'BemonsteringshoogteLijst': ['-999999999'],\n",
       "      'ReferentievlakLijst': ['NVT'],\n",
       "      'OpdrachtgevendeInstantieLijst': ['ZLXXREG_ZEGE'],\n",
       "      'KwaliteitswaardecodeLijst': ['00']}},\n",
       "    {'Tijdstip': '1989-01-03T00:40:00.000+01:00',\n",
       "     'Meetwaarde': {'Waarde_Numeriek': 79.0},\n",
       "     'WaarnemingMetadata': {'StatuswaardeLijst': ['Gecontroleerd'],\n",
       "      'BemonsteringshoogteLijst': ['-999999999'],\n",
       "      'ReferentievlakLijst': ['NVT'],\n",
       "      'OpdrachtgevendeInstantieLijst': ['ZLXXREG_ZEGE'],\n",
       "      'KwaliteitswaardecodeLijst': ['00']}},\n",
       "    {'Tijdstip': '1989-01-03T00:50:00.000+01:00',\n",
       "     'Meetwaarde': {'Waarde_Numeriek': 69.0},\n",
       "     'WaarnemingMetadata': {'StatuswaardeLijst': ['Gecontroleerd'],\n",
       "      'BemonsteringshoogteLijst': ['-999999999'],\n",
       "      'ReferentievlakLijst': ['NVT'],\n",
       "      'OpdrachtgevendeInstantieLijst': ['ZLXXREG_ZEGE'],\n",
       "      'KwaliteitswaardecodeLijst': ['00']}},\n",
       "    {'Tijdstip': '1989-01-03T01:00:00.000+01:00',\n",
       "     'Meetwaarde': {'Waarde_Numeriek': 59.0},\n",
       "     'WaarnemingMetadata': {'StatuswaardeLijst': ['Gecontroleerd'],\n",
       "      'BemonsteringshoogteLijst': ['-999999999'],\n",
       "      'ReferentievlakLijst': ['NVT'],\n",
       "      'OpdrachtgevendeInstantieLijst': ['ZLXXREG_ZEGE'],\n",
       "      'KwaliteitswaardecodeLijst': ['00']}}],\n",
       "   'AquoMetadata': {'AquoMetadata_MessageID': 173961,\n",
       "    'Parameter_Wat_Omschrijving': 'Waterhoogte Oppervlaktewater t.o.v. Normaal Amsterdams Peil in cm',\n",
       "    'BemonsteringsApparaat': {'Code': 'NVT',\n",
       "     'Omschrijving': 'Waarde is niet van toepassing'},\n",
       "    'BemonsteringsMethode': {'Code': 'NVT',\n",
       "     'Omschrijving': 'Waarde is niet van toepassing'},\n",
       "    'BemonsteringsSoort': {'Code': 'SB', 'Omschrijving': 'Steekbemonstering'},\n",
       "    'BioTaxon': {'Code': 'NVT', 'Omschrijving': 'NVT'},\n",
       "    'BioTaxonType': 'NVT',\n",
       "    'BioTaxon_Compartiment': {'Code': 'NVT', 'Omschrijving': 'NVT'},\n",
       "    'Compartiment': {'Code': 'OW', 'Omschrijving': 'Oppervlaktewater'},\n",
       "    'Eenheid': {'Code': 'cm', 'Omschrijving': 'centimeter'},\n",
       "    'Grootheid': {'Code': 'WATHTE', 'Omschrijving': 'Waterhoogte'},\n",
       "    'Hoedanigheid': {'Code': 'NAP',\n",
       "     'Omschrijving': 't.o.v. Normaal Amsterdams Peil'},\n",
       "    'MeetApparaat': {'Code': '127', 'Omschrijving': 'Vlotter'},\n",
       "    'MonsterBewerkingsMethode': {'Code': 'NVT',\n",
       "     'Omschrijving': 'Waarde is niet van toepassing'},\n",
       "    'Orgaan': {'Code': 'NVT', 'Omschrijving': 'Waarde is niet van toepassing'},\n",
       "    'Parameter': {'Code': 'NVT',\n",
       "     'Omschrijving': 'Waarde is niet van toepassing'},\n",
       "    'PlaatsBepalingsApparaat': {'Code': 'NVT',\n",
       "     'Omschrijving': 'Waarde is niet van toepassing'},\n",
       "    'Typering': {'Code': 'NVT',\n",
       "     'Omschrijving': 'Waarde is niet van toepassing'},\n",
       "    'Groepering': {'Code': 'NVT', 'Omschrijving': 'Niet van toepassing'},\n",
       "    'WaardeBepalingstechniek': {'Code': 'NVT',\n",
       "     'Omschrijving': 'Waarde is niet van toepassing'},\n",
       "    'WaardeBepalingsmethode': {'Code': 'other:F039',\n",
       "     'Omschrijving': 'Rek. gem. waterhoogte over vorige 2,5 en volgende 2,5 min.'},\n",
       "    'WaardeBewerkingsmethode': {'Code': 'NVT',\n",
       "     'Omschrijving': 'Niet van toepassing'}}},\n",
       "  {'Locatie': {'Locatie_MessageID': 20583,\n",
       "    'Coordinatenstelsel': '25831',\n",
       "    'X': 574616.706916963,\n",
       "    'Y': 5706661.48205982,\n",
       "    'Naam': 'Yerseke',\n",
       "    'Code': 'YERSKE'},\n",
       "   'MetingenLijst': [{'Tijdstip': '1989-01-01T01:00:00.000+01:00',\n",
       "     'Meetwaarde': {'Waarde_Numeriek': -58.0},\n",
       "     'WaarnemingMetadata': {'StatuswaardeLijst': ['Ongecontroleerd'],\n",
       "      'BemonsteringshoogteLijst': ['-999999999'],\n",
       "      'ReferentievlakLijst': ['NVT'],\n",
       "      'OpdrachtgevendeInstantieLijst': ['RIKZ_WAT'],\n",
       "      'KwaliteitswaardecodeLijst': ['00']}},\n",
       "    {'Tijdstip': '1989-01-01T02:00:00.000+01:00',\n",
       "     'Meetwaarde': {'Waarde_Numeriek': -105.0},\n",
       "     'WaarnemingMetadata': {'StatuswaardeLijst': ['Ongecontroleerd'],\n",
       "      'BemonsteringshoogteLijst': ['-999999999'],\n",
       "      'ReferentievlakLijst': ['NVT'],\n",
       "      'OpdrachtgevendeInstantieLijst': ['RIKZ_WAT'],\n",
       "      'KwaliteitswaardecodeLijst': ['00']}},\n",
       "    {'Tijdstip': '1989-01-01T03:00:00.000+01:00',\n",
       "     'Meetwaarde': {'Waarde_Numeriek': -123.0},\n",
       "     'WaarnemingMetadata': {'StatuswaardeLijst': ['Ongecontroleerd'],\n",
       "      'BemonsteringshoogteLijst': ['-999999999'],\n",
       "      'ReferentievlakLijst': ['NVT'],\n",
       "      'OpdrachtgevendeInstantieLijst': ['RIKZ_WAT'],\n",
       "      'KwaliteitswaardecodeLijst': ['00']}},\n",
       "    {'Tijdstip': '1989-01-01T04:00:00.000+01:00',\n",
       "     'Meetwaarde': {'Waarde_Numeriek': -102.0},\n",
       "     'WaarnemingMetadata': {'StatuswaardeLijst': ['Ongecontroleerd'],\n",
       "      'BemonsteringshoogteLijst': ['-999999999'],\n",
       "      'ReferentievlakLijst': ['NVT'],\n",
       "      'OpdrachtgevendeInstantieLijst': ['RIKZ_WAT'],\n",
       "      'KwaliteitswaardecodeLijst': ['00']}},\n",
       "    {'Tijdstip': '1989-01-01T05:00:00.000+01:00',\n",
       "     'Meetwaarde': {'Waarde_Numeriek': -61.0},\n",
       "     'WaarnemingMetadata': {'StatuswaardeLijst': ['Ongecontroleerd'],\n",
       "      'BemonsteringshoogteLijst': ['-999999999'],\n",
       "      'ReferentievlakLijst': ['NVT'],\n",
       "      'OpdrachtgevendeInstantieLijst': ['RIKZ_WAT'],\n",
       "      'KwaliteitswaardecodeLijst': ['00']}},\n",
       "    {'Tijdstip': '1989-01-01T06:00:00.000+01:00',\n",
       "     'Meetwaarde': {'Waarde_Numeriek': -18.0},\n",
       "     'WaarnemingMetadata': {'StatuswaardeLijst': ['Ongecontroleerd'],\n",
       "      'BemonsteringshoogteLijst': ['-999999999'],\n",
       "      'ReferentievlakLijst': ['NVT'],\n",
       "      'OpdrachtgevendeInstantieLijst': ['RIKZ_WAT'],\n",
       "      'KwaliteitswaardecodeLijst': ['00']}},\n",
       "    {'Tijdstip': '1989-01-01T07:00:00.000+01:00',\n",
       "     'Meetwaarde': {'Waarde_Numeriek': 30.0},\n",
       "     'WaarnemingMetadata': {'StatuswaardeLijst': ['Ongecontroleerd'],\n",
       "      'BemonsteringshoogteLijst': ['-999999999'],\n",
       "      'ReferentievlakLijst': ['NVT'],\n",
       "      'OpdrachtgevendeInstantieLijst': ['RIKZ_WAT'],\n",
       "      'KwaliteitswaardecodeLijst': ['00']}},\n",
       "    {'Tijdstip': '1989-01-01T08:00:00.000+01:00',\n",
       "     'Meetwaarde': {'Waarde_Numeriek': 85.0},\n",
       "     'WaarnemingMetadata': {'StatuswaardeLijst': ['Ongecontroleerd'],\n",
       "      'BemonsteringshoogteLijst': ['-999999999'],\n",
       "      'ReferentievlakLijst': ['NVT'],\n",
       "      'OpdrachtgevendeInstantieLijst': ['RIKZ_WAT'],\n",
       "      'KwaliteitswaardecodeLijst': ['00']}},\n",
       "    {'Tijdstip': '1989-01-01T09:00:00.000+01:00',\n",
       "     'Meetwaarde': {'Waarde_Numeriek': 125.0},\n",
       "     'WaarnemingMetadata': {'StatuswaardeLijst': ['Ongecontroleerd'],\n",
       "      'BemonsteringshoogteLijst': ['-999999999'],\n",
       "      'ReferentievlakLijst': ['NVT'],\n",
       "      'OpdrachtgevendeInstantieLijst': ['RIKZ_WAT'],\n",
       "      'KwaliteitswaardecodeLijst': ['00']}},\n",
       "    {'Tijdstip': '1989-01-01T10:00:00.000+01:00',\n",
       "     'Meetwaarde': {'Waarde_Numeriek': 118.0},\n",
       "     'WaarnemingMetadata': {'StatuswaardeLijst': ['Ongecontroleerd'],\n",
       "      'BemonsteringshoogteLijst': ['-999999999'],\n",
       "      'ReferentievlakLijst': ['NVT'],\n",
       "      'OpdrachtgevendeInstantieLijst': ['RIKZ_WAT'],\n",
       "      'KwaliteitswaardecodeLijst': ['00']}},\n",
       "    {'Tijdstip': '1989-01-01T11:00:00.000+01:00',\n",
       "     'Meetwaarde': {'Waarde_Numeriek': 65.0},\n",
       "     'WaarnemingMetadata': {'StatuswaardeLijst': ['Ongecontroleerd'],\n",
       "      'BemonsteringshoogteLijst': ['-999999999'],\n",
       "      'ReferentievlakLijst': ['NVT'],\n",
       "      'OpdrachtgevendeInstantieLijst': ['RIKZ_WAT'],\n",
       "      'KwaliteitswaardecodeLijst': ['00']}},\n",
       "    {'Tijdstip': '1989-01-01T12:00:00.000+01:00',\n",
       "     'Meetwaarde': {'Waarde_Numeriek': 0.0},\n",
       "     'WaarnemingMetadata': {'StatuswaardeLijst': ['Ongecontroleerd'],\n",
       "      'BemonsteringshoogteLijst': ['-999999999'],\n",
       "      'ReferentievlakLijst': ['NVT'],\n",
       "      'OpdrachtgevendeInstantieLijst': ['RIKZ_WAT'],\n",
       "      'KwaliteitswaardecodeLijst': ['00']}},\n",
       "    {'Tijdstip': '1989-01-01T13:00:00.000+01:00',\n",
       "     'Meetwaarde': {'Waarde_Numeriek': -60.0},\n",
       "     'WaarnemingMetadata': {'StatuswaardeLijst': ['Ongecontroleerd'],\n",
       "      'BemonsteringshoogteLijst': ['-999999999'],\n",
       "      'ReferentievlakLijst': ['NVT'],\n",
       "      'OpdrachtgevendeInstantieLijst': ['RIKZ_WAT'],\n",
       "      'KwaliteitswaardecodeLijst': ['00']}},\n",
       "    {'Tijdstip': '1989-01-01T14:00:00.000+01:00',\n",
       "     'Meetwaarde': {'Waarde_Numeriek': -117.0},\n",
       "     'WaarnemingMetadata': {'StatuswaardeLijst': ['Ongecontroleerd'],\n",
       "      'BemonsteringshoogteLijst': ['-999999999'],\n",
       "      'ReferentievlakLijst': ['NVT'],\n",
       "      'OpdrachtgevendeInstantieLijst': ['RIKZ_WAT'],\n",
       "      'KwaliteitswaardecodeLijst': ['00']}},\n",
       "    {'Tijdstip': '1989-01-01T15:00:00.000+01:00',\n",
       "     'Meetwaarde': {'Waarde_Numeriek': -155.0},\n",
       "     'WaarnemingMetadata': {'StatuswaardeLijst': ['Ongecontroleerd'],\n",
       "      'BemonsteringshoogteLijst': ['-999999999'],\n",
       "      'ReferentievlakLijst': ['NVT'],\n",
       "      'OpdrachtgevendeInstantieLijst': ['RIKZ_WAT'],\n",
       "      'KwaliteitswaardecodeLijst': ['00']}},\n",
       "    {'Tijdstip': '1989-01-01T16:00:00.000+01:00',\n",
       "     'Meetwaarde': {'Waarde_Numeriek': -156.0},\n",
       "     'WaarnemingMetadata': {'StatuswaardeLijst': ['Ongecontroleerd'],\n",
       "      'BemonsteringshoogteLijst': ['-999999999'],\n",
       "      'ReferentievlakLijst': ['NVT'],\n",
       "      'OpdrachtgevendeInstantieLijst': ['RIKZ_WAT'],\n",
       "      'KwaliteitswaardecodeLijst': ['00']}},\n",
       "    {'Tijdstip': '1989-01-01T17:00:00.000+01:00',\n",
       "     'Meetwaarde': {'Waarde_Numeriek': -116.0},\n",
       "     'WaarnemingMetadata': {'StatuswaardeLijst': ['Ongecontroleerd'],\n",
       "      'BemonsteringshoogteLijst': ['-999999999'],\n",
       "      'ReferentievlakLijst': ['NVT'],\n",
       "      'OpdrachtgevendeInstantieLijst': ['RIKZ_WAT'],\n",
       "      'KwaliteitswaardecodeLijst': ['00']}},\n",
       "    {'Tijdstip': '1989-01-01T18:00:00.000+01:00',\n",
       "     'Meetwaarde': {'Waarde_Numeriek': -69.0},\n",
       "     'WaarnemingMetadata': {'StatuswaardeLijst': ['Ongecontroleerd'],\n",
       "      'BemonsteringshoogteLijst': ['-999999999'],\n",
       "      'ReferentievlakLijst': ['NVT'],\n",
       "      'OpdrachtgevendeInstantieLijst': ['RIKZ_WAT'],\n",
       "      'KwaliteitswaardecodeLijst': ['00']}},\n",
       "    {'Tijdstip': '1989-01-01T19:00:00.000+01:00',\n",
       "     'Meetwaarde': {'Waarde_Numeriek': -19.0},\n",
       "     'WaarnemingMetadata': {'StatuswaardeLijst': ['Ongecontroleerd'],\n",
       "      'BemonsteringshoogteLijst': ['-999999999'],\n",
       "      'ReferentievlakLijst': ['NVT'],\n",
       "      'OpdrachtgevendeInstantieLijst': ['RIKZ_WAT'],\n",
       "      'KwaliteitswaardecodeLijst': ['00']}},\n",
       "    {'Tijdstip': '1989-01-01T20:00:00.000+01:00',\n",
       "     'Meetwaarde': {'Waarde_Numeriek': 43.0},\n",
       "     'WaarnemingMetadata': {'StatuswaardeLijst': ['Ongecontroleerd'],\n",
       "      'BemonsteringshoogteLijst': ['-999999999'],\n",
       "      'ReferentievlakLijst': ['NVT'],\n",
       "      'OpdrachtgevendeInstantieLijst': ['RIKZ_WAT'],\n",
       "      'KwaliteitswaardecodeLijst': ['00']}},\n",
       "    {'Tijdstip': '1989-01-01T21:00:00.000+01:00',\n",
       "     'Meetwaarde': {'Waarde_Numeriek': 106.0},\n",
       "     'WaarnemingMetadata': {'StatuswaardeLijst': ['Ongecontroleerd'],\n",
       "      'BemonsteringshoogteLijst': ['-999999999'],\n",
       "      'ReferentievlakLijst': ['NVT'],\n",
       "      'OpdrachtgevendeInstantieLijst': ['RIKZ_WAT'],\n",
       "      'KwaliteitswaardecodeLijst': ['00']}},\n",
       "    {'Tijdstip': '1989-01-01T22:00:00.000+01:00',\n",
       "     'Meetwaarde': {'Waarde_Numeriek': 140.0},\n",
       "     'WaarnemingMetadata': {'StatuswaardeLijst': ['Ongecontroleerd'],\n",
       "      'BemonsteringshoogteLijst': ['-999999999'],\n",
       "      'ReferentievlakLijst': ['NVT'],\n",
       "      'OpdrachtgevendeInstantieLijst': ['RIKZ_WAT'],\n",
       "      'KwaliteitswaardecodeLijst': ['00']}},\n",
       "    {'Tijdstip': '1989-01-01T23:00:00.000+01:00',\n",
       "     'Meetwaarde': {'Waarde_Numeriek': 122.0},\n",
       "     'WaarnemingMetadata': {'StatuswaardeLijst': ['Ongecontroleerd'],\n",
       "      'BemonsteringshoogteLijst': ['-999999999'],\n",
       "      'ReferentievlakLijst': ['NVT'],\n",
       "      'OpdrachtgevendeInstantieLijst': ['RIKZ_WAT'],\n",
       "      'KwaliteitswaardecodeLijst': ['00']}},\n",
       "    {'Tijdstip': '1989-01-02T00:00:00.000+01:00',\n",
       "     'Meetwaarde': {'Waarde_Numeriek': 65.0},\n",
       "     'WaarnemingMetadata': {'StatuswaardeLijst': ['Ongecontroleerd'],\n",
       "      'BemonsteringshoogteLijst': ['-999999999'],\n",
       "      'ReferentievlakLijst': ['NVT'],\n",
       "      'OpdrachtgevendeInstantieLijst': ['RIKZ_WAT'],\n",
       "      'KwaliteitswaardecodeLijst': ['00']}},\n",
       "    {'Tijdstip': '1989-01-02T01:00:00.000+01:00',\n",
       "     'Meetwaarde': {'Waarde_Numeriek': 0.0},\n",
       "     'WaarnemingMetadata': {'StatuswaardeLijst': ['Ongecontroleerd'],\n",
       "      'BemonsteringshoogteLijst': ['-999999999'],\n",
       "      'ReferentievlakLijst': ['NVT'],\n",
       "      'OpdrachtgevendeInstantieLijst': ['RIKZ_WAT'],\n",
       "      'KwaliteitswaardecodeLijst': ['00']}},\n",
       "    {'Tijdstip': '1989-01-02T02:00:00.000+01:00',\n",
       "     'Meetwaarde': {'Waarde_Numeriek': -56.0},\n",
       "     'WaarnemingMetadata': {'StatuswaardeLijst': ['Ongecontroleerd'],\n",
       "      'BemonsteringshoogteLijst': ['-999999999'],\n",
       "      'ReferentievlakLijst': ['NVT'],\n",
       "      'OpdrachtgevendeInstantieLijst': ['RIKZ_WAT'],\n",
       "      'KwaliteitswaardecodeLijst': ['00']}},\n",
       "    {'Tijdstip': '1989-01-02T03:00:00.000+01:00',\n",
       "     'Meetwaarde': {'Waarde_Numeriek': -100.0},\n",
       "     'WaarnemingMetadata': {'StatuswaardeLijst': ['Ongecontroleerd'],\n",
       "      'BemonsteringshoogteLijst': ['-999999999'],\n",
       "      'ReferentievlakLijst': ['NVT'],\n",
       "      'OpdrachtgevendeInstantieLijst': ['RIKZ_WAT'],\n",
       "      'KwaliteitswaardecodeLijst': ['00']}},\n",
       "    {'Tijdstip': '1989-01-02T04:00:00.000+01:00',\n",
       "     'Meetwaarde': {'Waarde_Numeriek': -118.0},\n",
       "     'WaarnemingMetadata': {'StatuswaardeLijst': ['Ongecontroleerd'],\n",
       "      'BemonsteringshoogteLijst': ['-999999999'],\n",
       "      'ReferentievlakLijst': ['NVT'],\n",
       "      'OpdrachtgevendeInstantieLijst': ['RIKZ_WAT'],\n",
       "      'KwaliteitswaardecodeLijst': ['00']}},\n",
       "    {'Tijdstip': '1989-01-02T05:00:00.000+01:00',\n",
       "     'Meetwaarde': {'Waarde_Numeriek': -99.0},\n",
       "     'WaarnemingMetadata': {'StatuswaardeLijst': ['Ongecontroleerd'],\n",
       "      'BemonsteringshoogteLijst': ['-999999999'],\n",
       "      'ReferentievlakLijst': ['NVT'],\n",
       "      'OpdrachtgevendeInstantieLijst': ['RIKZ_WAT'],\n",
       "      'KwaliteitswaardecodeLijst': ['00']}},\n",
       "    {'Tijdstip': '1989-01-02T06:00:00.000+01:00',\n",
       "     'Meetwaarde': {'Waarde_Numeriek': -59.0},\n",
       "     'WaarnemingMetadata': {'StatuswaardeLijst': ['Ongecontroleerd'],\n",
       "      'BemonsteringshoogteLijst': ['-999999999'],\n",
       "      'ReferentievlakLijst': ['NVT'],\n",
       "      'OpdrachtgevendeInstantieLijst': ['RIKZ_WAT'],\n",
       "      'KwaliteitswaardecodeLijst': ['00']}},\n",
       "    {'Tijdstip': '1989-01-02T07:00:00.000+01:00',\n",
       "     'Meetwaarde': {'Waarde_Numeriek': -18.0},\n",
       "     'WaarnemingMetadata': {'StatuswaardeLijst': ['Ongecontroleerd'],\n",
       "      'BemonsteringshoogteLijst': ['-999999999'],\n",
       "      'ReferentievlakLijst': ['NVT'],\n",
       "      'OpdrachtgevendeInstantieLijst': ['RIKZ_WAT'],\n",
       "      'KwaliteitswaardecodeLijst': ['00']}},\n",
       "    {'Tijdstip': '1989-01-02T08:00:00.000+01:00',\n",
       "     'Meetwaarde': {'Waarde_Numeriek': 26.0},\n",
       "     'WaarnemingMetadata': {'StatuswaardeLijst': ['Ongecontroleerd'],\n",
       "      'BemonsteringshoogteLijst': ['-999999999'],\n",
       "      'ReferentievlakLijst': ['NVT'],\n",
       "      'OpdrachtgevendeInstantieLijst': ['RIKZ_WAT'],\n",
       "      'KwaliteitswaardecodeLijst': ['00']}},\n",
       "    {'Tijdstip': '1989-01-02T09:00:00.000+01:00',\n",
       "     'Meetwaarde': {'Waarde_Numeriek': 76.0},\n",
       "     'WaarnemingMetadata': {'StatuswaardeLijst': ['Ongecontroleerd'],\n",
       "      'BemonsteringshoogteLijst': ['-999999999'],\n",
       "      'ReferentievlakLijst': ['NVT'],\n",
       "      'OpdrachtgevendeInstantieLijst': ['RIKZ_WAT'],\n",
       "      'KwaliteitswaardecodeLijst': ['00']}},\n",
       "    {'Tijdstip': '1989-01-02T10:00:00.000+01:00',\n",
       "     'Meetwaarde': {'Waarde_Numeriek': 114.0},\n",
       "     'WaarnemingMetadata': {'StatuswaardeLijst': ['Ongecontroleerd'],\n",
       "      'BemonsteringshoogteLijst': ['-999999999'],\n",
       "      'ReferentievlakLijst': ['NVT'],\n",
       "      'OpdrachtgevendeInstantieLijst': ['RIKZ_WAT'],\n",
       "      'KwaliteitswaardecodeLijst': ['00']}},\n",
       "    {'Tijdstip': '1989-01-02T11:00:00.000+01:00',\n",
       "     'Meetwaarde': {'Waarde_Numeriek': 109.0},\n",
       "     'WaarnemingMetadata': {'StatuswaardeLijst': ['Ongecontroleerd'],\n",
       "      'BemonsteringshoogteLijst': ['-999999999'],\n",
       "      'ReferentievlakLijst': ['NVT'],\n",
       "      'OpdrachtgevendeInstantieLijst': ['RIKZ_WAT'],\n",
       "      'KwaliteitswaardecodeLijst': ['00']}},\n",
       "    {'Tijdstip': '1989-01-02T12:00:00.000+01:00',\n",
       "     'Meetwaarde': {'Waarde_Numeriek': 61.0},\n",
       "     'WaarnemingMetadata': {'StatuswaardeLijst': ['Ongecontroleerd'],\n",
       "      'BemonsteringshoogteLijst': ['-999999999'],\n",
       "      'ReferentievlakLijst': ['NVT'],\n",
       "      'OpdrachtgevendeInstantieLijst': ['RIKZ_WAT'],\n",
       "      'KwaliteitswaardecodeLijst': ['00']}},\n",
       "    {'Tijdstip': '1989-01-02T13:00:00.000+01:00',\n",
       "     'Meetwaarde': {'Waarde_Numeriek': 0.0},\n",
       "     'WaarnemingMetadata': {'StatuswaardeLijst': ['Ongecontroleerd'],\n",
       "      'BemonsteringshoogteLijst': ['-999999999'],\n",
       "      'ReferentievlakLijst': ['NVT'],\n",
       "      'OpdrachtgevendeInstantieLijst': ['RIKZ_WAT'],\n",
       "      'KwaliteitswaardecodeLijst': ['00']}},\n",
       "    {'Tijdstip': '1989-01-02T14:00:00.000+01:00',\n",
       "     'Meetwaarde': {'Waarde_Numeriek': -59.0},\n",
       "     'WaarnemingMetadata': {'StatuswaardeLijst': ['Ongecontroleerd'],\n",
       "      'BemonsteringshoogteLijst': ['-999999999'],\n",
       "      'ReferentievlakLijst': ['NVT'],\n",
       "      'OpdrachtgevendeInstantieLijst': ['RIKZ_WAT'],\n",
       "      'KwaliteitswaardecodeLijst': ['00']}},\n",
       "    {'Tijdstip': '1989-01-02T15:00:00.000+01:00',\n",
       "     'Meetwaarde': {'Waarde_Numeriek': -111.0},\n",
       "     'WaarnemingMetadata': {'StatuswaardeLijst': ['Ongecontroleerd'],\n",
       "      'BemonsteringshoogteLijst': ['-999999999'],\n",
       "      'ReferentievlakLijst': ['NVT'],\n",
       "      'OpdrachtgevendeInstantieLijst': ['RIKZ_WAT'],\n",
       "      'KwaliteitswaardecodeLijst': ['00']}},\n",
       "    {'Tijdstip': '1989-01-02T16:00:00.000+01:00',\n",
       "     'Meetwaarde': {'Waarde_Numeriek': -146.0},\n",
       "     'WaarnemingMetadata': {'StatuswaardeLijst': ['Ongecontroleerd'],\n",
       "      'BemonsteringshoogteLijst': ['-999999999'],\n",
       "      'ReferentievlakLijst': ['NVT'],\n",
       "      'OpdrachtgevendeInstantieLijst': ['RIKZ_WAT'],\n",
       "      'KwaliteitswaardecodeLijst': ['00']}},\n",
       "    {'Tijdstip': '1989-01-02T17:00:00.000+01:00',\n",
       "     'Meetwaarde': {'Waarde_Numeriek': -146.0},\n",
       "     'WaarnemingMetadata': {'StatuswaardeLijst': ['Ongecontroleerd'],\n",
       "      'BemonsteringshoogteLijst': ['-999999999'],\n",
       "      'ReferentievlakLijst': ['NVT'],\n",
       "      'OpdrachtgevendeInstantieLijst': ['RIKZ_WAT'],\n",
       "      'KwaliteitswaardecodeLijst': ['00']}},\n",
       "    {'Tijdstip': '1989-01-02T18:00:00.000+01:00',\n",
       "     'Meetwaarde': {'Waarde_Numeriek': -108.0},\n",
       "     'WaarnemingMetadata': {'StatuswaardeLijst': ['Ongecontroleerd'],\n",
       "      'BemonsteringshoogteLijst': ['-999999999'],\n",
       "      'ReferentievlakLijst': ['NVT'],\n",
       "      'OpdrachtgevendeInstantieLijst': ['RIKZ_WAT'],\n",
       "      'KwaliteitswaardecodeLijst': ['00']}},\n",
       "    {'Tijdstip': '1989-01-02T19:00:00.000+01:00',\n",
       "     'Meetwaarde': {'Waarde_Numeriek': -65.0},\n",
       "     'WaarnemingMetadata': {'StatuswaardeLijst': ['Ongecontroleerd'],\n",
       "      'BemonsteringshoogteLijst': ['-999999999'],\n",
       "      'ReferentievlakLijst': ['NVT'],\n",
       "      'OpdrachtgevendeInstantieLijst': ['RIKZ_WAT'],\n",
       "      'KwaliteitswaardecodeLijst': ['00']}},\n",
       "    {'Tijdstip': '1989-01-02T20:00:00.000+01:00',\n",
       "     'Meetwaarde': {'Waarde_Numeriek': -20.0},\n",
       "     'WaarnemingMetadata': {'StatuswaardeLijst': ['Ongecontroleerd'],\n",
       "      'BemonsteringshoogteLijst': ['-999999999'],\n",
       "      'ReferentievlakLijst': ['NVT'],\n",
       "      'OpdrachtgevendeInstantieLijst': ['RIKZ_WAT'],\n",
       "      'KwaliteitswaardecodeLijst': ['00']}},\n",
       "    {'Tijdstip': '1989-01-02T21:00:00.000+01:00',\n",
       "     'Meetwaarde': {'Waarde_Numeriek': 37.0},\n",
       "     'WaarnemingMetadata': {'StatuswaardeLijst': ['Ongecontroleerd'],\n",
       "      'BemonsteringshoogteLijst': ['-999999999'],\n",
       "      'ReferentievlakLijst': ['NVT'],\n",
       "      'OpdrachtgevendeInstantieLijst': ['RIKZ_WAT'],\n",
       "      'KwaliteitswaardecodeLijst': ['00']}},\n",
       "    {'Tijdstip': '1989-01-02T22:00:00.000+01:00',\n",
       "     'Meetwaarde': {'Waarde_Numeriek': 96.0},\n",
       "     'WaarnemingMetadata': {'StatuswaardeLijst': ['Ongecontroleerd'],\n",
       "      'BemonsteringshoogteLijst': ['-999999999'],\n",
       "      'ReferentievlakLijst': ['NVT'],\n",
       "      'OpdrachtgevendeInstantieLijst': ['RIKZ_WAT'],\n",
       "      'KwaliteitswaardecodeLijst': ['00']}},\n",
       "    {'Tijdstip': '1989-01-02T23:00:00.000+01:00',\n",
       "     'Meetwaarde': {'Waarde_Numeriek': 130.0},\n",
       "     'WaarnemingMetadata': {'StatuswaardeLijst': ['Ongecontroleerd'],\n",
       "      'BemonsteringshoogteLijst': ['-999999999'],\n",
       "      'ReferentievlakLijst': ['NVT'],\n",
       "      'OpdrachtgevendeInstantieLijst': ['RIKZ_WAT'],\n",
       "      'KwaliteitswaardecodeLijst': ['00']}},\n",
       "    {'Tijdstip': '1989-01-03T00:00:00.000+01:00',\n",
       "     'Meetwaarde': {'Waarde_Numeriek': 114.0},\n",
       "     'WaarnemingMetadata': {'StatuswaardeLijst': ['Ongecontroleerd'],\n",
       "      'BemonsteringshoogteLijst': ['-999999999'],\n",
       "      'ReferentievlakLijst': ['NVT'],\n",
       "      'OpdrachtgevendeInstantieLijst': ['RIKZ_WAT'],\n",
       "      'KwaliteitswaardecodeLijst': ['00']}},\n",
       "    {'Tijdstip': '1989-01-03T01:00:00.000+01:00',\n",
       "     'Meetwaarde': {'Waarde_Numeriek': 59.0},\n",
       "     'WaarnemingMetadata': {'StatuswaardeLijst': ['Ongecontroleerd'],\n",
       "      'BemonsteringshoogteLijst': ['-999999999'],\n",
       "      'ReferentievlakLijst': ['NVT'],\n",
       "      'OpdrachtgevendeInstantieLijst': ['RIKZ_WAT'],\n",
       "      'KwaliteitswaardecodeLijst': ['00']}}],\n",
       "   'AquoMetadata': {'AquoMetadata_MessageID': 173623,\n",
       "    'Parameter_Wat_Omschrijving': 'Waterhoogte Oppervlaktewater t.o.v. Normaal Amsterdams Peil in cm',\n",
       "    'BemonsteringsApparaat': {'Code': 'NVT',\n",
       "     'Omschrijving': 'Waarde is niet van toepassing'},\n",
       "    'BemonsteringsMethode': {'Code': 'NVT',\n",
       "     'Omschrijving': 'Waarde is niet van toepassing'},\n",
       "    'BemonsteringsSoort': {'Code': 'SB', 'Omschrijving': 'Steekbemonstering'},\n",
       "    'BioTaxon': {'Code': 'NVT', 'Omschrijving': 'NVT'},\n",
       "    'BioTaxonType': 'NVT',\n",
       "    'BioTaxon_Compartiment': {'Code': 'NVT', 'Omschrijving': 'NVT'},\n",
       "    'Compartiment': {'Code': 'OW', 'Omschrijving': 'Oppervlaktewater'},\n",
       "    'Eenheid': {'Code': 'cm', 'Omschrijving': 'centimeter'},\n",
       "    'Grootheid': {'Code': 'WATHTE', 'Omschrijving': 'Waterhoogte'},\n",
       "    'Hoedanigheid': {'Code': 'NAP',\n",
       "     'Omschrijving': 't.o.v. Normaal Amsterdams Peil'},\n",
       "    'MeetApparaat': {'Code': '127', 'Omschrijving': 'Vlotter'},\n",
       "    'MonsterBewerkingsMethode': {'Code': 'NVT',\n",
       "     'Omschrijving': 'Waarde is niet van toepassing'},\n",
       "    'Orgaan': {'Code': 'NVT', 'Omschrijving': 'Waarde is niet van toepassing'},\n",
       "    'Parameter': {'Code': 'NVT',\n",
       "     'Omschrijving': 'Waarde is niet van toepassing'},\n",
       "    'PlaatsBepalingsApparaat': {'Code': 'NVT',\n",
       "     'Omschrijving': 'Waarde is niet van toepassing'},\n",
       "    'Typering': {'Code': 'NVT',\n",
       "     'Omschrijving': 'Waarde is niet van toepassing'},\n",
       "    'Groepering': {'Code': 'NVT', 'Omschrijving': 'Niet van toepassing'},\n",
       "    'WaardeBepalingstechniek': {'Code': 'NVT',\n",
       "     'Omschrijving': 'Waarde is niet van toepassing'},\n",
       "    'WaardeBepalingsmethode': {'Code': 'other:F027',\n",
       "     'Omschrijving': 'Rekenkundig gemiddelde waarde over vorige 3 en volgende 2 minuten'},\n",
       "    'WaardeBewerkingsmethode': {'Code': 'NVT',\n",
       "     'Omschrijving': 'Niet van toepassing'}}}],\n",
       " 'Succesvol': True}"
      ]
     },
     "execution_count": 13,
     "metadata": {},
     "output_type": "execute_result"
    }
   ],
   "source": [
    "raw"
   ]
  },
  {
   "cell_type": "code",
   "execution_count": 14,
   "metadata": {},
   "outputs": [
    {
     "data": {
      "text/plain": [
       "dict_keys(['WaarnemingenLijst', 'Succesvol'])"
      ]
     },
     "execution_count": 14,
     "metadata": {},
     "output_type": "execute_result"
    }
   ],
   "source": [
    "raw.keys()"
   ]
  },
  {
   "attachments": {},
   "cell_type": "markdown",
   "metadata": {},
   "source": [
    "And here we are. \"raw\" is a dictionary with two entries. The second is a boolean, indicating if the import was succesfull. \n",
    "\n",
    "The good stuff is in \"WaarnemingenLijst\" but is disturbingly deep nested. To begin with, the value under the key is a list."
   ]
  },
  {
   "attachments": {},
   "cell_type": "markdown",
   "metadata": {},
   "source": [
    "Tried a few json flatteners to no avail. Either do not work or give incorrect data. Try sequence of boring pandas methods."
   ]
  },
  {
   "cell_type": "code",
   "execution_count": 15,
   "metadata": {},
   "outputs": [
    {
     "data": {
      "text/html": [
       "<div>\n",
       "<style scoped>\n",
       "    .dataframe tbody tr th:only-of-type {\n",
       "        vertical-align: middle;\n",
       "    }\n",
       "\n",
       "    .dataframe tbody tr th {\n",
       "        vertical-align: top;\n",
       "    }\n",
       "\n",
       "    .dataframe thead th {\n",
       "        text-align: right;\n",
       "    }\n",
       "</style>\n",
       "<table border=\"1\" class=\"dataframe\">\n",
       "  <thead>\n",
       "    <tr style=\"text-align: right;\">\n",
       "      <th></th>\n",
       "      <th>MetingenLijst</th>\n",
       "      <th>Locatie.Locatie_MessageID</th>\n",
       "      <th>Locatie.Coordinatenstelsel</th>\n",
       "      <th>Locatie.X</th>\n",
       "      <th>Locatie.Y</th>\n",
       "      <th>Locatie.Naam</th>\n",
       "      <th>Locatie.Code</th>\n",
       "      <th>AquoMetadata.AquoMetadata_MessageID</th>\n",
       "      <th>AquoMetadata.Parameter_Wat_Omschrijving</th>\n",
       "      <th>AquoMetadata.BemonsteringsApparaat.Code</th>\n",
       "      <th>...</th>\n",
       "      <th>AquoMetadata.Typering.Code</th>\n",
       "      <th>AquoMetadata.Typering.Omschrijving</th>\n",
       "      <th>AquoMetadata.Groepering.Code</th>\n",
       "      <th>AquoMetadata.Groepering.Omschrijving</th>\n",
       "      <th>AquoMetadata.WaardeBepalingstechniek.Code</th>\n",
       "      <th>AquoMetadata.WaardeBepalingstechniek.Omschrijving</th>\n",
       "      <th>AquoMetadata.WaardeBepalingsmethode.Code</th>\n",
       "      <th>AquoMetadata.WaardeBepalingsmethode.Omschrijving</th>\n",
       "      <th>AquoMetadata.WaardeBewerkingsmethode.Code</th>\n",
       "      <th>AquoMetadata.WaardeBewerkingsmethode.Omschrijving</th>\n",
       "    </tr>\n",
       "  </thead>\n",
       "  <tbody>\n",
       "    <tr>\n",
       "      <th>0</th>\n",
       "      <td>[{'Tijdstip': '1989-01-01T01:00:00.000+01:00',...</td>\n",
       "      <td>20583</td>\n",
       "      <td>25831</td>\n",
       "      <td>574616.706917</td>\n",
       "      <td>5.706661e+06</td>\n",
       "      <td>Yerseke</td>\n",
       "      <td>YERSKE</td>\n",
       "      <td>173961</td>\n",
       "      <td>Waterhoogte Oppervlaktewater t.o.v. Normaal Am...</td>\n",
       "      <td>NVT</td>\n",
       "      <td>...</td>\n",
       "      <td>NVT</td>\n",
       "      <td>Waarde is niet van toepassing</td>\n",
       "      <td>NVT</td>\n",
       "      <td>Niet van toepassing</td>\n",
       "      <td>NVT</td>\n",
       "      <td>Waarde is niet van toepassing</td>\n",
       "      <td>other:F039</td>\n",
       "      <td>Rek. gem. waterhoogte over vorige 2,5 en volge...</td>\n",
       "      <td>NVT</td>\n",
       "      <td>Niet van toepassing</td>\n",
       "    </tr>\n",
       "    <tr>\n",
       "      <th>1</th>\n",
       "      <td>[{'Tijdstip': '1989-01-01T01:00:00.000+01:00',...</td>\n",
       "      <td>20583</td>\n",
       "      <td>25831</td>\n",
       "      <td>574616.706917</td>\n",
       "      <td>5.706661e+06</td>\n",
       "      <td>Yerseke</td>\n",
       "      <td>YERSKE</td>\n",
       "      <td>173623</td>\n",
       "      <td>Waterhoogte Oppervlaktewater t.o.v. Normaal Am...</td>\n",
       "      <td>NVT</td>\n",
       "      <td>...</td>\n",
       "      <td>NVT</td>\n",
       "      <td>Waarde is niet van toepassing</td>\n",
       "      <td>NVT</td>\n",
       "      <td>Niet van toepassing</td>\n",
       "      <td>NVT</td>\n",
       "      <td>Waarde is niet van toepassing</td>\n",
       "      <td>other:F027</td>\n",
       "      <td>Rekenkundig gemiddelde waarde over vorige 3 en...</td>\n",
       "      <td>NVT</td>\n",
       "      <td>Niet van toepassing</td>\n",
       "    </tr>\n",
       "  </tbody>\n",
       "</table>\n",
       "<p>2 rows × 48 columns</p>\n",
       "</div>"
      ],
      "text/plain": [
       "                                       MetingenLijst  \\\n",
       "0  [{'Tijdstip': '1989-01-01T01:00:00.000+01:00',...   \n",
       "1  [{'Tijdstip': '1989-01-01T01:00:00.000+01:00',...   \n",
       "\n",
       "   Locatie.Locatie_MessageID Locatie.Coordinatenstelsel      Locatie.X  \\\n",
       "0                      20583                      25831  574616.706917   \n",
       "1                      20583                      25831  574616.706917   \n",
       "\n",
       "      Locatie.Y Locatie.Naam Locatie.Code  \\\n",
       "0  5.706661e+06      Yerseke       YERSKE   \n",
       "1  5.706661e+06      Yerseke       YERSKE   \n",
       "\n",
       "   AquoMetadata.AquoMetadata_MessageID  \\\n",
       "0                               173961   \n",
       "1                               173623   \n",
       "\n",
       "             AquoMetadata.Parameter_Wat_Omschrijving  \\\n",
       "0  Waterhoogte Oppervlaktewater t.o.v. Normaal Am...   \n",
       "1  Waterhoogte Oppervlaktewater t.o.v. Normaal Am...   \n",
       "\n",
       "  AquoMetadata.BemonsteringsApparaat.Code  ... AquoMetadata.Typering.Code  \\\n",
       "0                                     NVT  ...                        NVT   \n",
       "1                                     NVT  ...                        NVT   \n",
       "\n",
       "  AquoMetadata.Typering.Omschrijving AquoMetadata.Groepering.Code  \\\n",
       "0      Waarde is niet van toepassing                          NVT   \n",
       "1      Waarde is niet van toepassing                          NVT   \n",
       "\n",
       "  AquoMetadata.Groepering.Omschrijving  \\\n",
       "0                  Niet van toepassing   \n",
       "1                  Niet van toepassing   \n",
       "\n",
       "  AquoMetadata.WaardeBepalingstechniek.Code  \\\n",
       "0                                       NVT   \n",
       "1                                       NVT   \n",
       "\n",
       "  AquoMetadata.WaardeBepalingstechniek.Omschrijving  \\\n",
       "0                     Waarde is niet van toepassing   \n",
       "1                     Waarde is niet van toepassing   \n",
       "\n",
       "  AquoMetadata.WaardeBepalingsmethode.Code  \\\n",
       "0                               other:F039   \n",
       "1                               other:F027   \n",
       "\n",
       "    AquoMetadata.WaardeBepalingsmethode.Omschrijving  \\\n",
       "0  Rek. gem. waterhoogte over vorige 2,5 en volge...   \n",
       "1  Rekenkundig gemiddelde waarde over vorige 3 en...   \n",
       "\n",
       "  AquoMetadata.WaardeBewerkingsmethode.Code  \\\n",
       "0                                       NVT   \n",
       "1                                       NVT   \n",
       "\n",
       "  AquoMetadata.WaardeBewerkingsmethode.Omschrijving  \n",
       "0                               Niet van toepassing  \n",
       "1                               Niet van toepassing  \n",
       "\n",
       "[2 rows x 48 columns]"
      ]
     },
     "execution_count": 15,
     "metadata": {},
     "output_type": "execute_result"
    }
   ],
   "source": [
    "WaarnemingenLijst = pd.json_normalize(raw, record_path = 'WaarnemingenLijst')\n",
    "WaarnemingenLijst"
   ]
  },
  {
   "cell_type": "code",
   "execution_count": 16,
   "metadata": {},
   "outputs": [
    {
     "data": {
      "text/plain": [
       "Index(['MetingenLijst', 'Locatie.Locatie_MessageID',\n",
       "       'Locatie.Coordinatenstelsel', 'Locatie.X', 'Locatie.Y', 'Locatie.Naam',\n",
       "       'Locatie.Code', 'AquoMetadata.AquoMetadata_MessageID',\n",
       "       'AquoMetadata.Parameter_Wat_Omschrijving',\n",
       "       'AquoMetadata.BemonsteringsApparaat.Code',\n",
       "       'AquoMetadata.BemonsteringsApparaat.Omschrijving',\n",
       "       'AquoMetadata.BemonsteringsMethode.Code',\n",
       "       'AquoMetadata.BemonsteringsMethode.Omschrijving',\n",
       "       'AquoMetadata.BemonsteringsSoort.Code',\n",
       "       'AquoMetadata.BemonsteringsSoort.Omschrijving',\n",
       "       'AquoMetadata.BioTaxon.Code', 'AquoMetadata.BioTaxon.Omschrijving',\n",
       "       'AquoMetadata.BioTaxonType', 'AquoMetadata.BioTaxon_Compartiment.Code',\n",
       "       'AquoMetadata.BioTaxon_Compartiment.Omschrijving',\n",
       "       'AquoMetadata.Compartiment.Code',\n",
       "       'AquoMetadata.Compartiment.Omschrijving', 'AquoMetadata.Eenheid.Code',\n",
       "       'AquoMetadata.Eenheid.Omschrijving', 'AquoMetadata.Grootheid.Code',\n",
       "       'AquoMetadata.Grootheid.Omschrijving', 'AquoMetadata.Hoedanigheid.Code',\n",
       "       'AquoMetadata.Hoedanigheid.Omschrijving',\n",
       "       'AquoMetadata.MeetApparaat.Code',\n",
       "       'AquoMetadata.MeetApparaat.Omschrijving',\n",
       "       'AquoMetadata.MonsterBewerkingsMethode.Code',\n",
       "       'AquoMetadata.MonsterBewerkingsMethode.Omschrijving',\n",
       "       'AquoMetadata.Orgaan.Code', 'AquoMetadata.Orgaan.Omschrijving',\n",
       "       'AquoMetadata.Parameter.Code', 'AquoMetadata.Parameter.Omschrijving',\n",
       "       'AquoMetadata.PlaatsBepalingsApparaat.Code',\n",
       "       'AquoMetadata.PlaatsBepalingsApparaat.Omschrijving',\n",
       "       'AquoMetadata.Typering.Code', 'AquoMetadata.Typering.Omschrijving',\n",
       "       'AquoMetadata.Groepering.Code', 'AquoMetadata.Groepering.Omschrijving',\n",
       "       'AquoMetadata.WaardeBepalingstechniek.Code',\n",
       "       'AquoMetadata.WaardeBepalingstechniek.Omschrijving',\n",
       "       'AquoMetadata.WaardeBepalingsmethode.Code',\n",
       "       'AquoMetadata.WaardeBepalingsmethode.Omschrijving',\n",
       "       'AquoMetadata.WaardeBewerkingsmethode.Code',\n",
       "       'AquoMetadata.WaardeBewerkingsmethode.Omschrijving'],\n",
       "      dtype='object')"
      ]
     },
     "execution_count": 16,
     "metadata": {},
     "output_type": "execute_result"
    }
   ],
   "source": [
    "WaarnemingenLijst.columns"
   ]
  },
  {
   "cell_type": "code",
   "execution_count": 17,
   "metadata": {},
   "outputs": [
    {
     "data": {
      "text/plain": [
       "Index(['Tijdstip', 'Meetwaarde.Waarde_Numeriek',\n",
       "       'WaarnemingMetadata.StatuswaardeLijst',\n",
       "       'WaarnemingMetadata.BemonsteringshoogteLijst',\n",
       "       'WaarnemingMetadata.ReferentievlakLijst',\n",
       "       'WaarnemingMetadata.OpdrachtgevendeInstantieLijst',\n",
       "       'WaarnemingMetadata.KwaliteitswaardecodeLijst', 'Locatie',\n",
       "       'AquoMetadata'],\n",
       "      dtype='object')"
      ]
     },
     "execution_count": 17,
     "metadata": {},
     "output_type": "execute_result"
    }
   ],
   "source": [
    "MetingenLijst = pd.json_normalize(data = raw['WaarnemingenLijst'], record_path = 'MetingenLijst', meta = ['Locatie', 'AquoMetadata'])\n",
    "MetingenLijst.columns"
   ]
  },
  {
   "attachments": {},
   "cell_type": "markdown",
   "metadata": {},
   "source": [
    "That's better. Some columns are lists of dictionaries. So flattening and keeping what we need only. Starting with location data"
   ]
  },
  {
   "cell_type": "code",
   "execution_count": 18,
   "metadata": {},
   "outputs": [
    {
     "data": {
      "text/plain": [
       "0        Gecontroleerd\n",
       "1        Gecontroleerd\n",
       "2        Gecontroleerd\n",
       "3        Gecontroleerd\n",
       "4        Gecontroleerd\n",
       "            ...       \n",
       "333    Ongecontroleerd\n",
       "334    Ongecontroleerd\n",
       "335    Ongecontroleerd\n",
       "336    Ongecontroleerd\n",
       "337    Ongecontroleerd\n",
       "Name: WaarnemingMetadata.StatuswaardeLijst, Length: 338, dtype: object"
      ]
     },
     "execution_count": 18,
     "metadata": {},
     "output_type": "execute_result"
    }
   ],
   "source": [
    "MetingenLijst['WaarnemingMetadata.StatuswaardeLijst'].explode()"
   ]
  },
  {
   "cell_type": "code",
   "execution_count": 19,
   "metadata": {},
   "outputs": [
    {
     "name": "stdout",
     "output_type": "stream",
     "text": [
      "54.2 ms ± 3.42 ms per loop (mean ± std. dev. of 7 runs, 10 loops each)\n"
     ]
    }
   ],
   "source": [
    "%timeit MetingenLijst['Locatie'].apply(pd.Series)"
   ]
  },
  {
   "cell_type": "code",
   "execution_count": 20,
   "metadata": {},
   "outputs": [
    {
     "data": {
      "application/vnd.jupyter.widget-view+json": {
       "model_id": "c64caa09b10c4715b9c7cd8b54025766",
       "version_major": 2,
       "version_minor": 0
      },
      "text/plain": [
       "Pandas Apply:   0%|          | 0/338 [00:00<?, ?it/s]"
      ]
     },
     "metadata": {},
     "output_type": "display_data"
    },
    {
     "data": {
      "application/vnd.jupyter.widget-view+json": {
       "model_id": "b748542859954220a1b76776ebb7db1d",
       "version_major": 2,
       "version_minor": 0
      },
      "text/plain": [
       "Pandas Apply:   0%|          | 0/338 [00:00<?, ?it/s]"
      ]
     },
     "metadata": {},
     "output_type": "display_data"
    },
    {
     "data": {
      "application/vnd.jupyter.widget-view+json": {
       "model_id": "82f4c02b2f214fe2905b17721f87c816",
       "version_major": 2,
       "version_minor": 0
      },
      "text/plain": [
       "Pandas Apply:   0%|          | 0/338 [00:00<?, ?it/s]"
      ]
     },
     "metadata": {},
     "output_type": "display_data"
    },
    {
     "data": {
      "application/vnd.jupyter.widget-view+json": {
       "model_id": "2820225eb61e4096b9d52e1976e90aa9",
       "version_major": 2,
       "version_minor": 0
      },
      "text/plain": [
       "Pandas Apply:   0%|          | 0/338 [00:00<?, ?it/s]"
      ]
     },
     "metadata": {},
     "output_type": "display_data"
    },
    {
     "data": {
      "application/vnd.jupyter.widget-view+json": {
       "model_id": "dfab423e986a45c29ecd862eb9a5959a",
       "version_major": 2,
       "version_minor": 0
      },
      "text/plain": [
       "Pandas Apply:   0%|          | 0/338 [00:00<?, ?it/s]"
      ]
     },
     "metadata": {},
     "output_type": "display_data"
    },
    {
     "data": {
      "application/vnd.jupyter.widget-view+json": {
       "model_id": "02a41ca507cb4d50a211c750707d2e00",
       "version_major": 2,
       "version_minor": 0
      },
      "text/plain": [
       "Pandas Apply:   0%|          | 0/338 [00:00<?, ?it/s]"
      ]
     },
     "metadata": {},
     "output_type": "display_data"
    },
    {
     "data": {
      "application/vnd.jupyter.widget-view+json": {
       "model_id": "5736e1e18ec847ffb45135eca6d682ac",
       "version_major": 2,
       "version_minor": 0
      },
      "text/plain": [
       "Pandas Apply:   0%|          | 0/338 [00:00<?, ?it/s]"
      ]
     },
     "metadata": {},
     "output_type": "display_data"
    },
    {
     "data": {
      "application/vnd.jupyter.widget-view+json": {
       "model_id": "c5218996963d4313aee69dfef3da28a7",
       "version_major": 2,
       "version_minor": 0
      },
      "text/plain": [
       "Pandas Apply:   0%|          | 0/338 [00:00<?, ?it/s]"
      ]
     },
     "metadata": {},
     "output_type": "display_data"
    },
    {
     "data": {
      "application/vnd.jupyter.widget-view+json": {
       "model_id": "b00dde3ec2554f7d9b0bf8a1d060e462",
       "version_major": 2,
       "version_minor": 0
      },
      "text/plain": [
       "Pandas Apply:   0%|          | 0/338 [00:00<?, ?it/s]"
      ]
     },
     "metadata": {},
     "output_type": "display_data"
    },
    {
     "data": {
      "application/vnd.jupyter.widget-view+json": {
       "model_id": "1f88313b177d4c43a03e996db0219a1d",
       "version_major": 2,
       "version_minor": 0
      },
      "text/plain": [
       "Pandas Apply:   0%|          | 0/338 [00:00<?, ?it/s]"
      ]
     },
     "metadata": {},
     "output_type": "display_data"
    },
    {
     "data": {
      "application/vnd.jupyter.widget-view+json": {
       "model_id": "940e7f791f6a4fd383bf65f489c4b385",
       "version_major": 2,
       "version_minor": 0
      },
      "text/plain": [
       "Pandas Apply:   0%|          | 0/338 [00:00<?, ?it/s]"
      ]
     },
     "metadata": {},
     "output_type": "display_data"
    },
    {
     "data": {
      "application/vnd.jupyter.widget-view+json": {
       "model_id": "e953f9b2ac6b46dda7f5742103f917f8",
       "version_major": 2,
       "version_minor": 0
      },
      "text/plain": [
       "Pandas Apply:   0%|          | 0/338 [00:00<?, ?it/s]"
      ]
     },
     "metadata": {},
     "output_type": "display_data"
    },
    {
     "data": {
      "application/vnd.jupyter.widget-view+json": {
       "model_id": "ea0a37468afe4954b9f2f91b7aee133d",
       "version_major": 2,
       "version_minor": 0
      },
      "text/plain": [
       "Pandas Apply:   0%|          | 0/338 [00:00<?, ?it/s]"
      ]
     },
     "metadata": {},
     "output_type": "display_data"
    },
    {
     "data": {
      "application/vnd.jupyter.widget-view+json": {
       "model_id": "ac74c927bd784da1bc0ab8b161b581a5",
       "version_major": 2,
       "version_minor": 0
      },
      "text/plain": [
       "Pandas Apply:   0%|          | 0/338 [00:00<?, ?it/s]"
      ]
     },
     "metadata": {},
     "output_type": "display_data"
    },
    {
     "data": {
      "application/vnd.jupyter.widget-view+json": {
       "model_id": "0fcce4e5117e407fac62411fd41f01d0",
       "version_major": 2,
       "version_minor": 0
      },
      "text/plain": [
       "Pandas Apply:   0%|          | 0/338 [00:00<?, ?it/s]"
      ]
     },
     "metadata": {},
     "output_type": "display_data"
    },
    {
     "data": {
      "application/vnd.jupyter.widget-view+json": {
       "model_id": "a01b46f286104ef9ab95a94a5c043864",
       "version_major": 2,
       "version_minor": 0
      },
      "text/plain": [
       "Pandas Apply:   0%|          | 0/338 [00:00<?, ?it/s]"
      ]
     },
     "metadata": {},
     "output_type": "display_data"
    },
    {
     "data": {
      "application/vnd.jupyter.widget-view+json": {
       "model_id": "d8753fcd0cdb4fb2bc80bb2d0d2b6fe3",
       "version_major": 2,
       "version_minor": 0
      },
      "text/plain": [
       "Pandas Apply:   0%|          | 0/338 [00:00<?, ?it/s]"
      ]
     },
     "metadata": {},
     "output_type": "display_data"
    },
    {
     "data": {
      "application/vnd.jupyter.widget-view+json": {
       "model_id": "a475ddef095e48e581097fcbd2f05fbc",
       "version_major": 2,
       "version_minor": 0
      },
      "text/plain": [
       "Pandas Apply:   0%|          | 0/338 [00:00<?, ?it/s]"
      ]
     },
     "metadata": {},
     "output_type": "display_data"
    },
    {
     "data": {
      "application/vnd.jupyter.widget-view+json": {
       "model_id": "5cff523b3e3a44d6b778ab99d46c5303",
       "version_major": 2,
       "version_minor": 0
      },
      "text/plain": [
       "Pandas Apply:   0%|          | 0/338 [00:00<?, ?it/s]"
      ]
     },
     "metadata": {},
     "output_type": "display_data"
    },
    {
     "data": {
      "application/vnd.jupyter.widget-view+json": {
       "model_id": "2fd1c6e54cbd4490ba966a543b4139a3",
       "version_major": 2,
       "version_minor": 0
      },
      "text/plain": [
       "Pandas Apply:   0%|          | 0/338 [00:00<?, ?it/s]"
      ]
     },
     "metadata": {},
     "output_type": "display_data"
    },
    {
     "data": {
      "application/vnd.jupyter.widget-view+json": {
       "model_id": "53d4379b65d84a2c87830a54e7e68831",
       "version_major": 2,
       "version_minor": 0
      },
      "text/plain": [
       "Pandas Apply:   0%|          | 0/338 [00:00<?, ?it/s]"
      ]
     },
     "metadata": {},
     "output_type": "display_data"
    },
    {
     "data": {
      "application/vnd.jupyter.widget-view+json": {
       "model_id": "6d6f16390ef54b6baa323928e47d78a7",
       "version_major": 2,
       "version_minor": 0
      },
      "text/plain": [
       "Pandas Apply:   0%|          | 0/338 [00:00<?, ?it/s]"
      ]
     },
     "metadata": {},
     "output_type": "display_data"
    },
    {
     "data": {
      "application/vnd.jupyter.widget-view+json": {
       "model_id": "38d85895ec3d4bd2b6ca39fca2cd841f",
       "version_major": 2,
       "version_minor": 0
      },
      "text/plain": [
       "Pandas Apply:   0%|          | 0/338 [00:00<?, ?it/s]"
      ]
     },
     "metadata": {},
     "output_type": "display_data"
    },
    {
     "data": {
      "application/vnd.jupyter.widget-view+json": {
       "model_id": "07b8b9a3d6a94cb589fb98c2e8dc40c9",
       "version_major": 2,
       "version_minor": 0
      },
      "text/plain": [
       "Pandas Apply:   0%|          | 0/338 [00:00<?, ?it/s]"
      ]
     },
     "metadata": {},
     "output_type": "display_data"
    },
    {
     "data": {
      "application/vnd.jupyter.widget-view+json": {
       "model_id": "f7fb89b9b1a24ddb9f8879fefb164eb4",
       "version_major": 2,
       "version_minor": 0
      },
      "text/plain": [
       "Pandas Apply:   0%|          | 0/338 [00:00<?, ?it/s]"
      ]
     },
     "metadata": {},
     "output_type": "display_data"
    },
    {
     "data": {
      "application/vnd.jupyter.widget-view+json": {
       "model_id": "01c7b5c3ca3e4ec1910a353dc7290085",
       "version_major": 2,
       "version_minor": 0
      },
      "text/plain": [
       "Pandas Apply:   0%|          | 0/338 [00:00<?, ?it/s]"
      ]
     },
     "metadata": {},
     "output_type": "display_data"
    },
    {
     "data": {
      "application/vnd.jupyter.widget-view+json": {
       "model_id": "6fe0ace781ab45e9b552826fcb6b0a90",
       "version_major": 2,
       "version_minor": 0
      },
      "text/plain": [
       "Pandas Apply:   0%|          | 0/338 [00:00<?, ?it/s]"
      ]
     },
     "metadata": {},
     "output_type": "display_data"
    },
    {
     "data": {
      "application/vnd.jupyter.widget-view+json": {
       "model_id": "f81fe438dbff47d29e0b09bbff2d792b",
       "version_major": 2,
       "version_minor": 0
      },
      "text/plain": [
       "Pandas Apply:   0%|          | 0/338 [00:00<?, ?it/s]"
      ]
     },
     "metadata": {},
     "output_type": "display_data"
    },
    {
     "data": {
      "application/vnd.jupyter.widget-view+json": {
       "model_id": "adb8edfe69454d9eb26e99e259656b0f",
       "version_major": 2,
       "version_minor": 0
      },
      "text/plain": [
       "Pandas Apply:   0%|          | 0/338 [00:00<?, ?it/s]"
      ]
     },
     "metadata": {},
     "output_type": "display_data"
    },
    {
     "data": {
      "application/vnd.jupyter.widget-view+json": {
       "model_id": "3ecd53eb21e14f5e8ffbecbbbbd1ce0c",
       "version_major": 2,
       "version_minor": 0
      },
      "text/plain": [
       "Pandas Apply:   0%|          | 0/338 [00:00<?, ?it/s]"
      ]
     },
     "metadata": {},
     "output_type": "display_data"
    },
    {
     "data": {
      "application/vnd.jupyter.widget-view+json": {
       "model_id": "0c1c7f63a7b1471ca8ef1f80ff2dcd66",
       "version_major": 2,
       "version_minor": 0
      },
      "text/plain": [
       "Pandas Apply:   0%|          | 0/338 [00:00<?, ?it/s]"
      ]
     },
     "metadata": {},
     "output_type": "display_data"
    },
    {
     "data": {
      "application/vnd.jupyter.widget-view+json": {
       "model_id": "1e14c7e100b94099a53b67289465f592",
       "version_major": 2,
       "version_minor": 0
      },
      "text/plain": [
       "Pandas Apply:   0%|          | 0/338 [00:00<?, ?it/s]"
      ]
     },
     "metadata": {},
     "output_type": "display_data"
    },
    {
     "data": {
      "application/vnd.jupyter.widget-view+json": {
       "model_id": "c9b433665d304138b551d6dc483de546",
       "version_major": 2,
       "version_minor": 0
      },
      "text/plain": [
       "Pandas Apply:   0%|          | 0/338 [00:00<?, ?it/s]"
      ]
     },
     "metadata": {},
     "output_type": "display_data"
    },
    {
     "data": {
      "application/vnd.jupyter.widget-view+json": {
       "model_id": "64a94dfe387a464e9e941ab76cfed9ba",
       "version_major": 2,
       "version_minor": 0
      },
      "text/plain": [
       "Pandas Apply:   0%|          | 0/338 [00:00<?, ?it/s]"
      ]
     },
     "metadata": {},
     "output_type": "display_data"
    },
    {
     "data": {
      "application/vnd.jupyter.widget-view+json": {
       "model_id": "a2fd8d9b0291408e8950b65dce6e9cbb",
       "version_major": 2,
       "version_minor": 0
      },
      "text/plain": [
       "Pandas Apply:   0%|          | 0/338 [00:00<?, ?it/s]"
      ]
     },
     "metadata": {},
     "output_type": "display_data"
    },
    {
     "data": {
      "application/vnd.jupyter.widget-view+json": {
       "model_id": "4c744233726049b0925b7fda6b57efab",
       "version_major": 2,
       "version_minor": 0
      },
      "text/plain": [
       "Pandas Apply:   0%|          | 0/338 [00:00<?, ?it/s]"
      ]
     },
     "metadata": {},
     "output_type": "display_data"
    },
    {
     "data": {
      "application/vnd.jupyter.widget-view+json": {
       "model_id": "88e91848ed77406c92782236bfcb7420",
       "version_major": 2,
       "version_minor": 0
      },
      "text/plain": [
       "Pandas Apply:   0%|          | 0/338 [00:00<?, ?it/s]"
      ]
     },
     "metadata": {},
     "output_type": "display_data"
    },
    {
     "data": {
      "application/vnd.jupyter.widget-view+json": {
       "model_id": "f8bee7135d1648efa245f3354b1dd685",
       "version_major": 2,
       "version_minor": 0
      },
      "text/plain": [
       "Pandas Apply:   0%|          | 0/338 [00:00<?, ?it/s]"
      ]
     },
     "metadata": {},
     "output_type": "display_data"
    },
    {
     "data": {
      "application/vnd.jupyter.widget-view+json": {
       "model_id": "f1d7d61ad1054876af1f8a400234627a",
       "version_major": 2,
       "version_minor": 0
      },
      "text/plain": [
       "Pandas Apply:   0%|          | 0/338 [00:00<?, ?it/s]"
      ]
     },
     "metadata": {},
     "output_type": "display_data"
    },
    {
     "data": {
      "application/vnd.jupyter.widget-view+json": {
       "model_id": "409141e2864640998aaa0b937320f441",
       "version_major": 2,
       "version_minor": 0
      },
      "text/plain": [
       "Pandas Apply:   0%|          | 0/338 [00:00<?, ?it/s]"
      ]
     },
     "metadata": {},
     "output_type": "display_data"
    },
    {
     "data": {
      "application/vnd.jupyter.widget-view+json": {
       "model_id": "6077377db9eb455da895198b8c8f155a",
       "version_major": 2,
       "version_minor": 0
      },
      "text/plain": [
       "Pandas Apply:   0%|          | 0/338 [00:00<?, ?it/s]"
      ]
     },
     "metadata": {},
     "output_type": "display_data"
    },
    {
     "data": {
      "application/vnd.jupyter.widget-view+json": {
       "model_id": "186242ca16304a6ea8f40e80df8f8e40",
       "version_major": 2,
       "version_minor": 0
      },
      "text/plain": [
       "Pandas Apply:   0%|          | 0/338 [00:00<?, ?it/s]"
      ]
     },
     "metadata": {},
     "output_type": "display_data"
    },
    {
     "data": {
      "application/vnd.jupyter.widget-view+json": {
       "model_id": "9d0204cc79c446aaa335ca1c76a050f7",
       "version_major": 2,
       "version_minor": 0
      },
      "text/plain": [
       "Pandas Apply:   0%|          | 0/338 [00:00<?, ?it/s]"
      ]
     },
     "metadata": {},
     "output_type": "display_data"
    },
    {
     "data": {
      "application/vnd.jupyter.widget-view+json": {
       "model_id": "28aa30a5b99a4e249cf3d67b86e400b9",
       "version_major": 2,
       "version_minor": 0
      },
      "text/plain": [
       "Pandas Apply:   0%|          | 0/338 [00:00<?, ?it/s]"
      ]
     },
     "metadata": {},
     "output_type": "display_data"
    },
    {
     "data": {
      "application/vnd.jupyter.widget-view+json": {
       "model_id": "b5e37b545c28483c87921b03639bdbdc",
       "version_major": 2,
       "version_minor": 0
      },
      "text/plain": [
       "Pandas Apply:   0%|          | 0/338 [00:00<?, ?it/s]"
      ]
     },
     "metadata": {},
     "output_type": "display_data"
    },
    {
     "data": {
      "application/vnd.jupyter.widget-view+json": {
       "model_id": "e91ce58090fe46e28fbc42238a996527",
       "version_major": 2,
       "version_minor": 0
      },
      "text/plain": [
       "Pandas Apply:   0%|          | 0/338 [00:00<?, ?it/s]"
      ]
     },
     "metadata": {},
     "output_type": "display_data"
    },
    {
     "data": {
      "application/vnd.jupyter.widget-view+json": {
       "model_id": "599d5f9331e1459db085f42082e08742",
       "version_major": 2,
       "version_minor": 0
      },
      "text/plain": [
       "Pandas Apply:   0%|          | 0/338 [00:00<?, ?it/s]"
      ]
     },
     "metadata": {},
     "output_type": "display_data"
    },
    {
     "data": {
      "application/vnd.jupyter.widget-view+json": {
       "model_id": "6004784807b04c8cae35e11fc0733e02",
       "version_major": 2,
       "version_minor": 0
      },
      "text/plain": [
       "Pandas Apply:   0%|          | 0/338 [00:00<?, ?it/s]"
      ]
     },
     "metadata": {},
     "output_type": "display_data"
    },
    {
     "data": {
      "application/vnd.jupyter.widget-view+json": {
       "model_id": "6fcd4034cc954026ac63193b8d75f798",
       "version_major": 2,
       "version_minor": 0
      },
      "text/plain": [
       "Pandas Apply:   0%|          | 0/338 [00:00<?, ?it/s]"
      ]
     },
     "metadata": {},
     "output_type": "display_data"
    },
    {
     "data": {
      "application/vnd.jupyter.widget-view+json": {
       "model_id": "c5b2fae081ab4c4da9ab0bb324b21017",
       "version_major": 2,
       "version_minor": 0
      },
      "text/plain": [
       "Pandas Apply:   0%|          | 0/338 [00:00<?, ?it/s]"
      ]
     },
     "metadata": {},
     "output_type": "display_data"
    },
    {
     "data": {
      "application/vnd.jupyter.widget-view+json": {
       "model_id": "1e0cd4876f054d5582399f92d14d8d6e",
       "version_major": 2,
       "version_minor": 0
      },
      "text/plain": [
       "Pandas Apply:   0%|          | 0/338 [00:00<?, ?it/s]"
      ]
     },
     "metadata": {},
     "output_type": "display_data"
    },
    {
     "data": {
      "application/vnd.jupyter.widget-view+json": {
       "model_id": "52172f92816349deb8158b7dd019cf62",
       "version_major": 2,
       "version_minor": 0
      },
      "text/plain": [
       "Pandas Apply:   0%|          | 0/338 [00:00<?, ?it/s]"
      ]
     },
     "metadata": {},
     "output_type": "display_data"
    },
    {
     "data": {
      "application/vnd.jupyter.widget-view+json": {
       "model_id": "f48ba5e1f4a249c680859b509f3c6d93",
       "version_major": 2,
       "version_minor": 0
      },
      "text/plain": [
       "Pandas Apply:   0%|          | 0/338 [00:00<?, ?it/s]"
      ]
     },
     "metadata": {},
     "output_type": "display_data"
    },
    {
     "data": {
      "application/vnd.jupyter.widget-view+json": {
       "model_id": "1f3473081eb04c8ebc9905cf51c582d5",
       "version_major": 2,
       "version_minor": 0
      },
      "text/plain": [
       "Pandas Apply:   0%|          | 0/338 [00:00<?, ?it/s]"
      ]
     },
     "metadata": {},
     "output_type": "display_data"
    },
    {
     "data": {
      "application/vnd.jupyter.widget-view+json": {
       "model_id": "57266c0c9c9b4101a8822e364c6f1de3",
       "version_major": 2,
       "version_minor": 0
      },
      "text/plain": [
       "Pandas Apply:   0%|          | 0/338 [00:00<?, ?it/s]"
      ]
     },
     "metadata": {},
     "output_type": "display_data"
    },
    {
     "data": {
      "application/vnd.jupyter.widget-view+json": {
       "model_id": "30fe980f02c54983a2b3f03051ba9e62",
       "version_major": 2,
       "version_minor": 0
      },
      "text/plain": [
       "Pandas Apply:   0%|          | 0/338 [00:00<?, ?it/s]"
      ]
     },
     "metadata": {},
     "output_type": "display_data"
    },
    {
     "data": {
      "application/vnd.jupyter.widget-view+json": {
       "model_id": "b603a91d59d747e8b042bb9de6bc955c",
       "version_major": 2,
       "version_minor": 0
      },
      "text/plain": [
       "Pandas Apply:   0%|          | 0/338 [00:00<?, ?it/s]"
      ]
     },
     "metadata": {},
     "output_type": "display_data"
    },
    {
     "data": {
      "application/vnd.jupyter.widget-view+json": {
       "model_id": "935d984f03664c53b12f6ab1af795cca",
       "version_major": 2,
       "version_minor": 0
      },
      "text/plain": [
       "Pandas Apply:   0%|          | 0/338 [00:00<?, ?it/s]"
      ]
     },
     "metadata": {},
     "output_type": "display_data"
    },
    {
     "data": {
      "application/vnd.jupyter.widget-view+json": {
       "model_id": "b3d0b84e925c4ee7a63cc258c587bf70",
       "version_major": 2,
       "version_minor": 0
      },
      "text/plain": [
       "Pandas Apply:   0%|          | 0/338 [00:00<?, ?it/s]"
      ]
     },
     "metadata": {},
     "output_type": "display_data"
    },
    {
     "data": {
      "application/vnd.jupyter.widget-view+json": {
       "model_id": "5e2cc214abe945ad9b7c1c4d9055b66d",
       "version_major": 2,
       "version_minor": 0
      },
      "text/plain": [
       "Pandas Apply:   0%|          | 0/338 [00:00<?, ?it/s]"
      ]
     },
     "metadata": {},
     "output_type": "display_data"
    },
    {
     "data": {
      "application/vnd.jupyter.widget-view+json": {
       "model_id": "da2845655f1548378ff7ea1e570d3017",
       "version_major": 2,
       "version_minor": 0
      },
      "text/plain": [
       "Pandas Apply:   0%|          | 0/338 [00:00<?, ?it/s]"
      ]
     },
     "metadata": {},
     "output_type": "display_data"
    },
    {
     "data": {
      "application/vnd.jupyter.widget-view+json": {
       "model_id": "6c25abef339342a1a02a7746250e4307",
       "version_major": 2,
       "version_minor": 0
      },
      "text/plain": [
       "Pandas Apply:   0%|          | 0/338 [00:00<?, ?it/s]"
      ]
     },
     "metadata": {},
     "output_type": "display_data"
    },
    {
     "data": {
      "application/vnd.jupyter.widget-view+json": {
       "model_id": "9520faff3d8b4f37bfca95c0291b1c2c",
       "version_major": 2,
       "version_minor": 0
      },
      "text/plain": [
       "Pandas Apply:   0%|          | 0/338 [00:00<?, ?it/s]"
      ]
     },
     "metadata": {},
     "output_type": "display_data"
    },
    {
     "data": {
      "application/vnd.jupyter.widget-view+json": {
       "model_id": "91885fb146d94a5c8a79535777be7b74",
       "version_major": 2,
       "version_minor": 0
      },
      "text/plain": [
       "Pandas Apply:   0%|          | 0/338 [00:00<?, ?it/s]"
      ]
     },
     "metadata": {},
     "output_type": "display_data"
    },
    {
     "data": {
      "application/vnd.jupyter.widget-view+json": {
       "model_id": "d1011dcc022d4c1390a8e42135d03ab1",
       "version_major": 2,
       "version_minor": 0
      },
      "text/plain": [
       "Pandas Apply:   0%|          | 0/338 [00:00<?, ?it/s]"
      ]
     },
     "metadata": {},
     "output_type": "display_data"
    },
    {
     "data": {
      "application/vnd.jupyter.widget-view+json": {
       "model_id": "897f02c92e074a7f8ae5ff55970b6ac4",
       "version_major": 2,
       "version_minor": 0
      },
      "text/plain": [
       "Pandas Apply:   0%|          | 0/338 [00:00<?, ?it/s]"
      ]
     },
     "metadata": {},
     "output_type": "display_data"
    },
    {
     "data": {
      "application/vnd.jupyter.widget-view+json": {
       "model_id": "a5cba079f5c24a7abcef408fe1ed2a25",
       "version_major": 2,
       "version_minor": 0
      },
      "text/plain": [
       "Pandas Apply:   0%|          | 0/338 [00:00<?, ?it/s]"
      ]
     },
     "metadata": {},
     "output_type": "display_data"
    },
    {
     "data": {
      "application/vnd.jupyter.widget-view+json": {
       "model_id": "57bda5288d6b4549aab358f092390048",
       "version_major": 2,
       "version_minor": 0
      },
      "text/plain": [
       "Pandas Apply:   0%|          | 0/338 [00:00<?, ?it/s]"
      ]
     },
     "metadata": {},
     "output_type": "display_data"
    },
    {
     "data": {
      "application/vnd.jupyter.widget-view+json": {
       "model_id": "14d189be04ae4f43bcbcead0f3972f2f",
       "version_major": 2,
       "version_minor": 0
      },
      "text/plain": [
       "Pandas Apply:   0%|          | 0/338 [00:00<?, ?it/s]"
      ]
     },
     "metadata": {},
     "output_type": "display_data"
    },
    {
     "data": {
      "application/vnd.jupyter.widget-view+json": {
       "model_id": "9e2ef59e95104b60baf9be6871ac496a",
       "version_major": 2,
       "version_minor": 0
      },
      "text/plain": [
       "Pandas Apply:   0%|          | 0/338 [00:00<?, ?it/s]"
      ]
     },
     "metadata": {},
     "output_type": "display_data"
    },
    {
     "data": {
      "application/vnd.jupyter.widget-view+json": {
       "model_id": "22547b462435471dbac264c697845ca0",
       "version_major": 2,
       "version_minor": 0
      },
      "text/plain": [
       "Pandas Apply:   0%|          | 0/338 [00:00<?, ?it/s]"
      ]
     },
     "metadata": {},
     "output_type": "display_data"
    },
    {
     "data": {
      "application/vnd.jupyter.widget-view+json": {
       "model_id": "6d18b94e11234a9a9fc81801ce635d45",
       "version_major": 2,
       "version_minor": 0
      },
      "text/plain": [
       "Pandas Apply:   0%|          | 0/338 [00:00<?, ?it/s]"
      ]
     },
     "metadata": {},
     "output_type": "display_data"
    },
    {
     "data": {
      "application/vnd.jupyter.widget-view+json": {
       "model_id": "cc1e051be03b43b0ba1480b75c578bd7",
       "version_major": 2,
       "version_minor": 0
      },
      "text/plain": [
       "Pandas Apply:   0%|          | 0/338 [00:00<?, ?it/s]"
      ]
     },
     "metadata": {},
     "output_type": "display_data"
    },
    {
     "data": {
      "application/vnd.jupyter.widget-view+json": {
       "model_id": "1a883dfb184b48a895ef29e508b5c3ac",
       "version_major": 2,
       "version_minor": 0
      },
      "text/plain": [
       "Pandas Apply:   0%|          | 0/338 [00:00<?, ?it/s]"
      ]
     },
     "metadata": {},
     "output_type": "display_data"
    },
    {
     "data": {
      "application/vnd.jupyter.widget-view+json": {
       "model_id": "ad3063a224be4381942c57bf992f0984",
       "version_major": 2,
       "version_minor": 0
      },
      "text/plain": [
       "Pandas Apply:   0%|          | 0/338 [00:00<?, ?it/s]"
      ]
     },
     "metadata": {},
     "output_type": "display_data"
    },
    {
     "data": {
      "application/vnd.jupyter.widget-view+json": {
       "model_id": "bffeabdc61ab4039a8d7633dfab16b7d",
       "version_major": 2,
       "version_minor": 0
      },
      "text/plain": [
       "Pandas Apply:   0%|          | 0/338 [00:00<?, ?it/s]"
      ]
     },
     "metadata": {},
     "output_type": "display_data"
    },
    {
     "data": {
      "application/vnd.jupyter.widget-view+json": {
       "model_id": "b03da92e99e44d04bbf53a7d637bfe1c",
       "version_major": 2,
       "version_minor": 0
      },
      "text/plain": [
       "Pandas Apply:   0%|          | 0/338 [00:00<?, ?it/s]"
      ]
     },
     "metadata": {},
     "output_type": "display_data"
    },
    {
     "data": {
      "application/vnd.jupyter.widget-view+json": {
       "model_id": "2a58082e60a14061995490ed0e3514cd",
       "version_major": 2,
       "version_minor": 0
      },
      "text/plain": [
       "Pandas Apply:   0%|          | 0/338 [00:00<?, ?it/s]"
      ]
     },
     "metadata": {},
     "output_type": "display_data"
    },
    {
     "data": {
      "application/vnd.jupyter.widget-view+json": {
       "model_id": "dbd1683504b243a8858b68ac3f37caae",
       "version_major": 2,
       "version_minor": 0
      },
      "text/plain": [
       "Pandas Apply:   0%|          | 0/338 [00:00<?, ?it/s]"
      ]
     },
     "metadata": {},
     "output_type": "display_data"
    },
    {
     "data": {
      "application/vnd.jupyter.widget-view+json": {
       "model_id": "5e0eed78aadd4286b68616ba9f080780",
       "version_major": 2,
       "version_minor": 0
      },
      "text/plain": [
       "Pandas Apply:   0%|          | 0/338 [00:00<?, ?it/s]"
      ]
     },
     "metadata": {},
     "output_type": "display_data"
    },
    {
     "data": {
      "application/vnd.jupyter.widget-view+json": {
       "model_id": "94e0a0213e8246539b02e5802fb83c05",
       "version_major": 2,
       "version_minor": 0
      },
      "text/plain": [
       "Pandas Apply:   0%|          | 0/338 [00:00<?, ?it/s]"
      ]
     },
     "metadata": {},
     "output_type": "display_data"
    },
    {
     "name": "stdout",
     "output_type": "stream",
     "text": [
      "107 ms ± 2.6 ms per loop (mean ± std. dev. of 7 runs, 10 loops each)\n"
     ]
    }
   ],
   "source": [
    "%timeit MetingenLijst['Locatie'].swifter.apply(pd.Series)"
   ]
  },
  {
   "cell_type": "code",
   "execution_count": 21,
   "metadata": {},
   "outputs": [
    {
     "name": "stdout",
     "output_type": "stream",
     "text": [
      "1.67 ms ± 488 µs per loop (mean ± std. dev. of 7 runs, 100 loops each)\n"
     ]
    }
   ],
   "source": [
    "%timeit pd.json_normalize(MetingenLijst['Locatie'])"
   ]
  },
  {
   "cell_type": "code",
   "execution_count": 22,
   "metadata": {},
   "outputs": [
    {
     "name": "stdout",
     "output_type": "stream",
     "text": [
      "1.62 s ± 55.4 ms per loop (mean ± std. dev. of 7 runs, 1 loop each)\n"
     ]
    }
   ],
   "source": [
    "%timeit MetingenLijst['Tijdstip'].apply(pd.to_datetime)"
   ]
  },
  {
   "cell_type": "code",
   "execution_count": 23,
   "metadata": {},
   "outputs": [
    {
     "name": "stdout",
     "output_type": "stream",
     "text": [
      "263 ms ± 17 ms per loop (mean ± std. dev. of 7 runs, 1 loop each)\n"
     ]
    }
   ],
   "source": [
    "%timeit pd.to_datetime(MetingenLijst['Tijdstip'])"
   ]
  },
  {
   "cell_type": "code",
   "execution_count": 24,
   "metadata": {},
   "outputs": [
    {
     "name": "stdout",
     "output_type": "stream",
     "text": [
      "247 ms ± 41.9 ms per loop (mean ± std. dev. of 7 runs, 1 loop each)\n"
     ]
    }
   ],
   "source": [
    "%timeit MetingenLijst['Tijdstip'].astype('datetime64[ns]')"
   ]
  },
  {
   "cell_type": "code",
   "execution_count": 25,
   "metadata": {},
   "outputs": [
    {
     "name": "stdout",
     "output_type": "stream",
     "text": [
      "223 ms ± 7.85 ms per loop (mean ± std. dev. of 7 runs, 1 loop each)\n"
     ]
    }
   ],
   "source": [
    "%timeit MetingenLijst.astype({'Tijdstip': 'datetime64[ns]'})"
   ]
  }
 ],
 "metadata": {
  "kernelspec": {
   "display_name": "Python 3",
   "language": "python",
   "name": "python3"
  },
  "language_info": {
   "codemirror_mode": {
    "name": "ipython",
    "version": 3
   },
   "file_extension": ".py",
   "mimetype": "text/x-python",
   "name": "python",
   "nbconvert_exporter": "python",
   "pygments_lexer": "ipython3",
   "version": "3.11.1"
  },
  "orig_nbformat": 4,
  "vscode": {
   "interpreter": {
    "hash": "05ad6e141627109892faf34bd2f02470890fd16d41ae8a47c3d98a356d7605c5"
   }
  }
 },
 "nbformat": 4,
 "nbformat_minor": 2
}
